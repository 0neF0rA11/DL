{
  "cells": [
    {
      "cell_type": "markdown",
      "metadata": {
        "id": "P2JdzEXmwRU5"
      },
      "source": [
        "---"
      ]
    },
    {
      "cell_type": "markdown",
      "metadata": {
        "id": "BIWqBuEa6j0b"
      },
      "source": [
        "## Задача поиска схожих по смыслу предложений"
      ]
    },
    {
      "cell_type": "markdown",
      "metadata": {
        "id": "NUkwMPLA6j0g"
      },
      "source": [
        "Мы будем ранжировать вопросы [StackOverflow](https://stackoverflow.com) на основе семантического векторного представления"
      ]
    },
    {
      "cell_type": "markdown",
      "metadata": {
        "id": "dNRXIEfu5a3Q"
      },
      "source": [
        "До этого в курсе не было речи про задачу ранжировния, поэтому введем математическую формулировку"
      ]
    },
    {
      "cell_type": "markdown",
      "metadata": {
        "id": "uS9FwWNd5a3S"
      },
      "source": [
        "## Задача ранжирования(Learning to Rank)"
      ]
    },
    {
      "cell_type": "markdown",
      "metadata": {
        "id": "wdwY9-f75a3T"
      },
      "source": [
        "* $X$ - множество объектов\n",
        "* $X^l = \\{x_1, x_2, ..., x_l\\}$ - обучающая выборка\n",
        "<br>На обучающей выборке задан порядок между некоторыми элементами, то есть нам известно, что некий объект выборки более релевантный для нас, чем другой:\n",
        "* $i \\prec j$ - порядок пары индексов объектов на выборке $X^l$ c индексами $i$ и $j$\n",
        "### Задача:\n",
        "построить ранжирующую функцию $a$ : $X \\rightarrow R$ такую, что\n",
        "$$i \\prec j \\Rightarrow a(x_i) < a(x_j)$$"
      ]
    },
    {
      "cell_type": "markdown",
      "metadata": {
        "id": "WG2IGBsh5a3U"
      },
      "source": [
        "<img src=\"https://d25skit2l41vkl.cloudfront.net/wp-content/uploads/2016/12/Featured-Image.jpg\" width=500, height=450>"
      ]
    },
    {
      "cell_type": "markdown",
      "metadata": {
        "id": "MQk_rolFwT_h"
      },
      "source": [
        "### Embeddings"
      ]
    },
    {
      "cell_type": "markdown",
      "metadata": {
        "id": "xUe1PGXn6j0l"
      },
      "source": [
        "Будем использовать предобученные векторные представления слов на постах Stack Overflow.<br>\n",
        "[A word2vec model trained on Stack Overflow posts](https://github.com/vefstathiou/SO_word2vec)"
      ]
    },
    {
      "cell_type": "code",
      "execution_count": null,
      "metadata": {
        "colab": {
          "base_uri": "https://localhost:8080/"
        },
        "id": "mYkI54Y-rk7a",
        "outputId": "716fa274-90d0-4059-99fc-499d16b97f6e"
      },
      "outputs": [
        {
          "output_type": "stream",
          "name": "stdout",
          "text": [
            "--2023-10-04 07:27:09--  https://zenodo.org/record/1199620/files/SO_vectors_200.bin?download=1\n",
            "Resolving zenodo.org (zenodo.org)... 188.185.124.72\n",
            "Connecting to zenodo.org (zenodo.org)|188.185.124.72|:443... connected.\n",
            "HTTP request sent, awaiting response... 200 OK\n",
            "Length: 1453905423 (1.4G) [application/octet-stream]\n",
            "Saving to: ‘SO_vectors_200.bin?download=1.1’\n",
            "\n",
            "SO_vectors_200.bin? 100%[===================>]   1.35G   511KB/s    in 47m 35s \n",
            "\n",
            "2023-10-04 08:14:46 (497 KB/s) - ‘SO_vectors_200.bin?download=1.1’ saved [1453905423/1453905423]\n",
            "\n"
          ]
        }
      ],
      "source": [
        "!wget https://zenodo.org/record/1199620/files/SO_vectors_200.bin?download=1"
      ]
    },
    {
      "cell_type": "code",
      "source": [
        "from google.colab import drive\n",
        "import shutil\n",
        "\n",
        "drive.mount('/content/drive')\n",
        "bin_file_path = '/content/SO_vectors_200.bin?download=1.1'\n",
        "\n",
        "drive_path = '/content/drive/MyDrive/'\n",
        "\n",
        "# Копируем бин файл на Google Диск\n",
        "shutil.copy(bin_file_path, drive_path)"
      ],
      "metadata": {
        "colab": {
          "base_uri": "https://localhost:8080/",
          "height": 53
        },
        "id": "sMzgKqPBnKKW",
        "outputId": "d17ec57c-64c1-468c-dc7c-0c363787e6ad"
      },
      "execution_count": null,
      "outputs": [
        {
          "output_type": "stream",
          "name": "stdout",
          "text": [
            "Drive already mounted at /content/drive; to attempt to forcibly remount, call drive.mount(\"/content/drive\", force_remount=True).\n"
          ]
        },
        {
          "output_type": "execute_result",
          "data": {
            "text/plain": [
              "'/content/drive/MyDrive/SO_vectors_200.bin?download=1.1'"
            ],
            "application/vnd.google.colaboratory.intrinsic+json": {
              "type": "string"
            }
          },
          "metadata": {},
          "execution_count": 5
        }
      ]
    },
    {
      "cell_type": "code",
      "source": [
        "from google.colab import drive\n",
        "\n",
        "drive.mount('/content/drive')\n",
        "drive_path = '/content/drive/MyDrive/SO_vectors_200.bin?download=1.1'\n",
        "colab_path = '/content'\n",
        "#Копируем бин файл в колаб\n",
        "!cp $drive_path $colab_path"
      ],
      "metadata": {
        "colab": {
          "base_uri": "https://localhost:8080/"
        },
        "id": "2IgS6tg8n7J1",
        "outputId": "96ee3064-82ef-49d4-c8db-a7e1cc809597"
      },
      "execution_count": null,
      "outputs": [
        {
          "output_type": "stream",
          "name": "stdout",
          "text": [
            "Mounted at /content/drive\n"
          ]
        }
      ]
    },
    {
      "cell_type": "code",
      "execution_count": null,
      "metadata": {
        "id": "O8YJTOYv6j0s"
      },
      "outputs": [],
      "source": [
        "from gensim.models.keyedvectors import KeyedVectors\n",
        "wv_embeddings = KeyedVectors.load_word2vec_format(\"SO_vectors_200.bin?download=1.1\", binary=True)"
      ]
    },
    {
      "cell_type": "markdown",
      "metadata": {
        "id": "aIcT_g-C6j1E"
      },
      "source": [
        "#### Как пользоваться этими векторами?"
      ]
    },
    {
      "cell_type": "markdown",
      "metadata": {
        "id": "DWO5SPDY6j1G"
      },
      "source": [
        "Посмотрим на примере одного слова, что из себя представляет embedding"
      ]
    },
    {
      "cell_type": "code",
      "execution_count": null,
      "metadata": {
        "id": "KeSBlQfk6j1J",
        "scrolled": true,
        "colab": {
          "base_uri": "https://localhost:8080/"
        },
        "outputId": "8a5c2c52-f52c-4d32-c905-e7aba26e022a"
      },
      "outputs": [
        {
          "output_type": "stream",
          "name": "stdout",
          "text": [
            "float32 (200,)\n"
          ]
        }
      ],
      "source": [
        "word = 'dog'\n",
        "if word in wv_embeddings:\n",
        "    print(wv_embeddings[word].dtype, wv_embeddings[word].shape)"
      ]
    },
    {
      "cell_type": "code",
      "execution_count": null,
      "metadata": {
        "id": "T4Eq-D1qxpMJ",
        "colab": {
          "base_uri": "https://localhost:8080/"
        },
        "outputId": "34a28e61-b768-4fa2-be05-fb52e1d2d557"
      },
      "outputs": [
        {
          "output_type": "stream",
          "name": "stdout",
          "text": [
            "Num of words: 1787145\n"
          ]
        }
      ],
      "source": [
        "print(f\"Num of words: {len(wv_embeddings.index_to_key)}\")"
      ]
    },
    {
      "cell_type": "markdown",
      "metadata": {
        "id": "ZT6NTCys6j1Q"
      },
      "source": [
        "Найдем наиболее близкие слова к слову `dog`:"
      ]
    },
    {
      "cell_type": "code",
      "source": [
        "wv_embeddings.most_similar(\"dog\")"
      ],
      "metadata": {
        "colab": {
          "base_uri": "https://localhost:8080/"
        },
        "id": "NeTIXjlNy_JI",
        "outputId": "8365b3e0-1279-433c-83a1-7df35d55958a"
      },
      "execution_count": null,
      "outputs": [
        {
          "output_type": "execute_result",
          "data": {
            "text/plain": [
              "[('animal', 0.8564180135726929),\n",
              " ('dogs', 0.7880866527557373),\n",
              " ('mammal', 0.7623804211616516),\n",
              " ('cats', 0.7621253728866577),\n",
              " ('animals', 0.760793924331665),\n",
              " ('feline', 0.7392398715019226),\n",
              " ('bird', 0.7315488457679749),\n",
              " ('animal1', 0.7219215631484985),\n",
              " ('doggy', 0.7213349342346191),\n",
              " ('labrador', 0.7209131717681885)]"
            ]
          },
          "metadata": {},
          "execution_count": 15
        }
      ]
    },
    {
      "cell_type": "markdown",
      "metadata": {
        "id": "n08z2PjMwC5o"
      },
      "source": [
        "#### Вопрос 1:\n",
        "* Входит ли слов `cat` топ-5 близких слов к слову `dog`? Какое место?"
      ]
    },
    {
      "cell_type": "code",
      "execution_count": null,
      "metadata": {
        "id": "nYwVz0xG6j1U",
        "scrolled": true,
        "colab": {
          "base_uri": "https://localhost:8080/"
        },
        "outputId": "b482a1c7-30ca-4fea-a1e4-a6bbbf847534"
      },
      "outputs": [
        {
          "output_type": "execute_result",
          "data": {
            "text/plain": [
              "[('animal', 0.8564180135726929),\n",
              " ('dogs', 0.7880866527557373),\n",
              " ('mammal', 0.7623804211616516),\n",
              " ('cats', 0.7621253728866577),\n",
              " ('animals', 0.760793924331665)]"
            ]
          },
          "metadata": {},
          "execution_count": 16
        }
      ],
      "source": [
        "# method most_similar\n",
        "wv_embeddings.most_similar(\"dog\", topn=5)"
      ]
    },
    {
      "cell_type": "code",
      "source": [
        "wv_embeddings.similarity(\"dog\", \"cat\")"
      ],
      "metadata": {
        "colab": {
          "base_uri": "https://localhost:8080/"
        },
        "id": "YsPCTsUL0pvd",
        "outputId": "b80b7af2-1339-474a-b3ee-7157d4efdee3"
      },
      "execution_count": null,
      "outputs": [
        {
          "output_type": "execute_result",
          "data": {
            "text/plain": [
              "0.6852341"
            ]
          },
          "metadata": {},
          "execution_count": 17
        }
      ]
    },
    {
      "cell_type": "code",
      "source": [
        "# Загрузка google embedding\n",
        "from google.colab import drive\n",
        "\n",
        "drive.mount('/content/drive')\n",
        "drive_path = '/content/drive/MyDrive/GoogleNews-vectors-negative300.bin'\n",
        "colab_path = '/content'\n",
        "#Копируем бин файл в колаб\n",
        "!cp $drive_path $colab_path"
      ],
      "metadata": {
        "colab": {
          "base_uri": "https://localhost:8080/"
        },
        "id": "SYG24tMD9fRj",
        "outputId": "be69a577-a5b6-4037-bc6f-270cce78d69c"
      },
      "execution_count": null,
      "outputs": [
        {
          "output_type": "stream",
          "name": "stdout",
          "text": [
            "Drive already mounted at /content/drive; to attempt to forcibly remount, call drive.mount(\"/content/drive\", force_remount=True).\n"
          ]
        }
      ]
    },
    {
      "cell_type": "code",
      "source": [
        "from google.colab import drive\n",
        "drive.mount('/content/drive')"
      ],
      "metadata": {
        "id": "NJytyk1TiOSc"
      },
      "execution_count": null,
      "outputs": []
    },
    {
      "cell_type": "code",
      "source": [
        "# Воспользуемся word2vec-google-news-300 для дополнительного анализа\n",
        "\n",
        "google_news_embeddings = KeyedVectors.load_word2vec_format(\"GoogleNews-vectors-negative300.bin\", binary=True)"
      ],
      "metadata": {
        "id": "pDWj1vaT77aa"
      },
      "execution_count": null,
      "outputs": []
    },
    {
      "cell_type": "code",
      "source": [
        "word = 'dog'\n",
        "if word in google_news_embeddings:\n",
        "    print(google_news_embeddings[word].dtype, google_news_embeddings[word].shape)"
      ],
      "metadata": {
        "colab": {
          "base_uri": "https://localhost:8080/"
        },
        "id": "FCLRXTinIn7s",
        "outputId": "2ad54f84-f7ce-45a6-d964-3956bc8a1e14"
      },
      "execution_count": null,
      "outputs": [
        {
          "output_type": "stream",
          "name": "stdout",
          "text": [
            "float32 (300,)\n"
          ]
        }
      ]
    },
    {
      "cell_type": "markdown",
      "source": [
        "Формат stack overflow и google embadding не отличается, вектор стал длиннее\n",
        "\n"
      ],
      "metadata": {
        "id": "abkrkr0_IyO1"
      }
    },
    {
      "cell_type": "code",
      "source": [
        "# Топ 5 близких слов к слову \"dog\" в GNE\n",
        "google_news_embeddings.most_similar(\"dog\", topn=5)"
      ],
      "metadata": {
        "colab": {
          "base_uri": "https://localhost:8080/"
        },
        "id": "QciqORd_ItIs",
        "outputId": "b86a71c9-7eb1-4a12-ae27-a9b098375ed2"
      },
      "execution_count": null,
      "outputs": [
        {
          "output_type": "execute_result",
          "data": {
            "text/plain": [
              "[('dogs', 0.8680489659309387),\n",
              " ('puppy', 0.8106428384780884),\n",
              " ('pit_bull', 0.780396044254303),\n",
              " ('pooch', 0.7627376914024353),\n",
              " ('cat', 0.7609457969665527)]"
            ]
          },
          "metadata": {},
          "execution_count": 25
        }
      ]
    },
    {
      "cell_type": "code",
      "source": [
        "google_news_embeddings.similarity(\"dog\", \"cat\")"
      ],
      "metadata": {
        "colab": {
          "base_uri": "https://localhost:8080/"
        },
        "id": "bUf0rE8hJVzS",
        "outputId": "bf1a2344-e626-413c-be95-23f90a8b20db"
      },
      "execution_count": null,
      "outputs": [
        {
          "output_type": "execute_result",
          "data": {
            "text/plain": [
              "0.76094574"
            ]
          },
          "metadata": {},
          "execution_count": 26
        }
      ]
    },
    {
      "cell_type": "markdown",
      "source": [
        "Если рассматривать google news embeddings, то cat входит в топ 5 схожих слов с dog. При этом коэффициент схожести выше, чем у stack overflow; если рассматривать топ 5 слов, то есть только одно совпадение (и оно логичное) dogs"
      ],
      "metadata": {
        "id": "mwIDd9ROQdTU"
      }
    },
    {
      "cell_type": "markdown",
      "metadata": {
        "id": "ai48-5vv6j1d"
      },
      "source": [
        "### Векторные представления текста\n",
        "\n",
        "Перейдем от векторных представлений отдельных слов к векторным представлениям вопросов, как к **среднему** векторов всех слов в вопросе. Если для какого-то слова нет предобученного вектора, то его нужно пропустить. Если вопрос не содержит ни одного известного слова, то нужно вернуть нулевой вектор."
      ]
    },
    {
      "cell_type": "code",
      "execution_count": null,
      "metadata": {
        "id": "EhNuxBJd6j1f"
      },
      "outputs": [],
      "source": [
        "import numpy as np\n",
        "import re\n",
        "# you can use your tokenizer\n",
        "# for example, from nltk.tokenize import WordPunctTokenizer\n",
        "class MyTokenizer:\n",
        "    def __init__(self):\n",
        "        pass\n",
        "    def tokenize(self, text):\n",
        "        return re.findall('\\w+', text)\n",
        "tokenizer = MyTokenizer()"
      ]
    },
    {
      "cell_type": "code",
      "execution_count": null,
      "metadata": {
        "id": "YHcvu6186j1m"
      },
      "outputs": [],
      "source": [
        "def question_to_vec(question, embeddings, tokenizer, dim=200):\n",
        "    \"\"\"\n",
        "        question: строка\n",
        "        embeddings: наше векторное представление\n",
        "        dim: размер любого вектора в нашем представлении\n",
        "\n",
        "        return: векторное представление для вопроса\n",
        "    \"\"\"\n",
        "    words = tokenizer.tokenize(question)\n",
        "    vectors = [embeddings[word] for word in words if word in embeddings]\n",
        "    if vectors:\n",
        "      return np.mean(vectors, axis=0)\n",
        "    if not vectors:\n",
        "      return np.zeros(dim)"
      ]
    },
    {
      "cell_type": "markdown",
      "metadata": {
        "id": "u5Q_4j7r6j1u"
      },
      "source": [
        "Теперь у нас есть метод для создания векторного представления любого предложения."
      ]
    },
    {
      "cell_type": "markdown",
      "metadata": {
        "id": "EsJSNkhm6j1y"
      },
      "source": [
        "#### Вопрос 2:\n",
        "* Какая третья(с индексом 2) компонента вектора предложения `I love neural networks` (округлите до 2 знаков после запятой)?"
      ]
    },
    {
      "cell_type": "code",
      "execution_count": null,
      "metadata": {
        "id": "a62r11cT6j10",
        "scrolled": true,
        "colab": {
          "base_uri": "https://localhost:8080/"
        },
        "outputId": "0eff5237-43f7-4d80-fe3c-7cf2129b7e87"
      },
      "outputs": [
        {
          "output_type": "execute_result",
          "data": {
            "text/plain": [
              "-1.29"
            ]
          },
          "metadata": {},
          "execution_count": 29
        }
      ],
      "source": [
        "# В stack overflow\n",
        "round(question_to_vec(\"I love neural networks\", wv_embeddings, tokenizer)[2], 2)"
      ]
    },
    {
      "cell_type": "code",
      "source": [
        "# В google news\n",
        "round(question_to_vec(\"I love neural networks\", google_news_embeddings, tokenizer)[2], 2)"
      ],
      "metadata": {
        "colab": {
          "base_uri": "https://localhost:8080/"
        },
        "id": "rDVl4C1QO0rK",
        "outputId": "4177c2cf-1781-4fe8-ec7e-99198f152da1"
      },
      "execution_count": null,
      "outputs": [
        {
          "output_type": "execute_result",
          "data": {
            "text/plain": [
              "0.02"
            ]
          },
          "metadata": {},
          "execution_count": 30
        }
      ]
    },
    {
      "cell_type": "markdown",
      "metadata": {
        "id": "Y60z4t6W6j16"
      },
      "source": [
        "### Оценка близости текстов\n",
        "\n",
        "Представим, что мы используем идеальные векторные представления слов. Тогда косинусное расстояние между дублирующими предложениями должно быть меньше, чем между случайно взятыми предложениями.\n",
        "\n",
        "Сгенерируем для каждого из $N$ вопросов $R$ случайных отрицательных примеров и примешаем к ним также настоящие дубликаты. Для каждого вопроса будем ранжировать с помощью нашей модели $R + 1$ примеров и смотреть на позицию дубликата. Мы хотим, чтобы дубликат был первым в ранжированном списке.\n",
        "\n",
        "#### Hits@K\n",
        "Первой простой метрикой будет количество корректных попаданий для какого-то $K$:\n",
        "$$ \\text{Hits@K} = \\frac{1}{N}\\sum_{i=1}^N \\, [rank\\_q_i^{'} \\le K],$$\n",
        "* $\\begin{equation*}\n",
        "[x < 0 ] \\equiv\n",
        " \\begin{cases}\n",
        "   1, &x < 0\\\\\n",
        "   0, &x \\geq 0\n",
        " \\end{cases}\n",
        "\\end{equation*}$ - индикаторная функция\n",
        "* $q_i$ - $i$-ый вопрос\n",
        "* $q_i^{'}$ - его дубликат\n",
        "* $rank\\_q_i^{'}$ - позиция дубликата в ранжированном списке ближайших предложений для вопроса $q_i$.\n",
        "\n",
        "#### DCG@K\n",
        "Второй метрикой будет упрощенная DCG метрика, учитывающая порядок элементов в списке путем домножения релевантности элемента на вес равный обратному логарифму номера позиции::\n",
        "$$ \\text{DCG@K} = \\frac{1}{N} \\sum_{i=1}^N\\frac{1}{\\log_2(1+rank\\_q_i^{'})}\\cdot[rank\\_q_i^{'} \\le K],$$\n",
        "С такой метрикой модель штрафуется за большой ранк корректного ответа"
      ]
    },
    {
      "cell_type": "markdown",
      "metadata": {
        "id": "eHCnH-jw6j18"
      },
      "source": [
        "#### Вопрос 3:\n",
        "* Максимум `Hits@47 - DCG@1`?"
      ]
    },
    {
      "cell_type": "markdown",
      "source": [
        "\n",
        "Для поиска максимума в разности нужно, чтобы уменьшаемое было максимальным, а вычитаемое минимальным\n",
        "1.   Hist@47 - доля правильных предсказаний в первых 47 предсказаниях, ее максимум = 1\n",
        "2.   DCG@1 - показывает насколько сильно первое предсказание соответствует поисковому запросу (аналогия с поиском для понимания), ее минимум = 0, например, гуглишь фотографию кота, а тебе выдает подсолнух.\n",
        "\n",
        "Вывод: Максимальная разница равна 1.\n",
        "\n"
      ],
      "metadata": {
        "id": "SpWa7eD4Wmgv"
      }
    },
    {
      "cell_type": "markdown",
      "metadata": {
        "id": "_tFemBkP6j1-"
      },
      "source": [
        "<img src='https://hsto.org/files/1c5/edf/dee/1c5edfdeebce4b71a86bdf986d9f88f2.jpg' width=400, height=200>"
      ]
    },
    {
      "cell_type": "markdown",
      "metadata": {
        "id": "0sUSxk866j1_"
      },
      "source": [
        "#### Пример оценок\n",
        "\n",
        "Вычислим описанные выше метрики для игрушечного примера.\n",
        "Пусть\n",
        "* $N = 1$, $R = 3$\n",
        "* <font color='green'>\"Что такое python?\"</font> - вопрос $q_1$\n",
        "* <font color='red'>\"Что такое язык python?\"</font> - его дубликат $q_i^{'}$\n",
        "\n",
        "Пусть модель выдала следующий ранжированный список кандидатов:\n",
        "\n",
        "1. \"Как изучить с++?\"\n",
        "2. <font color='red'>\"Что такое язык python?\"</font>\n",
        "3. \"Хочу учить Java\"\n",
        "4. \"Не понимаю Tensorflow\"\n",
        "\n",
        "$\\Rightarrow rank\\_q_i^{'} = 2$\n",
        "\n",
        "Вычислим метрику *Hits@K* для *K = 1, 4*:\n",
        "\n",
        "- [K = 1] $\\text{Hits@1} =  [rank\\_q_i^{'} \\le 1)] = 0$\n",
        "- [K = 4] $\\text{Hits@4} =  [rank\\_q_i^{'} \\le 4] = 1$\n",
        "\n",
        "Вычислим метрику *DCG@K* для *K = 1, 4*:\n",
        "- [K = 1] $\\text{DCG@1} = \\frac{1}{\\log_2(1+2)}\\cdot[2 \\le 1] = 0$\n",
        "- [K = 4] $\\text{DCG@4} = \\frac{1}{\\log_2(1+2)}\\cdot[2 \\le 4] = \\frac{1}{\\log_2{3}}$"
      ]
    },
    {
      "cell_type": "markdown",
      "metadata": {
        "id": "B4L6HJJC6j2B"
      },
      "source": [
        "#### Вопрос 4:\n",
        "* Вычислите `DCG@10`, если $rank\\_q_i^{'} = 9$(округлите до одного знака после запятой)"
      ]
    },
    {
      "cell_type": "code",
      "source": [
        "def DCG_at_K(rank_qi, k):\n",
        "  return 1/np.log2(1+rank_qi) * (rank_qi <= k)"
      ],
      "metadata": {
        "id": "BS8zSrCianIZ"
      },
      "execution_count": null,
      "outputs": []
    },
    {
      "cell_type": "code",
      "source": [
        "DCG_at_K(9, 10)"
      ],
      "metadata": {
        "colab": {
          "base_uri": "https://localhost:8080/"
        },
        "id": "H6JBAombdEbO",
        "outputId": "5fa4320a-03a8-4a3e-9510-b93d17c8f1a4"
      },
      "execution_count": null,
      "outputs": [
        {
          "output_type": "execute_result",
          "data": {
            "text/plain": [
              "0.3010299956639812"
            ]
          },
          "metadata": {},
          "execution_count": 44
        }
      ]
    },
    {
      "cell_type": "markdown",
      "metadata": {
        "id": "J5xWOORI6j2F"
      },
      "source": [
        "### HITS\\_COUNT и DCG\\_SCORE"
      ]
    },
    {
      "cell_type": "markdown",
      "metadata": {
        "id": "I1q9WQOx6j2H"
      },
      "source": [
        "Каждая функция имеет два аргумента: $dup\\_ranks$ и $k$. $dup\\_ranks$ является списком, который содержит рейтинги дубликатов(их позиции в ранжированном списке). Например, $dup\\_ranks = [2]$ для примера, описанного выше."
      ]
    },
    {
      "cell_type": "code",
      "execution_count": null,
      "metadata": {
        "id": "F5VwySUB6j2J"
      },
      "outputs": [],
      "source": [
        "def hits_count(dup_ranks, k):\n",
        "    \"\"\"\n",
        "        dup_ranks: list индексов дубликатов\n",
        "        result: вернуть  Hits@k\n",
        "    \"\"\"\n",
        "    hits_value = np.array([rank_qi <= k for rank_qi in dup_ranks])\n",
        "    return hits_value.mean()"
      ]
    },
    {
      "cell_type": "code",
      "execution_count": null,
      "metadata": {
        "id": "82hQaxCH6j2R"
      },
      "outputs": [],
      "source": [
        "def dcg_score(dup_ranks, k):\n",
        "    \"\"\"\n",
        "        dup_ranks: list индексов дубликатов\n",
        "        result: вернуть DCG@k\n",
        "    \"\"\"\n",
        "    dcg_value = np.array([1/np.log2(1+rank_qi) * (rank_qi <= k) for rank_qi in dup_ranks])\n",
        "    return dcg_value.mean()"
      ]
    },
    {
      "cell_type": "markdown",
      "metadata": {
        "id": "PcwHeXN26j2Y"
      },
      "source": [
        "Протестируем функции. Пусть $N = 1$, то есть один эксперимент. Будем искать копию вопроса и оценивать метрики."
      ]
    },
    {
      "cell_type": "code",
      "execution_count": null,
      "metadata": {
        "id": "fjISmOEW6j2h"
      },
      "outputs": [],
      "source": [
        "import pandas as pd"
      ]
    },
    {
      "cell_type": "code",
      "execution_count": null,
      "metadata": {
        "id": "gLa_Wqfh6j2m",
        "colab": {
          "base_uri": "https://localhost:8080/"
        },
        "outputId": "d79cd84f-0e4a-4e2d-a721-806b58d02ae0"
      },
      "outputs": [
        {
          "output_type": "stream",
          "name": "stdout",
          "text": [
            "Ваш ответ HIT: [0.0, 1.0, 1.0, 1.0]\n",
            "Ваш ответ DCG: [0.0, 0.63093, 0.63093, 0.63093]\n"
          ]
        }
      ],
      "source": [
        "copy_answers = [\"How does the catch keyword determine the type of exception that was thrown\",]\n",
        "\n",
        "# наги кандидаты\n",
        "candidates_ranking = [[\"How Can I Make These Links Rotate in PHP\",\n",
        "                       \"How does the catch keyword determine the type of exception that was thrown\",\n",
        "                       \"NSLog array description not memory address\",\n",
        "                       \"PECL_HTTP not recognised php ubuntu\"],]\n",
        "# dup_ranks — позиции наших копий, так как эксперимент один, то этот массив длины 1\n",
        "dup_ranks = [2]\n",
        "\n",
        "# вычисляем метрику для разных k\n",
        "print('Ваш ответ HIT:', [hits_count(dup_ranks, k) for k in range(1, 5)])\n",
        "print('Ваш ответ DCG:', [round(dcg_score(dup_ranks, k), 5) for k in range(1, 5)])"
      ]
    },
    {
      "cell_type": "markdown",
      "metadata": {
        "id": "MoHC3YoQ6j2t"
      },
      "source": [
        "У вас должно получиться"
      ]
    },
    {
      "cell_type": "code",
      "execution_count": null,
      "metadata": {
        "id": "B0NFWq4f6j2u",
        "scrolled": true,
        "colab": {
          "base_uri": "https://localhost:8080/",
          "height": 112
        },
        "outputId": "9d15bfcb-1550-48f0-8094-4ca0b1b4427a"
      },
      "outputs": [
        {
          "output_type": "execute_result",
          "data": {
            "text/plain": [
              "      1        2        3        4\n",
              "HITS  0  1.00000  1.00000  1.00000\n",
              "DCG   0  0.63093  0.63093  0.63093"
            ],
            "text/html": [
              "\n",
              "  <div id=\"df-fcfa4c9b-3184-4d16-a6c7-9b9fcd11a674\" class=\"colab-df-container\">\n",
              "    <div>\n",
              "<style scoped>\n",
              "    .dataframe tbody tr th:only-of-type {\n",
              "        vertical-align: middle;\n",
              "    }\n",
              "\n",
              "    .dataframe tbody tr th {\n",
              "        vertical-align: top;\n",
              "    }\n",
              "\n",
              "    .dataframe thead th {\n",
              "        text-align: right;\n",
              "    }\n",
              "</style>\n",
              "<table border=\"1\" class=\"dataframe\">\n",
              "  <thead>\n",
              "    <tr style=\"text-align: right;\">\n",
              "      <th></th>\n",
              "      <th>1</th>\n",
              "      <th>2</th>\n",
              "      <th>3</th>\n",
              "      <th>4</th>\n",
              "    </tr>\n",
              "  </thead>\n",
              "  <tbody>\n",
              "    <tr>\n",
              "      <th>HITS</th>\n",
              "      <td>0</td>\n",
              "      <td>1.00000</td>\n",
              "      <td>1.00000</td>\n",
              "      <td>1.00000</td>\n",
              "    </tr>\n",
              "    <tr>\n",
              "      <th>DCG</th>\n",
              "      <td>0</td>\n",
              "      <td>0.63093</td>\n",
              "      <td>0.63093</td>\n",
              "      <td>0.63093</td>\n",
              "    </tr>\n",
              "  </tbody>\n",
              "</table>\n",
              "</div>\n",
              "    <div class=\"colab-df-buttons\">\n",
              "\n",
              "  <div class=\"colab-df-container\">\n",
              "    <button class=\"colab-df-convert\" onclick=\"convertToInteractive('df-fcfa4c9b-3184-4d16-a6c7-9b9fcd11a674')\"\n",
              "            title=\"Convert this dataframe to an interactive table.\"\n",
              "            style=\"display:none;\">\n",
              "\n",
              "  <svg xmlns=\"http://www.w3.org/2000/svg\" height=\"24px\" viewBox=\"0 -960 960 960\">\n",
              "    <path d=\"M120-120v-720h720v720H120Zm60-500h600v-160H180v160Zm220 220h160v-160H400v160Zm0 220h160v-160H400v160ZM180-400h160v-160H180v160Zm440 0h160v-160H620v160ZM180-180h160v-160H180v160Zm440 0h160v-160H620v160Z\"/>\n",
              "  </svg>\n",
              "    </button>\n",
              "\n",
              "  <style>\n",
              "    .colab-df-container {\n",
              "      display:flex;\n",
              "      gap: 12px;\n",
              "    }\n",
              "\n",
              "    .colab-df-convert {\n",
              "      background-color: #E8F0FE;\n",
              "      border: none;\n",
              "      border-radius: 50%;\n",
              "      cursor: pointer;\n",
              "      display: none;\n",
              "      fill: #1967D2;\n",
              "      height: 32px;\n",
              "      padding: 0 0 0 0;\n",
              "      width: 32px;\n",
              "    }\n",
              "\n",
              "    .colab-df-convert:hover {\n",
              "      background-color: #E2EBFA;\n",
              "      box-shadow: 0px 1px 2px rgba(60, 64, 67, 0.3), 0px 1px 3px 1px rgba(60, 64, 67, 0.15);\n",
              "      fill: #174EA6;\n",
              "    }\n",
              "\n",
              "    .colab-df-buttons div {\n",
              "      margin-bottom: 4px;\n",
              "    }\n",
              "\n",
              "    [theme=dark] .colab-df-convert {\n",
              "      background-color: #3B4455;\n",
              "      fill: #D2E3FC;\n",
              "    }\n",
              "\n",
              "    [theme=dark] .colab-df-convert:hover {\n",
              "      background-color: #434B5C;\n",
              "      box-shadow: 0px 1px 3px 1px rgba(0, 0, 0, 0.15);\n",
              "      filter: drop-shadow(0px 1px 2px rgba(0, 0, 0, 0.3));\n",
              "      fill: #FFFFFF;\n",
              "    }\n",
              "  </style>\n",
              "\n",
              "    <script>\n",
              "      const buttonEl =\n",
              "        document.querySelector('#df-fcfa4c9b-3184-4d16-a6c7-9b9fcd11a674 button.colab-df-convert');\n",
              "      buttonEl.style.display =\n",
              "        google.colab.kernel.accessAllowed ? 'block' : 'none';\n",
              "\n",
              "      async function convertToInteractive(key) {\n",
              "        const element = document.querySelector('#df-fcfa4c9b-3184-4d16-a6c7-9b9fcd11a674');\n",
              "        const dataTable =\n",
              "          await google.colab.kernel.invokeFunction('convertToInteractive',\n",
              "                                                    [key], {});\n",
              "        if (!dataTable) return;\n",
              "\n",
              "        const docLinkHtml = 'Like what you see? Visit the ' +\n",
              "          '<a target=\"_blank\" href=https://colab.research.google.com/notebooks/data_table.ipynb>data table notebook</a>'\n",
              "          + ' to learn more about interactive tables.';\n",
              "        element.innerHTML = '';\n",
              "        dataTable['output_type'] = 'display_data';\n",
              "        await google.colab.output.renderOutput(dataTable, element);\n",
              "        const docLink = document.createElement('div');\n",
              "        docLink.innerHTML = docLinkHtml;\n",
              "        element.appendChild(docLink);\n",
              "      }\n",
              "    </script>\n",
              "  </div>\n",
              "\n",
              "\n",
              "<div id=\"df-8a598103-f28e-4395-947b-7e58cf202ff8\">\n",
              "  <button class=\"colab-df-quickchart\" onclick=\"quickchart('df-8a598103-f28e-4395-947b-7e58cf202ff8')\"\n",
              "            title=\"Suggest charts.\"\n",
              "            style=\"display:none;\">\n",
              "\n",
              "<svg xmlns=\"http://www.w3.org/2000/svg\" height=\"24px\"viewBox=\"0 0 24 24\"\n",
              "     width=\"24px\">\n",
              "    <g>\n",
              "        <path d=\"M19 3H5c-1.1 0-2 .9-2 2v14c0 1.1.9 2 2 2h14c1.1 0 2-.9 2-2V5c0-1.1-.9-2-2-2zM9 17H7v-7h2v7zm4 0h-2V7h2v10zm4 0h-2v-4h2v4z\"/>\n",
              "    </g>\n",
              "</svg>\n",
              "  </button>\n",
              "\n",
              "<style>\n",
              "  .colab-df-quickchart {\n",
              "      --bg-color: #E8F0FE;\n",
              "      --fill-color: #1967D2;\n",
              "      --hover-bg-color: #E2EBFA;\n",
              "      --hover-fill-color: #174EA6;\n",
              "      --disabled-fill-color: #AAA;\n",
              "      --disabled-bg-color: #DDD;\n",
              "  }\n",
              "\n",
              "  [theme=dark] .colab-df-quickchart {\n",
              "      --bg-color: #3B4455;\n",
              "      --fill-color: #D2E3FC;\n",
              "      --hover-bg-color: #434B5C;\n",
              "      --hover-fill-color: #FFFFFF;\n",
              "      --disabled-bg-color: #3B4455;\n",
              "      --disabled-fill-color: #666;\n",
              "  }\n",
              "\n",
              "  .colab-df-quickchart {\n",
              "    background-color: var(--bg-color);\n",
              "    border: none;\n",
              "    border-radius: 50%;\n",
              "    cursor: pointer;\n",
              "    display: none;\n",
              "    fill: var(--fill-color);\n",
              "    height: 32px;\n",
              "    padding: 0;\n",
              "    width: 32px;\n",
              "  }\n",
              "\n",
              "  .colab-df-quickchart:hover {\n",
              "    background-color: var(--hover-bg-color);\n",
              "    box-shadow: 0 1px 2px rgba(60, 64, 67, 0.3), 0 1px 3px 1px rgba(60, 64, 67, 0.15);\n",
              "    fill: var(--button-hover-fill-color);\n",
              "  }\n",
              "\n",
              "  .colab-df-quickchart-complete:disabled,\n",
              "  .colab-df-quickchart-complete:disabled:hover {\n",
              "    background-color: var(--disabled-bg-color);\n",
              "    fill: var(--disabled-fill-color);\n",
              "    box-shadow: none;\n",
              "  }\n",
              "\n",
              "  .colab-df-spinner {\n",
              "    border: 2px solid var(--fill-color);\n",
              "    border-color: transparent;\n",
              "    border-bottom-color: var(--fill-color);\n",
              "    animation:\n",
              "      spin 1s steps(1) infinite;\n",
              "  }\n",
              "\n",
              "  @keyframes spin {\n",
              "    0% {\n",
              "      border-color: transparent;\n",
              "      border-bottom-color: var(--fill-color);\n",
              "      border-left-color: var(--fill-color);\n",
              "    }\n",
              "    20% {\n",
              "      border-color: transparent;\n",
              "      border-left-color: var(--fill-color);\n",
              "      border-top-color: var(--fill-color);\n",
              "    }\n",
              "    30% {\n",
              "      border-color: transparent;\n",
              "      border-left-color: var(--fill-color);\n",
              "      border-top-color: var(--fill-color);\n",
              "      border-right-color: var(--fill-color);\n",
              "    }\n",
              "    40% {\n",
              "      border-color: transparent;\n",
              "      border-right-color: var(--fill-color);\n",
              "      border-top-color: var(--fill-color);\n",
              "    }\n",
              "    60% {\n",
              "      border-color: transparent;\n",
              "      border-right-color: var(--fill-color);\n",
              "    }\n",
              "    80% {\n",
              "      border-color: transparent;\n",
              "      border-right-color: var(--fill-color);\n",
              "      border-bottom-color: var(--fill-color);\n",
              "    }\n",
              "    90% {\n",
              "      border-color: transparent;\n",
              "      border-bottom-color: var(--fill-color);\n",
              "    }\n",
              "  }\n",
              "</style>\n",
              "\n",
              "  <script>\n",
              "    async function quickchart(key) {\n",
              "      const quickchartButtonEl =\n",
              "        document.querySelector('#' + key + ' button');\n",
              "      quickchartButtonEl.disabled = true;  // To prevent multiple clicks.\n",
              "      quickchartButtonEl.classList.add('colab-df-spinner');\n",
              "      try {\n",
              "        const charts = await google.colab.kernel.invokeFunction(\n",
              "            'suggestCharts', [key], {});\n",
              "      } catch (error) {\n",
              "        console.error('Error during call to suggestCharts:', error);\n",
              "      }\n",
              "      quickchartButtonEl.classList.remove('colab-df-spinner');\n",
              "      quickchartButtonEl.classList.add('colab-df-quickchart-complete');\n",
              "    }\n",
              "    (() => {\n",
              "      let quickchartButtonEl =\n",
              "        document.querySelector('#df-8a598103-f28e-4395-947b-7e58cf202ff8 button');\n",
              "      quickchartButtonEl.style.display =\n",
              "        google.colab.kernel.accessAllowed ? 'block' : 'none';\n",
              "    })();\n",
              "  </script>\n",
              "</div>\n",
              "    </div>\n",
              "  </div>\n"
            ]
          },
          "metadata": {},
          "execution_count": 38
        }
      ],
      "source": [
        "# correct_answers - метрика для разных k\n",
        "\n",
        "correct_answers = pd.DataFrame([[0, 1, 1, 1], [0, 1 / (np.log2(3)), 1 / (np.log2(3)), 1 / (np.log2(3))]],\n",
        "                               index=['HITS', 'DCG'], columns=range(1,5))\n",
        "correct_answers"
      ]
    },
    {
      "cell_type": "markdown",
      "metadata": {
        "id": "ySQQp0oQt1Ep"
      },
      "source": [
        "### Ранжирование без обучения"
      ]
    },
    {
      "cell_type": "markdown",
      "metadata": {
        "id": "iElEDhj-6j3R"
      },
      "source": [
        "Реализуйте функцию ранжирования кандидатов на основе косинусного расстояния. Функция должна по списку кандидатов вернуть отсортированный список пар (позиция в исходном списке кандидатов, кандидат). При этом позиция кандидата в полученном списке является его рейтингом (первый - лучший). Например, если исходный список кандидатов был [a, b, c], и самый похожий на исходный вопрос среди них - c, затем a, и в конце b, то функция должна вернуть список **[(2, c), (0, a), (1, b)]**."
      ]
    },
    {
      "cell_type": "code",
      "execution_count": null,
      "metadata": {
        "id": "K02JARKr6j3T"
      },
      "outputs": [],
      "source": [
        "from sklearn.metrics.pairwise import cosine_similarity\n",
        "from copy import deepcopy"
      ]
    },
    {
      "cell_type": "code",
      "source": [
        "def question_to_vec(question, embeddings, tokenizer, dim=200):\n",
        "    \"\"\"\n",
        "        question: строка\n",
        "        embeddings: наше векторное представление\n",
        "        dim: размер любого вектора в нашем представлении\n",
        "\n",
        "        return: векторное представление для вопроса\n",
        "    \"\"\"\n",
        "    words = tokenizer.tokenize(question)\n",
        "    vectors = [embeddings[word] for word in words if word in embeddings]\n",
        "    if vectors:\n",
        "      return np.mean(vectors, axis=0)\n",
        "    if not vectors:\n",
        "      return np.zeros(dim)"
      ],
      "metadata": {
        "id": "hPLgHz_avd38"
      },
      "execution_count": null,
      "outputs": []
    },
    {
      "cell_type": "code",
      "execution_count": null,
      "metadata": {
        "id": "1yP8wJWj6j3X"
      },
      "outputs": [],
      "source": [
        "def rank_candidates(question, candidates, embeddings, tokenizer, dim=200):\n",
        "    \"\"\"\n",
        "        question: строка\n",
        "        candidates: массив строк(кандидатов) [a, b, c]\n",
        "        result: пары (начальная позиция, кандидат) [(2, c), (0, a), (1, b)]\n",
        "    \"\"\"\n",
        "    question_vector = question_to_vec(question,embeddings, tokenizer, dim).reshape(1, -1)\n",
        "    candidates_vectors = []\n",
        "    for i, candidate in enumerate(candidates):\n",
        "      candidate_vector = question_to_vec(candidate, embeddings, tokenizer, dim).reshape(1, -1)\n",
        "      candidates_vectors.append((i, candidate, cosine_similarity(question_vector,\n",
        "                                                                 candidate_vector)))\n",
        "\n",
        "    candidates_vectors.sort(key=lambda x: x[2], reverse=True)\n",
        "\n",
        "    # Возвращение отсортированного списка пар (позиция, кандидат)\n",
        "    return [(position, candidate) for position, candidate, _ in candidates_vectors]"
      ]
    },
    {
      "cell_type": "markdown",
      "metadata": {
        "id": "TnBszTb76j3c"
      },
      "source": [
        "Протестируйте работу функции на примерах ниже. Пусть $N=2$, то есть два эксперимента"
      ]
    },
    {
      "cell_type": "code",
      "execution_count": null,
      "metadata": {
        "id": "xvQgtP176j3h"
      },
      "outputs": [],
      "source": [
        "questions = ['converting string to list', 'Sending array via Ajax fails']\n",
        "\n",
        "candidates = [['Convert Google results object (pure js) to Python object', # первый эксперимент\n",
        "               'C# create cookie from string and send it',\n",
        "               'How to use jQuery AJAX for an outside domain?'],\n",
        "\n",
        "              ['Getting all list items of an unordered list in PHP',      # второй эксперимент\n",
        "               'WPF- How to update the changes in list item of a list',\n",
        "               'select2 not displaying search results']]"
      ]
    },
    {
      "cell_type": "code",
      "execution_count": null,
      "metadata": {
        "id": "bPj1JGFi6j3m",
        "colab": {
          "base_uri": "https://localhost:8080/"
        },
        "outputId": "f0c10232-53df-4a02-94c1-7e29e86c975c"
      },
      "outputs": [
        {
          "output_type": "stream",
          "name": "stdout",
          "text": [
            "(1, 'C# create cookie from string and send it')\n",
            "(0, 'Convert Google results object (pure js) to Python object')\n",
            "(2, 'How to use jQuery AJAX for an outside domain?')\n",
            "\n",
            "(1, 'WPF- How to update the changes in list item of a list')\n",
            "(0, 'Getting all list items of an unordered list in PHP')\n",
            "(2, 'select2 not displaying search results')\n",
            "\n"
          ]
        }
      ],
      "source": [
        "for question, q_candidates in zip(questions, candidates):\n",
        "        ranks = rank_candidates(question, q_candidates, wv_embeddings, tokenizer)\n",
        "        print(*ranks, sep='\\n')\n",
        "        print()"
      ]
    },
    {
      "cell_type": "code",
      "source": [
        "for question, q_candidates in zip(questions, candidates):\n",
        "        ranks = rank_candidates(question, q_candidates, google_news_embeddings, tokenizer)\n",
        "        print(*ranks, sep='\\n')\n",
        "        print()"
      ],
      "metadata": {
        "colab": {
          "base_uri": "https://localhost:8080/"
        },
        "id": "NEDVbXBrmnYi",
        "outputId": "73f9322c-983e-4505-c2e8-28eb6fc4d766"
      },
      "execution_count": null,
      "outputs": [
        {
          "output_type": "stream",
          "name": "stdout",
          "text": [
            "(1, 'C# create cookie from string and send it')\n",
            "(0, 'Convert Google results object (pure js) to Python object')\n",
            "(2, 'How to use jQuery AJAX for an outside domain?')\n",
            "\n",
            "(0, 'Getting all list items of an unordered list in PHP')\n",
            "(2, 'select2 not displaying search results')\n",
            "(1, 'WPF- How to update the changes in list item of a list')\n",
            "\n"
          ]
        }
      ]
    },
    {
      "cell_type": "markdown",
      "metadata": {
        "id": "jm4cidj56j3q"
      },
      "source": [
        "Для первого экперимента вы можете полностью сравнить ваши ответы и правильные ответы. Но для второго эксперимента два ответа на кандидаты будут <b>скрыты</b>(*)"
      ]
    },
    {
      "cell_type": "code",
      "execution_count": null,
      "metadata": {
        "id": "0LeKMIsn6j3s"
      },
      "outputs": [],
      "source": [
        "# должно вывести\n",
        "results = [[(1, 'C# create cookie from string and send it'),\n",
        "            (0, 'Convert Google results object (pure js) to Python object'),\n",
        "            (2, 'How to use jQuery AJAX for an outside domain?')],\n",
        "           [(0, 'Getting all list items of an unordered list in PHP'), #скрыт\n",
        "            (2, 'select2 not displaying search results'), #скрыт\n",
        "            (1, 'WPF- How to update the changes in list item of a list')]] #скрыт"
      ]
    },
    {
      "cell_type": "markdown",
      "metadata": {
        "id": "t1ttnIBe6j3x"
      },
      "source": [
        "Последовательность начальных индексов вы должны получить `для эксперимента 1`  1, 0, 2."
      ]
    },
    {
      "cell_type": "markdown",
      "metadata": {
        "id": "5WQgYDWd6j3y"
      },
      "source": [
        "#### Вопрос 5:\n",
        "* Какую последовательность начальных индексов вы получили `для эксперимента 2`(перечисление без запятой и пробелов, например, `102` для первого эксперимента?"
      ]
    },
    {
      "cell_type": "markdown",
      "source": [
        "\n",
        "\n",
        "*   Для stack overflow embedding 102\n",
        "*   Для google news embedding 021\n",
        "\n"
      ],
      "metadata": {
        "id": "S-jEoXs_pfKi"
      }
    },
    {
      "cell_type": "markdown",
      "metadata": {
        "id": "fPllOY-Y6j30"
      },
      "source": [
        "Теперь мы можем оценить качество нашего метода. Запустите следующие два блока кода для получения результата. Обратите внимание, что вычисление расстояния между векторами занимает некоторое время (примерно 10 минут). Можете взять для validation 1000 примеров."
      ]
    },
    {
      "cell_type": "markdown",
      "metadata": {
        "id": "tHZqgDTo6j0i"
      },
      "source": [
        "### Данные\n",
        "[arxiv link](https://drive.google.com/file/d/1QqT4D0EoqJTy7v9VrNCYD-m964XZFR7_/edit)\n",
        "\n",
        "`train.tsv` - выборка для обучения.<br> В каждой строке через табуляцию записаны: **<вопрос>, <похожий вопрос>**\n",
        "\n",
        "`validation.tsv` - тестовая выборка.<br> В каждой строке через табуляцию записаны: **<вопрос>, <похожий вопрос>, <отрицательный пример 1>, <отрицательный пример 2>, ...**"
      ]
    },
    {
      "cell_type": "code",
      "source": [
        "from google.colab import drive\n",
        "\n",
        "drive.mount('/content/drive')\n",
        "drive_path = '/content/drive/MyDrive/stackoverflow_similar_questions.zip'\n",
        "colab_path = '/content'\n",
        "#Копируем бин файл в колаб\n",
        "!cp $drive_path $colab_path"
      ],
      "metadata": {
        "colab": {
          "base_uri": "https://localhost:8080/"
        },
        "id": "G-WJWg1QjTi_",
        "outputId": "52fed92b-7294-4cc5-c302-8186640935df"
      },
      "execution_count": null,
      "outputs": [
        {
          "output_type": "stream",
          "name": "stdout",
          "text": [
            "Mounted at /content/drive\n"
          ]
        }
      ]
    },
    {
      "cell_type": "code",
      "execution_count": null,
      "metadata": {
        "colab": {
          "base_uri": "https://localhost:8080/"
        },
        "id": "jKVK2lDGvrIe",
        "outputId": "531f7532-6b04-4631-bcec-17ded5a6dcff"
      },
      "outputs": [
        {
          "output_type": "stream",
          "name": "stdout",
          "text": [
            "Archive:  stackoverflow_similar_questions.zip\n",
            "   creating: data/\n",
            "  inflating: data/.DS_Store          \n",
            "   creating: __MACOSX/\n",
            "   creating: __MACOSX/data/\n",
            "  inflating: __MACOSX/data/._.DS_Store  \n",
            "  inflating: data/train.tsv          \n",
            "  inflating: data/validation.tsv     \n"
          ]
        }
      ],
      "source": [
        "!unzip stackoverflow_similar_questions.zip"
      ]
    },
    {
      "cell_type": "markdown",
      "metadata": {
        "id": "hil2UsUG6j22"
      },
      "source": [
        "Считайте данные."
      ]
    },
    {
      "cell_type": "code",
      "execution_count": null,
      "metadata": {
        "id": "B4EBho8s6j26"
      },
      "outputs": [],
      "source": [
        "def read_corpus(filename):\n",
        "     data = []\n",
        "     with open(filename, 'r', encoding='utf-8') as file:\n",
        "      for line in file:\n",
        "        data.append(line.strip())\n",
        "      return data"
      ]
    },
    {
      "cell_type": "markdown",
      "metadata": {
        "id": "kkTxY3Mk9_nG"
      },
      "source": [
        "Нам понадобиться только файл validation."
      ]
    },
    {
      "cell_type": "code",
      "execution_count": null,
      "metadata": {
        "id": "PTVB9Tnp6j29"
      },
      "outputs": [],
      "source": [
        "validation_data = read_corpus('./data/validation.tsv')"
      ]
    },
    {
      "cell_type": "markdown",
      "metadata": {
        "id": "bTHfL-9y6j3F"
      },
      "source": [
        "Кол-во строк"
      ]
    },
    {
      "cell_type": "code",
      "execution_count": null,
      "metadata": {
        "id": "z6ubXhIe6j3H",
        "scrolled": false,
        "colab": {
          "base_uri": "https://localhost:8080/"
        },
        "outputId": "78fa14a5-f534-456f-f26c-ef865c9bc392"
      },
      "outputs": [
        {
          "output_type": "execute_result",
          "data": {
            "text/plain": [
              "3760"
            ]
          },
          "metadata": {},
          "execution_count": 17
        }
      ],
      "source": [
        "len(validation_data)"
      ]
    },
    {
      "cell_type": "markdown",
      "metadata": {
        "id": "kaOQblBy6j3M"
      },
      "source": [
        "Размер нескольких первых строк"
      ]
    },
    {
      "cell_type": "code",
      "execution_count": null,
      "metadata": {
        "id": "yRx6e-Pe6j3M",
        "colab": {
          "base_uri": "https://localhost:8080/"
        },
        "outputId": "02d248d3-9395-46a1-dee3-a0ae0fde3de3"
      },
      "outputs": [
        {
          "output_type": "stream",
          "name": "stdout",
          "text": [
            "1 54516 How to print a binary heap tree without recursion?\tHow do you best convert a recursive function to an iterative one?\tHow can i use ng-model with directive in angular js\tflash: drawing and erasing\ttoggle react component using hide show classname\tUse a usercontrol from another project to current webpage\t~ Paths resolved differently after upgrading to ASP.NET 4\tMaterialize datepicker - Rendering when an icon is clicked\tCreating PyPi package - Could not find a version that satisfies the requirement iso8601\tHow can I analyze a confusion matrix?\tHow do I declare a C array in Swift?\tUsing rand() when flipping a coin and rolling a die\tHandling a JSON field with a special character in its name in Java\tReact Native select row on ListView when push it\tGet 'creation_time' of video using ffmpeg and regex\tDoes row exist and multiple where\tHow to specify a classifier in a gradle dependency's dependency?\tUsing $unwind on multiple documents\tVisual Studio Code: Missing X509Certificate2UI\tDeveloping Cordova plugins for Firefox OS\tUpdate multiple rows for 2 columns in MySQL\tAnalyse format of alpha-numeric string\tDealing with large TIFF images C++/Magick/libtiff\tWhat does Error: [$injector:unpr] Unknown provider: tProvider <- t <- myActiveLinkDirective mean?\tAngularJS - Apply directive instantly, formating currency\tCan I change the font color on a portion of a string?\tSpring AOP does not intercept methods within Spring's container\tHow to retrieve json in original nested form in apache solr?\tSpatial autocorrelation using Moran's I or other spatial overlap index\thow to stop my php page from continuing when field is empty\tSelecting all CheckBoxes in ListBox not displayed properly\tPHP warning: Illegal string offset 'field'\tWebBrowser control crashes on Windows 10\tError while opening a modal in angular\tPort 25 works when exe run manually but blocked when run as service\tWhy does 6.00 + (plus) 5.00 = \"5.006.00\"?\tCount number of processes created using fork in a for loop\tWhen should I use UIImagePickerControllerSourceTypePhotoLibrary instead of UIImagePickerControllerSourceTypeSavedPhotosAlbum?\tRead File in Java, output the first comma delimited String\tSimple recursive method\tEnsure SQLite table only has one row\tWhy is there a method iterator() on java.util.Collection\tDevelopment for Cloudant using local CouchDB\tRegex to find method calls\tASP.NET Menu rendering different from vs2008 to vs2010\tMaven - Change jUnit Version in Quickstart Archetype\tWriting sublists in a list of lists to separate text files\tiPad: problems with table rows in popovercontrol\tRetrieve multiple results set\tpagination is not working in codeigniter :(\tAngular NVD3 Change Colors In Legends Also\tnode.js server not responding while large file upload with express and busboy\tSend request & Get Response in Windows Phone 8.1 WinRT\twant to delete only empty folders from directory before last 30 days using batch\tCreating X amount of threads that execute a task at the same time\tAndroid Studio 2.2 update: aligned APK (zipAlign) not generated using the new Gradle Plugin 2.2.0\tEntity Framework - adding the same entity twice in many-to-many relationships\tJoin two tables, only display unique values and maxium date\tHow to use absolute position relative to parent element\tSearch refinement for WebMatrix site\tMaven project version as expression, not constant\tCan I prevent App.g.i.cs to be generated?\tTroubles converting XSD to Java using JAXB\tCannot run a jax rs web service with tomcat\tmake a password protected bash script resist/refuse \"bash -x\" when the password is given\tDoes youtube api play function trigger a view count?\tWhy is this Perl loop over strings then characters so slow?\tHow can I change the size of rgl plots in Shiny RMarkdown?\tHow do I programmatically disconnect clients which are connected to Solace appliance?\tRails before_filter (Correct_user OR Admin)\tHow to gitignore everything except hidden subdir?\tShould I use weakSelf in nested blocks?\tCSS background color not behaving as expected\tAndroid app Listview cannot be scrolled to bottom to search a specific element using appium in java\tRails: Why \"has_many ..., :through => ...\" association results in \"NameError: uninitialized constant ...\"\tHow to send data between fragments when swiping tabs in ViewPager\tWordpress static pages: how to embed content into templates?\tTroubles with importing classes from Angular 2 modules with Typescript 1.7\ti am not able to get the images read in java for exporting it as JAR\tHow do I create a resource dll\terror: linker command failed: ld: duplicate symbol _main\tsql to find non-printable characters in a string\ti want to generate payperiod for each month\tInteractively enter headline under which to place an entry using capture\tQuerying the DNS service records to find the hostname and TCP/IP\tCan I use setContentView outside the oncreate method?\tConsolitate data from multible sheets ,re-arrange the data as per the column name\tWhy is my 'transparent' overlay view opaque?\thow can I run play framework with port=9001 under windows cmd not under play console?\tRails 3 - Ajax POSTS from a link click\tAdd html content to mysql die error?\tBest way to run a Plack PSGI Perl application outside of Apache using FastCGI?\tHow to Call NSUserDefault Value To Another View Controller?\tDoes Qt have a way to get the font that the particular css resolves to?\tHow to update Parent component about the data that child component modified(angular 1.5)\t2d array, pushing to one array shows up in all arrays?\tGet NSData from assets-library URL\tHow to specify image size in HTML Doxygen?\tNSFetchedResultsControllerDelegate in a second view controller (not firing?)\tDraggable divs getting mixed with another divs\tcreating MLP in python showing error\tCreate SharePoint 2010 ribbon button programmatically w/o feature XML\thow can I use pyglet write a music player can play a music list\tHow can I efficiently debug loops consisting of a large number of iterations on Eclipse?\tPassing a model object to a RedirectToAction without polluting the URL?\tAutomatically receiving mobile phone's SMS to hyperterminal\tOutput \"System.out.println\" into Emacs Cider's REPL (or other buffer)\tScoring regression model using PMML with Augustus in Python\tSafari View Controller - send data back to app\tSignalling a bash script running in the background in an infinite loop\tHow do I add in-app purchase to a published app in play store and test it before going into production?\tFileNotFoundException in Windows 10 Universal App (UAP)\tHow to map one column with other columns in an avro file?\tRetrieving all the cell data from a jQuery datatable on post\tIn Play! Frame work Can I Make classes In models package Singleton?\tBinding events with Hammer.js and .on()\tyii making user auto logged in on signup end (auto authentication after signup)\tUnreal Engine 4: save rendered frame to memory\tBuilding HelloWorld C++ Program in Linux with ncurses\tGenerating Checkbox Lists with MVC3 using a complex viewmodel and a cross table with Linq to SQL\tCordovaWebView: TIMEOUT ERROR\tWhats wrong in my xsd schema ? It gives type element is not declared on include of another xsd file\tAngular and papaParse Integration\tSetup a graylog2 server with elasticsearch in a vagrant machine\t(Solved-See my comment)How to make a password form on tumblr?\tJavascript: Call a method inside another method\taws api gateway client-side ssl certificate verification with nginx\tKendo UI drop downs posting arrays\tServiceStack Identity on field other than PK - Insert fails\tRedirection when rendering controller in twig SYMFONY 302\tCSS Sprites Bottom repeating\tHow can I sort a table of Laravel Eloquent objects by a custom attribute?\tComparing elements in a generic list\tSet minDate for Bootstrap DateTimePicker from another\tWhat is the difference between :g and :%s commands in vim\tJava: creating self extracting jar that can extract parts of itself out of the archive?\tset html text color and size using javascript\tQueue using Arrays\tforeach loop when using Xml.XmlElement in remote scriptblock\tHow to print list of categories and click on each category one by one in selenium/appium?\tEvery now and then, ABCpdf runs out of memory\tIn Spring OAuth2, why is my resource still unprotected even though I have marked it in my resource server?\thow to restart node application automatically on aws elastic-beanstalk\tUnresolved external symbol LNK2019\tCelltemplate in angular-ui-grid is not working properly\tEscaping backslashes in method call stringByReplacingOccurrencesOfString Does not work in Objective C\tAPEX Data Loading - Add a column programatically\tMySQL / MariaDB shuts down after exactly 1 minute 42 seconds\tMouse movement / mouseover and JavaScript evaluation in watir\tRemoving backslashes from a string in Python\tArray manipulation (accessing specific bytes)\tRails: Does Application.css load all css.scss files?\tLongListSelector cannot change ItemsSource\tC# DateTime not recognising timezone change (BST)\tdeinit in child view controllers\tHow to send back to custom class which object of that class was clicked\tdelete from array returning self\tMS Access Properties\tUIWebView always add a parameter in url issue\tcomparing two spanned strings in edittext in android\tAdd prefix to control id and still have it bind MVC Razor\tEXC_BAD_ACCESS when setting Integer to anything else than zero\t:hover CSS is not working?\tBlowfish last block incomplete in decryption\tReading uploaded image: undefined method `file' for nil:NilClass\tHow can I run IntelliJ IDEA on a remote desktop\tHow to get the JSONObject server response in Volley\tGuide in organizing large Django projects\thow to populate a dropdownlist based on another dropdownlist selected value in mvc 4?\tAzure ServiceBus Token Expired\tiBatis to MyBatis migration efforts?\tWhere should I look for the document generated using htp package\tTortoise SVN Error after update: 'The specified path has an unexpected status'\tExtract html data after logging into website from android app\tAdd key value to array without triggering an array\tHow to write this math equation into c++\tUndefined index php mysql error\twhen text changed inputbox automatically updates next 6 text boxes\tUnable to get email of facebook user\tiphone: Facebook logout feature is not work in my app\thow to force my app NOT to use the 3g data proxy setting\tUnit Testing - What do you do when your code is pretty much just a calculation (GetHashCode for example)?\tStatus of CheckBox can't be detected\tSort a list with multiple conditions Ruby on Rails\tHow to sharp the text in css3?\tHow to change the class of an object dynamically in C#?\tCreating an Array with a Default Value,But the default value is changed\tHow to call a delegate's function without getting the \"instance method not found\" warning in ios?\tAndroid, background drawable appear black in genymotion but looks fine in intellij\tTable has no columns using google charts\tDropdown list where options populate a second list js/php?\tdifference between <% and <%= ruby\tHow to remove the functionality of changelist filter appearing in django admin?\thow to unpack stxetx data in python\tAnsible: playbook calling Role in a directory that is in the roles directory\tSetting up HTTPS redirects on Heroku Laravel Instance\tInput helper valueBinding is deprecated - what's the alternative?\tUsing MySQL.connector with Twisted Python to execute multiple queries\tMySQL - 1 large table with 100 columns OR split into 5 tables and JOIN\tneo4j load csv when field name has a '.' in it\tMocha + React: navigator is not defined\tsemantic ui grid - display full width of column, after \"computer only\" columns is hidden\tpopulating select menu options using javascript\tSerializing MongoDB find() return into non-anonymous JSON array, using PyMongo\tGeom tile white space issue when the x variable is spread unevenly accross facet grids\tMoving files depending on the profile in a WAR\tCheck if it's the last record in sqldatareader\tAssigning to columns in NumPy?\tAndroid Facebook ApiException: Invalid Application\tDjango: customizing the message after a successful form save\tCustom TextBox with built-in Validator: server side validation not firing\tHow to embed mjpeg file on a webpage\tphp delete on jQuery doesnt work\tAWK doesn't work in Bash Script\tLaunch specific app when external accessory attached\tThree Inputs in a Row - Bootstrap 3\tHow compiler like GCC implement acquire/release semantics for std::mutex\tFramework search for upcoming project\tImplementing a Web Service Server in Windows CE 2013\tWhy do I keep getting \"The digital signature of the object did not verify\" for Windows JavaEE installer\thide paging numbers in gridview?\tHow to remove sublayers from a view afer a touch\tCUDA: Can i find out if i have global memory coalescence?\tHow to read a google chrome crash dump with windbg\tjQuery targeting nested list\tpass the column value when checkbox is clicked in wijmogrid column\tHow to normalize your database in hibernate? (Repeating values don't get saved again and again)\thow to stop validation on a particular textbox after hiding this textbox using angularjs\topencv imshow with waitKey too slow on Mac OS X 10.10.2 (using c++)\tSetting an Input Box Background\tIntelliJ IDEA: \"Element ignore is not allowed here\"\tSlider does not work in the jQuery Tabs\tCarrierwave getting image width and height and storing it in an hstore field\tOpenProcess() succeeds, but EnumProcessModules() fails\tDjango + Forms: Dynamic choices for ChoiceField\tusing Url.Content to display the file content with .net mvc\tPDO cannot able to fetch image from database\terror in adding overlay in current location\tInternal section link fails in beamer output of pandoc markdown\tAdding ROW_NUMBER() to query loses DISTINCT, defeats the purpose of paged results attempt\tandroid studio 135.1339820 launches wrong java version on openSuse 12.3\tMy Facebook object is empty\tJava code reads UTF-8 text incorrectly\tPHP session.cookie_secure does not actually set the cookie to secure\tUsing webapp2, how can I get the value of a form's \"name\" attribute during a POST request?\tFinding Uppercase Character then Adding Space\tTable data pass into stored procedure as param and insert into another table in mysql\tInject entry point class in GWT with GIN\tHow to group by week of the year dates or day dates that start on Sundays in oracle 10?\tWhat are the options Some and None SML?\tReversing a .mp3 programmatically\tConvert Associative Array in PHP and insert it to database\tWhy is the \"map\" version of ThreeSum so slow?\tant keeps recompiling\tHttpContext.Current.User.Identity.Name returns blank\tUIWebView Javascript Window to Window Communication\tFluent NHibernate Exception: An association from the table X refers to an unmapped class: System.String\tAre .NET memcache libraries production ready?\tDB2 Can't connect to db with new user\tDjango flatpages backup?\tTrouble with Creating One-Time Calendar Event from Google Sheet row\tThe colored image turned to have no color and just a grey vector in drawable?\thow to show pattern in asp-Repeater item template?\tFastest scripting language for Java?\tTried to reverse engineer my app, but got some weird-looking file tree\tStartup for bundles placed in the deploy folder of Karaf\td3js force layout with hide/unhide on node click misplaces nodes after expanding\tUnique column definition in SQL\tHash of a cell text in Google Spreadsheet\tHow to pin/unpin Microsoft Edge developer tools in Windows 10\tWhich editor can align tables in reStructuredText for Sphinx?\tHow to walk through a directory in c and print all files name and permissions\tiOS KVC DRY mutation\tIBM MobileFirst Platform iFix doesn't update the version displayed in Operations Console\trelative layout aligning images about right bottom corner\tHow to retrieve a PDF(document) from the Tridion File System and create a multimedia component out of it\tHTML sends x y POST data with no inputs - how is this possible?\tHow can I view Azure logfiles when running locally?\tis there a web service client code generator on iOS?\tGet smallest type to include data range\tGet dates as check if it is ending\tCordova brightness still returns -1\tHow to detect 3 keyboard buttons in Swing?\tPython calculations in two groups\tcreate array from mysql query php\tTDD vs Defensive Programming\tDisplay logo or image in the Ribbon using VSTO\tHow can I get a meaning of a jsp variable in java code on the same page?\tConversion of cloud data into 2d image using OpenCV\t[python-suds]Bug? One additional element is created when using Factory\tUsing clang to analyze C++ code\tLogin with email and password control not working\tansible: use different logging level for terminal and log file\tDraggable window with pyqt4\tdynamically adding edittext depending on the elements of json array\tHow to convert ftp.getModificationTime(file) to readable format\tPHP Login Form using DashDB\tBuilding a properties file to the top level of a WAR file, Spring-MVC/Maven\tEnabling breakpoints in goclipse\terror while including external JARs in ant script\tComparison of web widgets in flash and javascript\tWhy must I free this data? Am I the owner?\tOptimizing a very huge mysql table (query or mysql)\ttlbexp.exe outputs different tlb information on 2012 versus 2010\tHow to create a Facebook Like with a post/comment box\tCodeigniter PDO integration\tpass string array as parameter to asp.net mvc webapi method\tRemoving space in dataframe python\tHow to set application identity of an application pool using web administration module in powershell?\thow to handle play database connection exceptions\tquerydsl 3.3.0 - using collection.any() with elementcollections in a query with N boolean arguments generates N \"exists\" sub-queries\tGson: Change the way Map-Keys are being serialized\tImproving gnuplot 3d plots from data files with pm3d\tDivide problem\tYii2: Using Kartik Depdrop Widget?\tCan anyone post an example of how to enable SSL in Tsung?\tMPI_Isend and MPI_Irecv seem to be causing a deadlock\tVirtual Box port forwarding misery with Ruby Sinatra:4567 / Shotgun:9292\tEnhancing regex to match more URLs\tJavaScript classlist selector error\tMy IntelliJ IDEA 11.1.5 lost the ability to debug node.js applications after upgrading to windows 8.1\tScientific notation android java\tHow to make a JSON array case insensitive for Twitter Typeahead?\tMembase can someone explain the idea behind their technology\tStruts 2 + Dojo + Datetimepicker\tCannot retrieve data from find query\tHow long are resources used (file descriptor and memory) for Java temporary files (jar_cache####.tmp)?\thow to pass a variable in WHERE IN clause of oracle sql?\tHow can I transform the coordinates of a Shapefile?\tMapping result of aggregate query to hibernate object\tDrawing Application how to save drawing in android phone memory\tError while using npm install -g generator-jhipster\tGet abs path from the currently edited file in Eclipse\tPost form data to foreign aspx form\tLogging in Azure web jobs\tMTM with (automated) CodedUITest test-cases developed in VS2013 issues\tHow to print contents of an HTML element in MacGap?\tASP.NET Control not available in CodeBehind\tHow can I disable the IIViewDeck functionality momentarily?\tWhy would I create a struct with only a `PhantomData<()>` member?\tAccessing masterpage properties from child pages in ASP.net VB\tBash read inside a loop reading a file\tRandom number between 1 and 20 excluding numbers already picked\tWordpress Navigation Label in Browser tab\tTaking control of the soundCard with JAVA\tSTL containers and large amounts of data\tColour in Backorder Products dropdown based on stock in WooCommerce\tRichfaces - <rich:autocomplete> not showing suggestions\tHow to select and enlarge a Masterpane in Zedgraph\treact-native android publishing keystore\tWhat is a good way to find a specific value in an XML document using C#?\tCan i make my own Singleton Stateless Bean with EJB 3.0?\tHow does Google App Engine precompile Java?\tUsing dispose() method instead of close() method to a form\tSpring Oauth2 \"Full authentication is required to access this resource\" with valid access token\tWhy is my code only displaying incorrect even if I have the right answer?\tForcing function in ODE\tGet sum of column on last row, good practice?\tSimple Karma + Typescript configuration - Reference Error: x is not defined\tError building Player because scripts have compile errors in the editor\tProperty Testers do not load despite forcePluginActivation. For popup menu enablement\tJavascript regex to match last word regardless of specials characters\tDevelop multilangual system\tangular-mock testing in Karma+Mocha can't find module\tHow to append an element inside object using a common way\tGenerate random \"dark\" colours only in Java\tAccess element in list using indexes stored in another list\tHow to correctly use setq in elisp?\tiOS - Today Extension 'show more' & 'show less' state incorrect. Collapsed says 'show less' - requiring multipule presses to fix\thow to get the position of the cursor in an editable div\tflickering of image in SWT\tCompletely random identifier of a given length\tAngular 2 Render Flat List from Hierarchal Data\tJava RMI threads on client-side are executing sequentially or concurrently when calling the same remote object?\tVariable-size buffer for receiving UDP packets\tCreateSqlQuery on entity with formula property\tDatepicker TIMESTAMP divide by 100\thow to print out the whole table using anonymous block in pl sql?\tIn Sentora i will need to integrate a clamav Module\thow do i set a value of a multiple <select> tag from the database\tshow decimal value in C#\tJavascript: how to affect other element when hovering?\tCreating new popup window when click button\tHow to Depict Either/Or Inheritance in a UML diagram?\tAjax post success data: Can you separate results?\tDocument.getElementById() not available for ChromiumWebBrowser in visual studio\ttarget of assignment expands to non-language object\tHow do I configure distributed transactions for NServiceBus\tHow to combine an array of png images like layers using C#?\tyii2 gii CRUD Generator error - Class 'Message' does not exist or has syntax error\tGet values of checkbox to other page\tSession on subdomains still not working\tHow can I turn off host name resolutios?\tsyntax error, unexpected end-of-input\tErlang: \"extending\" an existing module with new functions\ttcl string replacement\thow to access directory in plesk (control panel )\tMinimizing the sum of a special function over a list\tVB.Net & Access - Set two foreign keys, that refer to the same table/field\tMemory Monitoring Tool for Erlang Threads\tDisable Spring Boot Security @Secured at runtime\tJoin two tables on the same date or closest date (before or after)\tPower Point viewer asp.net mvc\tSwift: Get an element from a tuple\timages rotation to the right\tCan I access the visual voicemail files on the iphone thru the SDK?\tProximity alert for locations saved at server\tTableviewcell button\tAngularjs select does not mark matching model as selected\tHow can i use id to do action on an object of an android using Robotium tool?\tHow can i pass a value to constructors of collection of instances at runtime with simple injector?\tLarge binary shifts in 8086 assembly?\tDirectshow, format type change filter\tHow to open model window on option selection?\tUpdate value in sqlite iphone sdk\tInstalling ADT plugin in Eclipse for Android development\tAutomating a ContextMenu with Watin\thow to evaluate the performance of any cryptographic algorithm (say elliptic curve)?\tNth-child Selector with Prototype\tDifference in performance of compiled accelerate code ran from ghci and shell\tDatabase design for email messaging system\tJava SE Development Kit 8u20 Install Options\tReading a file in chunks\tTwitter style Web Application based on LAMP, Symfony2, Backbone : possible?\tRegexp for C preprocessor command\tCmposition, I dont quite get this?\tCakePHP form submits the \"array\"\tStore feed forward network in mongodb\tbash read strings and output as one key and multiple values\thttp client in python fails to recive\tDynamic languages - which one should I choose?\tHow to start an IntentService from a WakefulBroadcastReceiver\tC++: Converting wstring to unsigned char\tHow to make echo interpret backslash escapes and not print a trailing newline?\tAngularJS.. http.get working, when splitting into its own service module its no longer working\tHow do I determine the number of elements in an array reference?\t\"TypeError: 'NoneType' object is not iterable\" on what should be a list\tReplace random image on website\tRotation matrix between two camera system\tAnimated border which wraps around\tcron job not picking up oracle query result\tFormview and MS-Ajax UpdatePanel\tHow to update data with TreeStore or TreeEditor component?\tGet kwargs passed to url_for in Flask view\thow to reload the template when working with enlive without restar\tThread-safe get (accessor method)\tHow can I tell if \"inline\" worked?\tcalling some logic before user is logged out using spring security?\tJava pattern to find two groups of two letters in `ABC`\tMYSQL distincs entry of two columns even when switched\tHow Antlr creates tokens\tPlay Framework 2.4 - Java - Http header and cached response\tList of Strings in a Grails domain class\tInsert into MongoDB via Node.js\tHow to stop or pause Pandora and Spotify\tOracle Function: Replicate wm_concat\tReturn user to previous page after login (Rails)\tCustom Layout Manager using predefined and developer-defined child view(s)\tIn Ruby, how do I specify a file in another directory as an input?\tUnable to read View Bag value from controller to view\tParameters on time stamps in oracle sql developer\tmeasuring the time to load a page - Python\tSet height of child to height of parent\tHow can I find the element that caused another element to fire the focusout event?\tHow to get the latest created table in MySQL?\tBetter way to reference $scope in AngularJS\tSharing data between Elastic Beanstalk web and worker tiers\tiOS certificate pinning with Swift and NSURLSession\tSharing UDP Data across apps (background/foreground or Split screen multitasking) in iOS\tiPhone: Facebook logout feature does not working\tAutoHotKey. Hotstrings and Auto-replace not working in Visual Studio 2008\tIssue setting up Android SDK - Failed to Start Emulator\tWhy is the dismissable alert not being dismissed?\tError while executing change data capture sql query\tmultiple queries - Route.get() requires callback functions but got a [object Undefined]\tHow to attach custom element to shadow DOM in html web components in a secure way?\tflash javascript don't work (Second try)\tHow do EGit versions map to Git versions\tHow the ftp uploads works in PHP?\tSql XML to Delphi\tLookup table with the query with arbitrary length without using a for loop in R\tC# XML deserialization XmlAttribute\tCSS, JQuery: Animated transform from 3 lines menu to cross\tCan m2e install an external jar file? Or do I need to install the maven command line tool?\tDoes gSOAP RESTful implementation require the definition of a WSDL\tAutomatically create an appointment in Outlook using message content\tJSoup error: java.lang.IllegalArgumentException\tAdd Button to CMS_Page_Edit via Observer\tHow to do an XOR of the binary forms of all integer items in a list\tHow to add regularization in Scipy Linear Programming (Non-negative Least-Squares)\tHighlight backgroung colors of some words in HTML Document in java\tIs there a way to retrieve process stats using Perl or Python?\tExcel NamedRange.Find Method with Regex pattern match in C#\tcmake error when configuring\tHow to set first column to a constant value of an empty np.zeros numPy matrix?\tEclipse Plugin - get Launch Configurations Tree List in a Dialog.\tWhat are the RESTful best practices on defining a query parameter with an or condition?\tExtracting text from the input field - using Webdriver\tOne <hr> tag is working but not the other in Firefox. Why is that?\tajax request xml from php\tEmbedded Java server using Grizzly: How do you enable http2\tFinding Minimum Completion Time of Scheduled Tasks with Topological Sort\tHow to set jQuery draggable min/max-left and min/max-right\tsemantic-ui modal size keeps extending to the height of a page\tIs there any direct git command to push changes to another branch\tHow and is it worth to integrate Java Webapp + drools + Guvnor?\tHow to debug Error Messsage in Odoo\tcalculate differences between two numbers\tData constructor in template haskell\tTying composer.json to a specific Laravel 5 SHA\tDjango 1.7.1 requires a Default value for field - but no entry is in database. Why?\taddEntriesFromDictionary: a true copy method?\tSpring Boot OAuth2 with encrypted JWT access token\tWrap text if it is longer than max_characters\tiptables: Duplicating/Forwarding ports\tMultiple custom fields stored as meta_keys, how to connect with the post?\tAndroid GridView crashes or is very slow on some devices (Samsung Galaxy S4, S3)\tHTML/CSS: Input element weird indent ie7\tWhat exactly does Double mean in java?\tMost effective ways to extract Android Cursor (sqlite) into an array to be used in AlertDialog.Builder?\tjenkins can not find android SDK\tCan I open a new window and change the DOM of the calling window in JavaScript?\tdynamically Change Itemized overlay draw circle using seek bar progress\tHow do I fix django.db.utils.IntegrityError: duplicate key value violates unique constraint?\tInno Setup not creating registry entry in Software/Microsoft/Windows/CurrentVersion/Uninstall\tbuild from hadoop source code in centos\tC# LinqToSql SubmitChanges() does not update, even though PK is set\tHow to read utf16 text file to string in golang?\tObjective C ePub framework\tReducer output to different files based on keys\tIs it possible for a Chrome Extension to get a user's full browsing history?\tVariable Number of Nested For Loops\tOrdered http request parameters\tTesting the Oracle to_date function\tGetting the error of POST method from another PHP file\tMultiple selection of worksheets into one workbook copy paste of content into one main sheet\tWhy do I keep getting \"developer inactive\" errors when calling the Beats Music API?\tMy select command doesn't work\tnode js read files line by line\tPHPStorm/Webstorm increase memory to more than 512MB\tWant to open google.com at specific location and make it specific window size\tDatabase not updating new row\tSpring suite tools start error - spring boot\tSlider in codenameone\tIssue with $(this) and toggle() multiple classes\tHow to load file from dir using Racket?\tRemoving quotation mark using javascript does not remove single quotation marks\tFirebase Android ChildEventListener Triggered onChildRemoved() before onChildAdded() When new data added\tPython. Error using animation.FuncAnimation\tHow to make inline comments in Org-mode?\tFind years with distinct digits - CCC 2013\tIdentify customer visits occurring after a given time period in mysql\tFinding the distinct count from a cassandra column using Tableau\tPrism : Change the active view\tGet Color from int\tDynamic subversion repos via subdomains (in Apache)\tHow to multithread my for loop in Python\tHow to get recycler view list item count using Espresso\tHow to PIVOT and calculating column average\tFastest way to separate the digits of an int into an array in .NET?\tEscaping special characters in SphinxSE\tImporting sqlite file into r\tSort order of related products not working in Magento 1.6\tDisplay 404 not found template for 'slugs' when publication returns empty cursor - Meteor - iron-router\tIs there a way to tell if an object has implemented ToString explicitly in c#\tVFS: file-max limit 1231582 reached\tPlay 2.2 EssentialAction With Futures\tAppBarLayout / CollapsingToolbarLayout expands indefinitely\thow to deselect all Radio Button in Radio ButtonGroup on button click in flash as3?\tnumpy array creating with a sequence\tSed: Matching words with any permutation of two characters\tMake Child element appear outside of parent\tMobilePin createuserwizard doesn't work?\tFit Image in canvas using WPF\tAdding a fontawesome icon with border into form input\tfinding pixel location of Listview item seems to return wrong value\tsails 0.9.8 not work, when created controller and lift it\tLarave File not found at path but it does exist\tRequiredFieldValidator causes validation on Server even if validator is disabled(CausesValidation=\"false\")\tRetrieving HTML content from a page requiring authentication using PHP\tHow to generate linked-axis in matplotlib\tPrint % sign with string formatting\tHow to calculate the dimensions of the monitor in PyQt4/Windows/Linux?\tVBA Outlook 2010 retrieving information from Active Directory\tModifying bootstrap thumbnails\tASP.Net: What's keeping old AppDomains alive?\tA library uses the same package as this project after importing Facebook SDK\tUnable to run compiled .classes from the command line\tIs it possible to partially decode and update JSON? (go)\tHow to use Apache-Commons DBCP with EclipseLink JPA and Tomcat 7.x\tHow to do batch geocoding using google-maps-services-java\tInserting an img into a text field (html, css)\tNoClassDefFoundError during Tomcat graceful shutdown\tIndesign (IDML file) Automation using HTML5 and Javascript\tWriting to the ObjectOutputStream and getting rubbish back\tHow do I stop md-cards from stretching images to full vertical height?\tSQL, missing end, but why?\tSED - Search two pattern in a line and insert few word at the end of the line if pattern match is found\tHow to configure & run multiple websites with respective databases with single Laravel code instance\tthree.js CanvasRenderer - setting initial color for object together with transparency textures\tIHTMLDocument2 - click button inside iframe\tResource 1 works, 2 doesn't\thow to show an image in an image field by a button click event in c# asp.net\tHow to use this for killing array of threads?\tMVC scaffolding does not support Entity Framework 6 or later\tParse error using Remotipart\tJAVA JAX-WS Deployment (JAVA Eclipse EE IDE)\tkaminari and order_by\tmultisampling and fragment shader\tC program- change char order in sentence\tHow to reload an IFrame every x seconds?\tEF6 table per hierarchy, with unique index on derived property\tShell Script to add extension on file and directory\tAbsolute beginners guide to working with audio in C/C++?\tExtract part of string\tstopping toast android in other actvity\tClient-side SSL not working with AWS API Gateway\tTop Left Menu Bar Is Frozen when Main Window Shows Up\tCategory Axis Label Alignment for Multi Series bar chart in JAsper\tInvalid Label - jQuery Ajax/Json request\tOptimizing Haskell Recursive Lists\tSymfony3: Service not able to get arguments\tReverse Geocoding not displaying info window on markers when clicked\tHow to restrict background click in Ionic confirmation popup\thow to use CSPARQL-ReadyToGoPack-0.9 in a SBT project\tHow to sort UTF-8 lines in Vim?\tHow to handle NotFoundException elegantly in Neo4j 2.0?\tDownload multiple files simultaneously with PHP - Forking, Sockets\tSubmit form on one server, process it and then post results to another domain\tFlyway Mysql multiline comment directive not parsed\tNon-Blocking File Reads\tORACLE sql dynamic variables in stored procedure\tnested ngFor with two data classes in angular2\tCrossplatform webview in Qt5.6\tSet the default encoding to UTF-8 for all JSPs without using @page directives\tXSLT creating a table with varying amount of columns\thow to send email with powershell\tAsynchronous method using .Result\tIs JENKINS Extensible Choice Parameter compatible with linux?\tStarting Speech Recognition with CreateProcess() in C++\tHow do I animate adding subviews?\tHow can I change the default font for a Jekyll website\tImpossible to compile Fortran code with include statement\tLazy loading images in Vue/Laravel\tWeb API read header value in controller constructor\tAndroid wear WearableListView ImageView selector\tFunction pack() returns 0\tIs it possible to have Firebase authentication via Facebook in a Phonegap App?\tPHP Export MySQL to CSV - Results showing HTML\tHow to detect language preference in Laravel 5\tVB WebBrowser click button\tReports using java collections\tHow to write all files Contain in the subfolders and in the folders in to a .txt file\tChecking negative values from Google Forms\tLibgdx reading json array values\tCustom Buddypress Notification on Post Save\tUITableView with UITextField - keep the data even after user scrolls\tVisual Studio 2015 Update 1 automatically checks in files\tMobilefirst Failed synchronizing application from the administration service\tCannot execute for loop in vue.js\thow to prevent duplicate item\tJava Apache CLI OptionBuilder not working as Builder pattern\tWhat's a proper way to turn off genymotion emulator?\tJade select field populating data\tWhy is ' 2' > '10'?\tMysql dump comments directives and simple comments\tCropping library not working on Nexus S\tCreate a segue and attach it between two view controllers through Swift?\tFunction to search recursively for patterns in vim\tIntegrating wordpress and laravel user management\tBehaviour after takePicture() different on different devices/Android versions\tExporting Plone content: how to get the tarball created by quintagroup.transmogrifier.writer\tCassandra to Hive using Spark\tRuby on Rails :before_filter => :only_when_user_is_logged_in\tHow can I integrate Jacoco reports with SonarQube without using maven?\tCan I use NSPredicate as key in a NSDictionary\tProxy Authentication Failed error\tCould someone explain how to use the UpdateManager in TideSDK 1.3.1 Beta?\tProperties - how to avoid code repetition\tPause/resume video recording using AVCaptureMovieFileOutput\tSwift enum recursive associated value\tHow to grep particular string occurring multiple times\tHover map area sprite with jquery\tSpark `LiveListenerBus` Exception is freaking me out\thow to use pyplot.arrow or patches.Arrow in matplotlib?\tApache on Windows and Fiddler\thow to pass the variable from api gateway to the url of another service running on EC2\tOpen link when doubleclicking on table row with jQuery\tWget span host only for images/stylesheets/javascript but not links\tI am trying to show data using api . but data is not showing in custom listView . list is empty\tGraphing sbt's incremental compilation logic\thow to get functionality of Long Press gesture in ios ver below 3.2\tChange priority headings for a task with the api\tGet values on a row based on two or more rows in Excel\tIs using Silverlight a hindrance for Startups?\tspotify session callback get_audio_buffer_stats\ttalend - specify jndi as datasource\tLong data load time in Matlab\thow can i change column width in base to content with vb.net and bootstrap?\tAlternative to Microsoft.Practices.EnterpriseLibrary.Data\tHow to facet.pivot with spring-data-solr\tCheck empty output from fish function\tpysolr update document with error\tHow to retrieve same column twice with different values of other column in same table\tUpdated: NodeJS - connect-keycloak middleware empty response error\tAccordion open when page loads\tActivity doesn't refresh after associated Broadcast Receiver's onReceive gets called.\tHow do you detect DOCTYPE (Transitional or Strict) server-side in ASP.NET?\tFirefox 9.0.1 Broke Internal Wiki Layout\tonchange function in dropDownList yii2\tplay mp3 without default player\tConvert SVG Data to SVG File that can be uploaded\tFolder Picker for MS Word\tCan't hide or close form after switching to another form\tHow to ShellCode in linux with x64 processor.\tHow to set a specific timezone for windows CE By C#\tVagrant enters aborted state during apt-get update\tattempting to make enter button 'clickable'\tImageMagick Convert not generating correct color\tMybatis select with nested objects\tMy css height auto doesn't work\tD3 AngularJs Force Directed Graph\tI want to add 30 days to mysql date row\tHow I can use FlexyPool with HikariCPFactory?\tWix installer: Verify that you have sufficient privileges to start system services\tr, ts - error in stl, series has less than two periods (erroneous?)\ttypo3 - Adding content to the footer\tKnockout re render template with new data model on change event of dropdown menu\t@ManyToMany relation not save\tDownsampling of fMRI image with FSL\tHow to use Android AutoCompleteTextView on Xamarin.Forms\tWhy fstream::tellg() return value is enlarged by the number of newlines in the input text file, when file is formated for Windows (\\r\\n)?\tDetermine If Two Points Are Near\tclicking logo on home page breaks navigation menu on mobile site\tUse Iframe to embed csv and allow user to search from it\tInstall Chrome extension through windows registry\tDisplay message on success does not work\tjQuery masked input - format date as m/d/yyyy or m/dd/yyyy or mm/dd/yyyy or mm/d/yyyy\tHow to change spring session (redis) cookie name?\tAny tool to suggest unit reference automatically for Delphi 2010?\tWhy does my method return a null password?\tSQL Script - manipulate value based on previous non zero value\trotate image shows \"Out of memory\" exception\tcount button clicks\tJoomla Custom Compoment Dev Env : Hot Deployment\tNexus 5 not showing on connected devices\tHow work the method TrueForAll? C# LINQ\tPHP - Simplest Way to Post & Display\tUpdate Temp Table with Group By\tHow to use Parse Push with Cordova, Appcelerator, etc\tAS3 bitmapdata send to server picture is small in upperleft corner\tHow to set the Z order index for adorner in WPF\tphp microseconds\tCreating a global database connection on an mdi form\tUncaught ReferenceError: React is not defined\tVBA search column for strings and copy row to new worksheet\tHow can I record a test using Espresso without doing a clean install?\tHow can I char array in reverse order?\tWhat kind of SCTP support is there on various Windows versions?\tSaving changes to an EC2 instance without having to register an AMI each time?\tAuto run Jetty on boot\tHow To Cache jQuery Template In Backbone View via Ajax?\tDoes this C++ static analysis rule make sense as is?\tSame Ripple drawable(effect) appearing differently on ListView and RecyclerView\tR ggplot2 assigning colours to a factor\tVerifying a method was called without using IoC\tWhat is 'seg cs' in bootsect.s\tsetTimeout keeps firing\tFormatting the way a string is entered into my database\tCreating Jenkins Job using python API\tpython create single thread to do one task then quit\tz order in issue in ConstraintLayout Android\tCan I derive from a class that can only be created by a \"factory\"?\tPHP OOP :: passing session key between classes\tASP.NET MVC 3, SQL Server\tRecreating or deleting google services json\tProbe problem when writing a I2C device driver\tJersey produce duplicate log messages\tExit / stop Array2D.initBased early\thow to set array of date to fireDate in local notification at a time\talternative to async: false ajax\tOracle: how to get percent of total by a query?\tHow to match the recursive pattern `a(?R)b` including another string e.g. \"test{aaabbb}\"? (Regex)\tHow to disable GestureListener?\tHow to specify Code Style settings in a Qt Creator `.pro.shared` file?\tcal extension template modification with .tmpl\tGetting started with Groovy/Grails?\tOpening a Ruby program's source file in the default editor\tHow can I pass an array of Guid via Web API?\tBackbone-Relational find or load?\twhat's the best way to format an xml string in ruby?\tPartial classes in Google Closure?\tAdd a repository in AccountController\tWikipedia API Autocomplete with Json\tApache Pig: unable to run my own pig.jar and pig-withouthadoop.jar\tOptimizing list comprehension to find pairs of co-prime numbers\tkivy access child id\tStucture values not staying, values changed to -858993460\tSet toolbar title\tHow to add a row to a table using swt\tjQuery ui selectmenu vertical position offset (relatively to buttons in this line)\tSSIS : Warning: Failed to decrypt an encrypted XML node\tgps not getting user location\tExporting a simple model with texture from Blender to three.js\tPostman - Required MultipartFile parameter is not present - Spring, Java\tPrevent akka actor from restarting child actor\tUITableView not loaded\tNTFS permission with modify date\tQTreeView - how to tell if a drag/drop event is a reorder or a move between parents?\tPrevent XUL notificationBox from closing when button is hit\tCode not working. Notification that should go off once a day\tAndroid Action Bar Button does not show up\t$.widget is not a function\tjquery hide not taking parameter\tHow can i use a one form/table for multiple MVC's?\tMSTest: execution order of tests within the same TestClass\tHow to call jQuery function in HTML returned by AJAX\tOAuth2 security considerations for client_id\tGoogle Compute Instance 100% CPU Utilisation\tIncompatible block pointer type when returning array?\tCalling a REST api with an encrypted PEM client certificate\tSelect all objects in a list\tDrag and insert div into another div\tHow to prevent firefox from scrolling to the bottom of the page when a large popup is opened\tHow to handle ((List<string>)Session.Add(\"\")\tmysql inserting into 2 tables at once that have primary key and foreign key\tWhat's the right way to remove multiple items from a QTableWidget?\tWhen MSTest fails in TestInitialize, why doesn't TestCleanup get executed?\tPHP CodeIgniter application not opening any page except default controller\tParsing JSON data without quotes with jQuery\tRewrite url in .htaccess\tI/O error(socket error): [Errno 111] Connection refused\tGit Error; RPC failed; result=22, HTTP code = 401\tTFS 2010 - Set the State field to a certain value\tActionScript 3.0 How to create ProgressEvent instances in for loop with multiple files loaded from XML\thow can i extract my query to find average\tC# Windows Service - Default Arguments on Install\tUpload large files with node js\tChanging table headers in cakephp\thello world with JMS on Glassfish\tCountdown timer using DateTime.Parse without defined date\tImages in the 'drawable' folder are resized automatically?\tFind files with the same size and dellete all duplicates except the one has the shortest name using shell script\tWriting Rules both in Firebase and in your Code\tSearch for words with specific starts and endings\tInstall Neo4j 3.0+ as a windows service\tPHP convert 2 digit year to a 4 digit year\tJSDoc auto-complete documentation in Eclipse is not working for Class.create()\tSplit a infix String to an array of String in java\tFolder permissions in Azure web sites\tOnly have separators between UITableViewCells\tUncaught Syntax error, unrecognized expression: [object Object]\tNeed htaccess redirection\tHow to create this bootstrap carousel of iframes?\tDoctrine2 - Get entity ID before flush\tXquery help sorted parent child relationship\tHow To Load Separate Pages In Android Gridview While Clicking Blocks or Items?\tkineticjs rect fillText\tis a query string with a / in it valid?\tHow to convert the BYTEARRAYS to NSString in objective -c\twhy is std::chrono::duration based on seconds\tWCF REST Client Exception\tUsing UIBinder to create a Widget to go into a Dialog\tOneDrive for Business :\"invalid_request\",\"error_description\":\"AADSTS90014: The request body must contain the following parameter: 'grant_type\tAre the any options for interfacing with the command prompt process from a .NET application other than the standard IO?\tAdding data in the database using microsoft access and OleDb in C#\tjQuery Ajax header not being passed\tAngularJS: Multiple views with routing without losing scope\tBackboneJS How to merge collections\tSpecflow :Could not load file or assembly TechTalk.SpecFlow, Version=2.2.0.0\tMax byte calculated by System.Runtime.InteropServices.Marshal.SizeOf()\tHow can my application retrieve custom fields from a DocuSign transaction?\tadd active state to button in a button group\tHow to define clear range for pixel color\tRoslyn VisualBasic.ScriptEngine doesnt recognize hostObject written on C#\tNeither BindingResult nor plain target object for bean name 'categoryOptions' available as request attribute\tHow to change Wicket behaviour on Page Expired\tPHPUnit code coverage show 0% coverage\tHow to prove code correctness lemmas with the \"undefined\" constant\tVisual Studio has insufficient privileges to debug this process. To debug this process, Visual Studio must be run as an administrator\tWebApi EntitySetController using composite keys\tHow do I set up an OpenGL project using XCode 4.2 in C++?\tInitialize static NSString at class level\tRich Text Editor inside Flux Form\tSetting $PATH in xampp osx\tHow to extract data from html using PHP\tHow to get Current location using MapModule?\tExcel VBA Syntax Errors & Compiling Issues\tHow to read Logback configuration file from path outside the war file?\tjQuery ajax not getting every div elements\tTCP Socket on JAVA - Any byte >= 128 is received as 65533\tSqlBulkCopy keeps on throwing connection forcibly closed exception\tError sending to the following VALID addresses Jenkins\tHow to determine if a text has balanced delimiters?\tHow to flick through a deck of cards?\tSelecting in SQLite Database Android\tTSQL merge Incorrect syntax near ','\tBuilding Pocketsphinx On Android on Windows\tAdd background image in a div without empty space between div and footer\tInclude github project into wordpress plugin\tdjango multivaluefield & multiwidget - compress and/or decompress not working\tAndroid : Can i call my onresume() inside onpause().?\tHow to fit picture to absolute positioning modal window?\tRedirect URL to PHP only if file does not exist with Nginx\tLaravel 4 Exception: NotFoundHttpException\tHow To Start Using Kostache?\tAssigned access application exits when Ctrl + Alt + Delete is pressed.\tCircular dependency error when running migrations in Django 1.7c2\tJavaFX setOnShown fires before window is visible\tFlash Develop - Publishing\tI want to use the variable I declared somewhere else but I cannot (simple sql query)\tbuttons are not displayed\tPrevent Twitter responsive layout from collapsing when width < 320px\tShow azure cost analysis data using Azure billing API/SDK\tfind the field names from a search query\tOAuth 2.0 OpenID Connect Loopback and Keycloak\tWindows Phone: How to retrieve the same photo from media library between application instances\tSymfony2: determine if a controller is called from a development environment or from a production environment\tWhen UITableView is fully reloaded\thttp.post(url, postData, options) does not set header\tJSON stringify outputs empty object for not empty object\tDisplay.syncExec not working inside Callable\tXPath to first occurrence of element with text length >= 200 characters\tUnable to push a docker image to local OpenShift Origin registry\tSlideDown() using JavaScript not working as intended\tThreading.Tasks Dispose meaning issue\tVAL() function in JavaScript\tUsing php to send form to my email..Having an issue with 405 Not Allowed when form is submitted\tNetty closeFuture().sync().channel(); blocks rest api\tHow to check if a specific button exists in Scrapy?\tRemove logs from ORMLite Android\tLanguage detection API/Library\tShould I make 1 form for each upvote button or 1 form for all the buttons?\tEclipse GAE JDO 3.0\tdjango-cms editors and HTML data attribute cleaned up\tXcode build error clang failed\tsetTimeout from a web worker\tC# Populating a listview from a List\tJavascript not working in django inline formset using urlify.js\tPHP multi cURL performance worse than sequential file_get_contents\tConverting PHP Contact Form to SMTP\tHow do I prevent the original method being called when mocking a class with PHPUnit?\tEnsure footer will stick to bottom of page and flex with content\tHow to share files from any path using a FileProvider?\tR: How to build sum of arrays third dimension containing NAs and returning a list?\tSpeeding up a strangely slow Rcpp function\tHow to create a service that sends/receives UDP broadcasts on multiple interfaces\tCan someone tell me how to replace the following javascript code with a loop?\tUIImageView layer border issue\tCOM object created by CComObject::CreateInstance not destroyed when pointer goes out of scope\tRun 2 sql query with 1 query for save query result as .csv format\tAWS Elastic Beanstalk Vs EC2 Container Service (ECS) - Docker\tConnect to remote MongoDB instance from ASP.NET\tCopying files with unicode names\tASP.NET Web application doesn't unload AppDomains after deploy\tGetting YouTube livestream URL\tCan't use ToString() in LINQ to Entities query\tlist comprehension to create list and for no-data value feed default value\tJSX element type 'XXX' does not have any construct or call signatures\tSubroutine unexpectedly ends when a Workbook is closed\tCreating a result set (using a select statement ) within a loop\tLaravel 4.2 - Environment detection - homestead.yaml vs. start.php\tDeploy a shell script with Ruby gem and install in bin directory\tChange a string into an int\tHow do I stop a MySQL decimal field from being rounded?\tRespecting argparse's privacy, vs. usability\tVery simple Web Service in Python\tEmoji and UIWebView in iOS 5\tGetting IOError: [Errno Invalid number of channels] -9998 when using mic with PyAudio on Raspberry Pi\tMono on Mac OS X - Parallel HTTP Downloads limited to 2\tDelete files, directories and buckets in amazon s3 java\tAndroid: Saving form data on a swipe rather than from a button\tNo description or item name on PayPal Payment Received email\tCode igniter with data mapper giving in valid json\tWhere can I find official / canonical documentation for using JavaScript with \"classic\" ASP?\tBroadcastReceiver isn't working\tArray compare and count which has similar values and which not\tHow to cancel 'viewWillAppear' after UIImagePickerController is dismissed\tIn Scala, is it possible to write a script which refers to another script\tafter reload page IE is not retaining it's scroll position\tSpringBoot multiple authentication adapter\tSMTP Contact Form blank screen on Submit\tDestroy all sessions but one\tC# WIndows CE Compact Framework 2.0 Set System Timezone\tAppropriate representation of a 2D game board in Clojure\tIonic emulate ios shows black screen\tHow update APi with AngularJS?\tJavascript based redirect: will it hurt SEO?\tWhat is the difference between these two SOAP requests?\tMicrosoft Access Report - How to cycle through all pages of a report in print view?\tWhat does Actor[akka:\\\\play\\deadLetters].tell() mean in a New Relic's trace of a Play Framework 2.0 web transaction?\tJRuby 1.7.0 will not install bundler given plenty of memory\tsolr multiple tokenizers for query\tIs it possible to pass an EJS variable to an Angular ng-repeat filter?\tHow To Read Data using Ip Address\tSSIS XML Decryption Message\tDetecting selection change on a UITextView?\tDifferent CSS background-image depending on month and year\tWhat's the equivalent averageifs for standard deviation?\tSegmentation faults using f2py\tEclipse: Most useful refactorings\n",
            "2 52817 How to start PhoneStateListener programmatically?\tPhoneStateListener and service\tJava cast object[] to model\tWCF and What does this mean?\tHow to uncheck checkbox using jQuery Uniform library\tTwo projects with same code base\tCan't read php file when upload image to server in titanium\tcreate pandas dataframe from dictionary of dictionaries\thow to pass tkinter text to flex\truntime error project source code not found and invalid string null exception?\texcel VBA new URL on existing IE\tHowto immediately update TextBox after correction of bound property?\tJAX-RS Jersey/Grizzly Define an interface resource\tJSONConvert.DeserializeObject not handling child array with unnamed array items\tUnexpected error while loading data\tCucumber Capybara Selenium race condition with expect(all())\tHow do I check if one vector is a subset of another?\tDropdown list where options populate a second list js/php?\tAutomated Email Sender\tmysqldump --routines not including routines in created file\t'Save As' image with src from PHP\tenable mouse scrolling but not mouse visual selection in vim?\tCucumber's AfterConfiguration can't access helper modules\tDoctrine 1.2: Can a model have two instances of the sluggabl behavior?\tShould a custom find method on a Laravel Model be static?\tCalling spring data rest repository method doesn't return links\tQML : Flippable issue\tcss: how to build centered div with minimum spacing on the left\tAndroid OS Calling onActivityResult before picking up image from gallery\thow to detect if is running the scan for new media files on Android (in background)\tUndo in JTextField and setText\tSwift: Create Reproducible NSView using Interface Builder\tIs there a predefined webpart called CAPTCHA webpart?\tfme datalist extension for alfresco community 4.0.c\tHow to read the call log on iPhone iOS 5 programmatically\tRendering partial views with Razor in MVC5\t$ is not a function errors\tGet values on a row based on two or more rows in Excel\tPython 3.3 can't import Crypt\tWhy Hashmap is not displaying in order?\tKeepalive time - cannot reduce below one minute in C++\tExecCommand not working on all systems\tWhat are we doing wrong with git?\tDatabase foreign key constraint doesn't work?\tCustom Partitioner : N number of keys to N different files\tBehaviour of autoDestroy: false in Extjs4\tConditional extends in Blade\tGet Word bookmark index to replace image inside bookmark from Excel\tSet label text based on dropdown list selection from datasource\tHow do I refresh in Firefox and preserve breakpoints?\tClosely coupled C# classes in one module, how to improve this design?\tJacobian and Hessian inputs in `scipy.optimize.minimize`\tForce full calculation of entire workbook in Coldfusion / Apache POI\tAdobe AIR lag on high resolution Android devices\tmagento product category not applying, but applying after manual \"save\"\thow to get environment variables desktop path\tGet few lines of HDFS data\tJSP Redirect: Session Loss Issues\tWhat does JPA EntityManager.getSingleResult() return for a COUNT query?\tLimit Linq result columns for GridView\tUnmarshalling, manipulating and then marshalling CVS data in Camel using Spring DSL\tSphinx Search Multiple Tables and Aggregate Results Using PHP API\tWhat is a Sanity Suite?\tIn Spring OAuth2, why is my resource still unprotected even though I have marked it in my resource server?\tUnable to run rails server: `require': cannot load such file -- net/ssh (LoadError)\tBuilding a Matrix of Combinations\tConvert Perl Regular Expression into Java Regular Expression\tValue of type 'String' has no member 'range' in Swift\tUsing awk to remove spaces from a field\tExecuting a function on ring/compjure application startup after deploy\tDoes using compare on a nil NSNumber always return NSOrderedSame?\tSign on several sites\tFinding entry of vector in PARI/GP?\tHow to draw line and font without D3DX9 in DirectX 9?\tgrep through colored text , e.g. gcc | colorgcc | grep regexp\tQuerying ignoring a time portion of TIMESTAMP fields along with JPA converter\trefresh gridview after adding or deleting new record in c#\tMove static data from db into code in rails 3\tHow to free memory after array in PHP? unset and = null seems to not working\tCSS Sprites Bottom repeating\tHow can I workaround heroku's 30 sec timeout when executing long PLSQL procedure in Rails?\tjava.lang.OutOfMemoryError - Very large SOAP response\tData binding access in xaml vs in code behind - Linq to XML?\tFilter Array Content to a Query containing $concatArrays\tIntelliJ IDEA: ClassNotFoundException if run Debug, execution/run does work\tHow to read events for a particular date from native calendar\tPEAR and absolute paths\tEmber, safe way to save models\tJavascript Json Parser\tHow can I keep my initializer configuration from being lost in development mode?\tAdding in-app purchase to existing published application and testing it without publishing\tIf statement in TableView Cell not working\tSFML fails in multithreading\tIs there a canonical way of passing options to a Go function?\tProblems with limit method in Rails 3.2 and hash ordering\tHow can I choose the location where I want to save downloaded files?\tCreating NSWindow programmatically in Mono using MonoMac.dll Ref\tCan you use DataTable.Contains(object key) if your datatable's primary key is two columns?\tLinking two UIScrollViews so they follow each others touches\tUnable to dump a relation in PIG\tError when TS audio stream over UDP\tgetting java.net.SocketException: Invalid argument:inside docker container\tGIT - Fail to checkout to other branch when nothing to commit - when file is in gitignore\tASP.NET: How can I create a Login System using aspnet_regsql.exe?\tPutting 2 divs on the same line\tInterface's function clashes with Property's getter\tHow do I make a table from a List MVC?\tIgnore blur event if user choose address on google map autocomplete\tRethinkDB update field inside nested array->obj\tAuthenticate users using cURL for my login system on my site?\tSilverlight datagrid disable particular cell\tPath configuration with sphinx\tFileNotFoundError: [WinError 2] python 3.4\tSVG click events not firing/bubbling when using <use> element\tVisual Studio publish to azure existing apps error\tangular javascript won't apply to ui-view inserted element\tPassing shake gesture event to the app delegate\tHow to display french letters?\tForbidden access Codeigniter URL\tCalling Method in Android\tFacebook Comment box inside UIWebView doesn't have the right height\thow can i get the object of a button created with storyboard\tCodeIgniter Removing index.php using .htaccess file\tArgumentException: The specified structure must be blittable or have layout information\tEvent Viewer reporting my C# application crashed through 'System.Environment.FailFast()'\tLeaving equal width gap spacing before and between menu buttons\tGet Button Value when click in Angularjs\tAndroid map api-2 disable click\tCan not add rows using datatable.js Ajax\tPassing a simple IEnumerable to view and using foreach to loop through returns a blank screen?\tCordova brightness still returns -1\tGDB/MI redirect stdin and stdout to files\thow to clear devise session on browser close?\tJsTree - Get Degree of Node\tSwift type inference and type checking issue\tHow to call DocuSign Signer Information screen?\tGetfield.SetValue doesn't work\tWhy do we put \"#\" in front of myTempTableName?\tAccessing SQL Server over an SSH tunnel\tDeleting Li doesnot work for dynamic li\tiOS 10 FBSDKAppInviteContent() not working anymore?\tRoR: How to populate table from radio buttons?\tI have a SQLite syntax error in DELETE statement\tCookies of domain are sent to subdomain, how to fix?\tWhy libuv use thread pool to run all file system operations\tCSS button not styling\tError while creating Menu Dynamically with Xamarin Android\tWhy does my GradientDescentOptimizer produce NaN?\tDynamic table in html\tCoq tutorial and/or book with exercises involving subset types\tHow to have a where clause on an insert or an update in Linq to Sql?\tAren't these two statements incompatible in N4140?\thow use tests written in Selenium and Cucumber-JVM with JMeter?\tWhy use Thread.currentThread().isInterrupted() instead of Thread.interrupted() when implementing Runnable?\tHow to preserve TwoWay binding of CurrentItem when databinding to CollectionViewSource in ComboBox\tAndroid find if color is too close to black or white\tDynamic listview with jquery mobile\tClearCase Remote Client CLI?\tAjax Accordion issues in firefox/chrome\tRunning Webrick server in background?\tCan I create my own command in sublime and how to associate python implementation to that command?\tprepareForSegue not getting called when registering a custom cell\tC# Xml Parsing from StringBuilder\tDynamically generate a list of available languages in Spring MVC\tRecursively find subdirectories and files\tCheck key exists in NSDictionary\tc++ for loop with decrement update causing infinite loop?\tMySQL JOIN returns NULL fields\tNeed algorithm for angle of WPF line\tHow to get String value from a boolean value using MySQL query in Jasper Studio\tWhat is the usage of global:: keyword in C#?\tiOS Framework: All Functions Demanding Different Types of Parameters\tHow to print a binary heap tree without recursion?\tJavaScript variable is undefined after being passed in a function\t\"preprocess current file\" addin for Visual Studio? (C++ )\tObject Oriented Database Vs object Relational Database\trun method onclick crash in android\tDoes Akka support in-process messaging without object serialization?\tAWS Elastic Beanstalk - Increase Instance Disk Capacity\tInter Thread Communication in C\tDo we have Reminders in windows 8\tMake specific ListView item not clickable in Universal Windows Platform\tRegex groups in python\tFacebook Realtime Updates - Dispute - Response\tIs empty struct defined by C++ standard?\tBackground Image disappearing in Microsoft Edge\tJava getNodeName and namespaces\tSpringBatch CommandLineJobRunner -next using old run.id\tApache camel soap request type conversion error\tHow to get mouse position in float or double with exact resolution?\tHive query output to file\tCheck if an object exists in JSON\tPHP - Socket communication between servers\tWindows Phone with XML file\tLaravel 5.2 $fillable\tTreeview - highlighting multiple items\tOpenGL - Sweep Representations\tRstudio is.na(e2) error when sourcing r file of functions\tAdd subview to tableview which doesn't scroll\treadHTMLTable and UTF-8 encoding\t.htaccess block certain website\tUse for WorkItemAttribute?\tForeach changes not being preserved on Linq item collection\tWhy/How is IntelliJ causing debug output in Netbeans?\tTypeInitializationException when running Stanford.NLP.CoreNLP example\tCannot load MySQL JDBC driver\tMySQL - Trying to count tickets sold for an event\tA string with '-' character is not drawing properly in drawrect method in iOS\ttabBar:didSelectItem and popToRootViewControllerAnimated\tAPK loading workflow documentation\tchosen allow_single_deselect is not working as expected\twriting boost::archive to C# stream\tReplacing directory with external results in \"working copy locked\" on `update`\tLm across many columns in a dataframe in R\tCassandra adding disks / increase storage volume without adding new nodes\tHow do I pass variables between methods in java?\tCamera crash if called by other application\tTrying to retrieve the most recent previous entry in a table\tWatir wait_until_present times out instead of returning false\tCentOS install mod_dav_svn\tFacing issue with camera application\tHow to import data into neo4j (neo4j-community-2.0.0) in windows 7?\tTrying to save my Django Model Formset, keep getting ManagementForm error?\tUIToolbar on each page of UINavigationController\tNon interactive samba user creation via ansible\tError while installing netCDF4 for Python, can't find HDF5\tUse Flexslider's selector property to skip some slides in DOM descending order\tcarouFredSel Slider - prevent scroll to top on slides rolling\tStructure a NoSQL database for a chat application (using FireBase)\tHow to change images in grid view as the position changes in android?\tiOS6.1, iPod: Second video does not start at the beginning\tAndroid Emulator Won't Start in Eclipse \"reqested operation requires elevation\tTest that app launches another app in Android\tZF2 detach listener from EventManager\tPyScripter Rpyc\tCython: cimport and import numpy as (both) np\tAccess or download .csv file from dropbox using objective-c\tReplacing an equation and embedding a math function plotter?\tcan you make an image button move in the same was as a bitmap in android\tDynamic name, password and ip in MySQL\tAppleScript error \"Can’t make \\\"\" into type integer.\" number -1700\tnode (angular 2) updates the input field even on different PC or browser?\tRestrict cipher suites on JRE level\tJoin tables hibernate + group by\tPulling prior year data\thow to get rid of ArrayOfString classes from jax-ws client code\tGet a worksheet name using Excel VBA\tjQuery menu hover\tFormation of Clusters in MATLAB\tUse SQL to filter the results of a stored procedure\tJava: How can I tell if one of my array String values is null?\tGet log file name of database from .mdf file\tRename control methods in Windows Forms application\tSpring Boot maven exec - unable to start class\tIs IntentService appropriate for FileObserver\tAdd Button to CMS_Page_Edit via Observer\tUsing Nested Graphs in Sparql\tasp.net mvc int property bind exception\tLooping through AJAX and callbacks in jquery\tPrinting a Table from a Dictionary\tXcode 6, Yosemite Mac app help book: topic unavailable\tThere was no endpoint listening\tNSString that contain lots of null termination?\tBadTokenException - Unable to add window\tWhy is the getElementsByTagNameNS empty in java?\tAjax ModalPopup wrong display in IE8\tRescue all errors of a specific type inside a module\tSetting svn:ignore property on files that are not version controlled\tIs there a way to print to the console in an Android app?\tProgram exceeds a time limit, which seems impossible - buggy code\tReading values from one database and write it to another database\tVisual Studio 201x: C# syntax highlighting for new object names\tCalling a JAX-WS webservice from inside Matlab\tHow can I program a button in HTML to go to a link?\tRails 4, Ruby 2.0: Get PG Error when trying to get all records having a specified value in joined table\tAdd one \"day\" to date but let me choose what time\thow to use jquery deferred with vktemplate / queuing ajax requests\tCant set text in TextView - android\tDisplaying image in MFC method that is not ONPaint\tHow to insert new row to database with AUTO_INCREMENT column without specifying column names?\tInvalid Constraint Value\tMagento not saving any data\tJava Generics : Casting a raw type to any reifiable type doesn't generate unchecked cast warning\tNotifying user-mode as soon as a packet arrives\tHow to handle this type of events\tLinks don't work with jsp and jquery (How to link websiteurl in anchor tag in jsp page)\thow to populate a dropdownlist based on another dropdownlist selected value in mvc 4?\ttest driven asynch tasks\tLog file not being generated while running a script via Windows Task Scheduler\tHow to know the discriminator value\tWrap two adjacent td's\tHow do I get a Faye client given a client ID?\tRoboGuice custom module application context\tMemory leak in Python extension when array is created with PyArray_SimpleNewFromData() and returned\tterminal command for running sublime text 3 from on ubuntu\tStrange PHP 5.3 issue with date diff calculating difference in days\tWhy is my code making PDO return nested arrays?\tDelphi TWebBrowser - how to use proxy with login/password?\tUnder iOS, does anyone know how UUID's are generated for executables and what information may be encoded therein?\tCan't create a Hadoop sequence file on a local file system\thibernate ImprovedNamingStrategy overrides Table name in entity\tCan I compare MysQL timestamp with datetime columns? is it bad?\tJSON Safe Values from MySQL\tSQL Select MIN in Subquery returns multiple records\tHow to update self based on reference of value from hashmap from self\tCompile a Standalone Static Executable\tRally SDK App using Grid with collapsible tree of children stories\tmake a favorite list of job using PHP and MYSQL\tParent UIViewController Orientation Shouldn't Change After Dismissing the Child\thow to use jquery file upload angular version?\tHow do I fast foward branches without switching to them?\tManaging database connectivity with ADO.NET\tRepeat each value of an array two times (numpy)\tHelp me understand this C code (*(void(*) ()) scode) ()\tUnity3D - Audio playing getting muted after getting any call/notification on Android\tCan you set a tkinter background image without adding a new canvas element?\tusing tapply/dapply etc for t.tests\tBinding a 'IsReadOnly' Dependency Property\tMeteor: Sharing/Passing Variable Between Controller and Helper (diff files)\tGoogle Dart Simple Contact form\tLoop invariant of linear search\tHow do I add an element to a list in Groovy?\tDbAcl::check() - Failed ARO/ACO node lookup in permissions check.\tRotating coverflow effect\tHow to create multiple objects from a class with different variables?\tHow to store DbType.Time from c#\tCustom keyboard clear button\tTest class extending test class in dependency module\tError while making CLucene for Max OS X 10.10\tBind to docker socket on Windows\tgive type to anonymous type in linq query\tBigger image for first item of the gridview android\tForm is submitting the Array instead of the wanted field in CakePHP\tProper groovy script for sum of fields in Elasticsearch documents\tMonitor network usage of a process\tPHP SCRIPT issue with passing the uploaded image to facebook->api function\tCocoon and has_one association\tBad performance (stuttering) with Windows Phone 7 Page Transitions\tDatagridview enter key selects next cell from next row\tSearch and then delete depending on whether files contain a string\tBeautifulsoup Exception list out of range\tFooter. It overlaps on div\tHow to get the semantic orientation of String or adjectives by using SentiWordNet\tVisual Basic Regular Expression Question\tJquery validate file ext on upload\tCKEditor paragraph spacing issue\tboost::shared_ptr and nullptr in default template function argument\tEnemy Script Isn't working properly on my Tower Defense game c#\tTFS Build fails on Specifying Drop folder location\tFormatting a numeric field to fixed length in crystal reports\tIs there a framework/app for testing distributed systems or just network apps?\tasync/await for Worker\tComboBox bound to ICollectionView is displaying incorrect SelectedItem\tHow do I implement multiple argument generation using FsCheck?\tUniversal Analytics Custom Dimensions with Multiple Trackers - Old tracker recording User-Level Scope Dimension\tSSLSetup on Amazon Linux: SSL Error, Multiple certificates provided\tFirebird 2.5.6 romanian collation for UTF8 charset\tHow to implement builder pattern with fluent-interface with immutable results and extended interfaces?\tWhy did Rails Active Record migration generate COLLATE utf8_bin on varchar columns of mysql\tAssign Topic in chm file\tHow do I get a stack trace using the ruby debugger?\tef7 unable to retrieve child collections' child object's properties\tC# JSON Post From JavaScript\tsimple sentiment analysis with java\tdynamic allocation of more than 1 dimensional array\tjQuery works on my page, but firebug says $ is not defined error. Why and how to avoid it?\tHow reliable is h2 database?\tScrapy How to check if certain class exists in a given element\tUsing Workflow Foundation to define flow of asp.net pages\tAdd precompiled dynamic library to APK when using QBS build system\tConnecting mssql using php in linux server\t2 states roundable numeric text box with knockoutjs\ta href in FT InfoWindow not working as I would like\tHow can I do point-to-point messaging in Bluemix using MQ Light?\tMy javascript web workers are dying silently at random places. How can I debug this?\tDocker compose - secrets Additional property secrets is not allowed\tNUnit - Loads ALL TestCaseSources even if they're not required by current test\tWhat's MySQL's string compare rule?\tPython: Using Excel CSV file to read only certain columns and rows\tCreating a jump function\tauto-increment using loopback.js and MongoDB\tHow to go to next screen of an app using appium?\tCSS3 Rotate on animated element causing click event not to invoke\tdatagridview keypress event for adding new row\tSubtypes vs Derived Types in C++\tasmx service work regular but not async\tIntellisense on wstring displays: npos = 18446744\tAfter update from vs15 to vs17 660 errors appeared\tIs there a better HTML escaping and unescaping tool than CGI for Ruby?\tCan't add content on pages using webform template in Umbraco\tXcode crashes when i run the app on my real device\tHow to set a custom UIToolBar always in the front and top of the application?\tHow can I use the mongolab add-on to Heroku from python?\tI want to initialized every jtabbedpane's JTextarea with a new dynamic name?\tjquery: maskedinput plugin not playing nice with validation plugin\tCSS Conditionals for WebKit Browsers\tHow to check if an NSMutableArray contains an object which contains certain text?\tRxJS: Share() an Observable & Emit Last Value to each new subscriber\thow to load unstructured non-queryset data with django-tables2\tHow to search a video using youtube api\tdiv width height according text?\tJenkins node connection troubles\tunexpected behavior in core.logic conjo goal\tCalling an extension method on a member variable of type T of class<T>\tClear CSS menu hover state on click (page loaded via ajax)\tField 'x' doesn't have a default value\tCompatibility issues in swing drawing app OSX/Windows\tglMapBufferRange() is slow and memcpy() of the mapped data is also slow on Android\tFinding a control in TemplatedWizardStep\tWPF how to easily chain animations in code behind?\tConnect to remote MongoDB instance from ASP.NET\tWhat does --net=host option in Docker command really do?\tInject database context into classes using interface\tdojo tree custom icons\tAdd a choicefield to search_fields in django admin\tiOS app is rejected as \"Spam\"\tgetElementsByTagName results in NullPointerException\tCombining Parsley.js validation with the malsup jQuery form plugin\tLaravel 5.2 - Updated and Route group Middleware now is no longer called\tC# Component collection property not serialized when filled from property setter\tHow to enable bokeh tools in a pyqt QWebview\tHow to pass JavaScript value from View to Controller?\tBlueZ version in Android Honeycomb\tHow do I ensure nicely formatted HTML when I 'view source' on the browser?\tC# Socket BeginReceive / EndReceive capturing multiple messages\tRetrieve info from MongoDB using C#\tInvalid read/write of size when alloc\tWhy is assigning a value to the variable \"let\" possible?\tIs there any way to force https for some pages in spring-security?\tzClip don't work - multiple copy to clipboard JS\tArangoDB - Executing AQL using java driver 4.0.0 using filter returns null\tHow to add an attribute to a field a many-to many-field selected entry of a model which is inline in django 1.2?\tASP.NET oData patchValue received from Angular is nothing\tHard Code List of Years?\tIs it possible to access the state of a trigger in Angular2?\tJsonConvert throws a 'not a valid integer' exception when deserializing to a double\tUse a Gnuplot variable instead of Bash Variable in a bash script + gnuplot script\tHow to make a query linq check date is in month, quarter or a year\tAndroid app installation: Unknown failure (Failure - not installed for 0)\tHow to include the GroupBy() elements in Select() in Linq to Sql query\tDoes iPhone OS 3.0.1 ruin your development phone?\thtaccess Rewrite URL Without .php Extension To File\tNodeJs receive UDP numbers in ugly binary format\tFailed to execute 'importStylesheet' on 'XSLTProcessor': parameter 1 is not of type 'Node'\tClickOnce Error, Cannot activate a deployment with earlier version\tDynamically creating checkboxes\tIs Selenium 2.0 waiting for element / page to load?\tDeveloping Cordova plugins for Firefox OS\tImplementing a \"Singleton\" like feature using internal\tCSS Right Margin Does Not Work Inside a Div With Overflow Scroll\tsql query to get distinct rows in let table in simple two tables\tConnecting my Android phone to the DDMS SDK utility\tGoogle Charts - switch between table and chart view\tMVC Restful routing and returning Views\tWPF UpdateSourceTrigger\tHow to launch a LWUIT form from a LCDUI form?\tHow do I remove from the beginning to the 2nd specific character of a string?\tCreate dynamic checkbox in UIWebView\tAzure-cli installation failed\tUncaught SyntaxError: Unexpected token < VM105:17Uncaught ReferenceError: System is not defined\torg.hibernate.StaleStateException: Batch update returned unexpected row count from update [0]; actual row count: 0; expected: 1\tShow div based on selected checkboxes\tFullcalendar week view has unrecognized character\tHow to visualize embedded derby database?\tHyperlink URL causing resource not found error\tList view item having multiple buttons\tAndroid AWS S3 video upload occasionally does not work\tSoft keyboard \"del\" key fails in EditText on Gallery widget\tCompare two List<string> and print the duplicates\tNeed to pass string with newline character from Unix shell script to sql query\tCorrect way to initialize a NULL-terminated array of strings in C\tHow can i run this program in parallel\tExporting order details magento\tBokeh's equivalent to matplotlib subplots\tTypeScript type checking on type rather than instance\tcomponentdef error with ant\tHow to setup Quartz.NET for scheduling Emails\tHTML <tr> on double click show new messagebox containing table format\tGetting the name or ID of the User Name TextBox from an ASP.Net Login Control\tContext Free Grammar for which a RegEx is impossible\tHow to remove entire substring from '<' to '>' in Java\tRed5 demos don't work\tHow to change the background color of a non selected cell in JavaFx 8 table view\tAndroid Bitmap setPixel doens't work correctly? (set value, then read a different value)\tAttach Database using Management studio points to the wrong file path for the log file\tGrowing memory usage in MATLAB\tI have issue about the design view of windows phone 8 in blend&visual 2012\tget Phone Number from Facebook\tError in SendGrid on Heroku cedar stack\tMac OSX PHP and XAMPP path issue\tSharing data between Elastic Beanstalk web and worker tiers\tReroute query string using friendlyUrl\tSimultaneous events\tInserting a checkbox via jQuery stops the form to submit on webkit\tMemory versus Speed in Javascript Web Applications\tMissing \"libiconv.h\" when crosscompiling for Windows with mingw on Ubuntu\tHow to setup a JMX Notification Listener?\tIllegalStateException: Cannot convert value of type to required type\tHTML5 video background in Android showing black\tCORONA: timer.cancel() returns \"Attempt to index a nil value\"\tD3js code when called twice duplicates the graph instead of refreshing\tWhat is the shortest way of converting any JavaScript value to a string?\thow should I use the velX,velY information to get the displacement in X and Y between current frame and previous frame?\tHow to detect headset button double click in HTC phones with broadcast receiver?\t(Java) Check array for increasing elements\tToast notifications only pop up if the app is being activated\tAdd totals from rows that are otherwise identical\tAuto select item on JavaFX ComboBox after KeyPress\tWhy is Ebean not loading field project from ZenTasks example application?\tCompile error on serializing boost::unordered_set\tC++ A method that returns the decimal value as an integer of a binary that is represented with a boolean array\tUsing SetThreadAffinityMask function imported from kernel32.dll in C # code\tChange tab names in app\tapache rewrite: force https and name of server, not IP\tIs it possible to generate a global list of marked strings at compile time/runtime?\tPHP Content-Length header not working\tHow do I tell if the ObjectDataSource OnSelected event was called for the selectmethod or selectcountmethod?\tset background image in Jlabel (Label) box with dynamic text\tErrors with json_decode, array and foreach\tAction Script 3. Timer starts count when I'm in menu, but game not started\tHow to download a file with it's name using curl (C++ or D)\tquery error on search result of a xml file\tWhat do they mean when they say LINQ is composable?\tHow to render a Javascript and CSS for desktop devices only with client side solution?\tSqlAlchemy Oracle DataTime format\tKeyword sorting algorithm\tWriting to textbox in another process in Win32 (c++)\tHow to access spring jpa references in json\tpassing variables to sed command\tHow to send a data from arduino uno to a webpage through esp8266 wifi module?\tenums inside a struct - C vs C++\tBinary Tree type constructor in Haskell\tHow to add an error to a constraint in form?\tJava - Take text from file and assign matching parameter text to matching object\tnegative integer/float decimal number to signed hex and octal in standard C code\tProgrammatically append Swagger operations to generated JSON\tHTTP Error 500.19 - Internal Server Error\tCan we return any class object to Interceptor from action class\tCannot find existing package\tDisplaying an ArrayList with and without sorting?\tForeach group and subgroup dynamic loop\tDisplay Images from internet in a windows phone 7 app?\tGarbage collection with a very large dictionary\tPHP - Simplest Way to Post & Display\tNSCoding crash on encode only on 64bit devices\thighchart mysql jason with dropdown select value for where condition\tWPF Data binding C# in xaml\tMaking a content div fill the space between a variable height header and fixed height footer\tWhat are some viable alternatives to BizTalk Server?\tBluebird Promise.any() early reject?\tHow to make non-blocking raw_input when using eventlet.monkey_patch() and why it block everything, even when executed on another thread?\tHow Can I Make These Links Rotate in PHP?\tI18n and Passwords that aren't US-ASCII, Latin1, or Win1252\tHow to add a peridic timer callback in a linux kernel module\tHide all div's except one\tHow can I calculate pi using Bash command\tGson with dynamic objects\tConvert iOS project to 64 bit using ConvertCocoa64 script\tMaterial 2 - autocomplete not showing options\tLaravel Valet not working. 127.0.0.1 Connection Refused\tHow to check column is virtual in Oracle?\tSearch functionality result should be in the same page in Rails\tImporting values from one window to another in MATLAB GUI\thow to read sql server mdf header for log file information programmatically in c#\tDisplay progress while restoring database in linqpad with reative extensions\tHow to invoke a remote REST service in NiFi\tUsing Ajax to render partial view, taking an object as parameter\tPHP fread() Function Returning Extra Characters at the Front on UTF-8 Text Files\tHow can I call a webservice from C# with HTTP POST\tWhy is there a visible gap between adjacent DIVs on iOS Safari?\tDoxygen and Objective-C categories\tHow to send personal message to my Facebook friends in iOS SDK\tSlicing NumPy array with dictionary\tShould a class constructor return a subclass?\tHow can I programmatically set column filters?\tStackoverflow exception in JSON.net\tXcopy to multiple folder into subdirectory\tRetrieving the length of a list in MongoDB\tAndroid Database Access Design Approach\tparse XML Subfolders in to iphone\tIs 1 Session Token enough for multiple Ajax Request?\tLNK2005: \" already defined error\tGet element width in px\tStreamWriter 64512 character limitation\tFixed Header & Footer not working in JqueryMobile\tcall a function when the program is finished with ctrl c\twhen implementing a binary search in Java, is using ArrayList.sublist considered 'in place'?\tGoogle+ Domains API 404 Not Found error\tFile name matching with -e and regular expressions in perl\tIssue setting up Android SDK - Failed to Start Emulator\tHow to read Logback configuration file from path outside the war file?\tDisplay multiple tables in datagrid\tMocha + React: navigator is not defined\tmatlab: eigs appears to give out inconsistent results\tPassing lxml output to BeautifulSoup\tPass an array of objects with function to directives\tCocoapods Completely Broke\tReading/editing IndexedDB data for IE11\tcss ie6 sprities image not showing using inline-block\twhy is 5 the default number of connections in the rails database connection pool?\tHow can I make my elements fade in and out as their display attributes are changed in Javascript?\tJaggies text when fillText in canvas in chrome\tWindow_Load event in MVVM\tUse calc() in transform:rotate()\tSpeed of many regular expressions in python\tNotification placement on website with notify.js\timage size limit on iPad?\tHow to remove whitespace in a list\tGenerate a dynamic ul li List from DB\tShopping cart program\tError Importing Jar to Android Project\tConvert Varied Text Fields of Duration to Seconds in Pandas\tHow to POST empty <select .. multiple> HTML elements if empty?\tHow does Erlang heart work?\tFix spurious rspec \"photo can't be blank\" failures for Carrierwave\thow have different background images for different times in the day\tCreating a loading Arc in C# (WPF)\tsome clang-generated assembly not working in real mode (.COM, tiny memory model)\tHandle tunneled custom routed event\tAndroid app Listview cannot be scrolled to bottom to search a specific element using appium in java\tHow to use boto.manage.cmdshell with ssh-agent?\tHow to create URL Link outside UI Project?\tProximity searching phrases with root expanders in Solr or ElasticSearch (especially websolr or bonsai.io)?\tWhat is localStorage?\tThe easiest way to replace white spaces with (underscores) _ in bash\tNot Able To Add A New User To An Existing Account Using Management API\tIn Emacs, how do I display a message in the minibuffer with font face properties?\tcodeigniter validation should work only when array of email id is not empty\tWhy does Phalcon 2 raise \"undefined symbol: php_pdo_get_dbh_ce in Unknown on line 0\" warning?\tHow to solve undefined method `to_key' for #<Book::ActiveRecord_Relation:0x007fb709a6a8c0>?\tTypeScript 0.9.* VisualStudio TS5037: Cannot compile external modules unless the '--module' flag is provided\tCannot get my bootstrap rows on the same line\tRInside on Mac OS X\tCommunication between two modules in AngularJs\tiframe scrolling on the iphone\tTURN Server use https connection for the admin session\tIOUtils.copy fails 2nd time\tprint copyright symbol in TextView\tHow does codeigniter's load work?\tHow to create Windows Phone 7 SMS textbox\tMock GPS location and Chrome for Android\tWhat was Tim Sweeney thinking? (How does this C++ parser work?)\tInit a class with one argument using objc_msgSend\tSQL Server Management Studio Schema View\tC++11 for windows XP SP1\tInvalid Cast DateTime?\tHow to implement clock frequency multiplier using VHDL\tSend an email from an iPhone app containing an img tag\tRegex which ignores comments\tHow to implement AVAudioPlayer Inside Singleton Method?\tHow do I get rid of the gap left by an relative positioned div in Firefox?\tWhat is a good method of persisting application properties?\tSimple way to hook registry access for specific process\tember.js show default nested route if none provided\tUsing transform() and calc() in firefox\ttwisted passing certificate to ssl handler\tProcessing items in SQS queue with a php script\tDirty Reads in SQL Server AlwaysOn\tLooping through generic object properties\tWhy is Cocoapods complaining about the embedded content contains swift setting in the build settings?\tUsing PHP & cron how can i inform  a user that he has got 15 days more left to pay his amount?\tMVC 5: Should I inherit my User from IdentityUser class?\tPreserve the tab spacing and white spaces in attributes of XML\tIs it possible to refresh a timer in a Today Widget?\tJenkins copy files between 2 Server\tapp is crashing when i try to release nsmutablestring please help on this\tCustom UIView iboutlet not set\tHow can I achieve float left at bottom and float right at top with css flexbox?\tshell_exec() returning null on \"ls\"\tHow to do an XOR of the binary forms of all integer items in a list\tPassing Form OpenArgs errors as NULL?\tGetting quoted string using ContentValues for insertOrThrow\tis there an 'afterShow' on jQuery UI datepicker?\tcell computation for tablesorter\taccumulation curve in R\tphp script running on apache\tNSString to NSData Failing in Encoding\tHow to match a crash's \"Fault offset\" to the source code?\tHow to get the total number of subscribers from start date to current date?\tsbt unresolved dependency for spark-cassandra-connector 2.0.2\thow to remove the save button in odoo 10?\tExplicit instantiation of a templated class and dynamic_cast in a shared library\tRestrict keypress in wpf textbox\tRails - how to send some information from one form to other controller\tUsing Filemerge how to you get to see the lower pane. The one with the results in?\tweb.go install error\tHow to update the different XML element simultaneously by multiple users in single XML file?\tBootstrap Carousel does not work\tFormatting textfield based on currency style\tTCL : what is the major drawbacks of source command over package command\tHow to Declare Complex Nested C# Type for Web Service\tJmsTemplate - define concurrency per queue?\tDebug+Unplug vs RUN Android\tGet configured wifis with ADB\tErrno::EPERM (Operation not permitted FILE_PATH) when uploading image with Rails, Carrierwave, Amazon EC2\thow to change xcode app icon?\tadding multiple columns to a data.table, where column names are held in a vector\tFind the date difference in ElasticSearch\tYii2 has many or where\tCompare array values with others values from the same array\tCreate appointment via Exchange Web Services, set extended property only on organizer's instance\tBokeh - how to update ColumnDataSource to plot streaming line graph using periodic callback\thow to get selected rows in QTableView\tDelphi-XE4 understanding threads count\tVisual Studio Report Designer: Embed font\tFacebook like button statistics\tSQL - One record per date\tPassing Parameters between xaml window and usercontrol WPF\tPassword field <p:password> Value Won't Re-Appear In Form After Saved And Selecting That Row From Data Table\tExtjs:Assign value to hiiden field from store\tWorkaround for external API which does not have CORS enabled?\tHow to edit epub file content with PHP\tHow do you handle an aggregate root with a collection of child entities whose update frequency is different than the root?\tChange Select value using GWT Uniform.js\tRedirect to action passes null instead of object\tConvert Begin and End Coordinates into Spatial Lines in R\tUsing the Windows.Media.Speechrecognition namespace in a Qt C++ application\tTable View Cells \"jump\" when going back from View Controller to Table View Controller\tPositioning Toolbars in Eclipse/RCP\tRedirect simple url to https in php codeigniter\tChrome Extension with Database API interface\tTesting a web based application on Iphone\tRSA encryption AND decryption with JS AND PHP\tSort Options in a Select List with javascript/jQuery.. but not alphabetically\tOutput tabular data with IO.ANSI\tBinding Attached Behaviour from code\tSet zebra list after javascript filtering\tExternalizing JPA Mappings Configuration\tMemoryStream Seek, Needed After Instance Creation With Buffer?\tBuilding QGIS source code on Windows 7 - Not working\tHow to add/remove many-to-many relation with entity framework by entity key?\tChoosing cloud storage service with web API can FTP third party server\tHow to pass text with new line as parameter to a bat file?\tHow can I populate an associative array with a variable name in bash?\tUsing map in Python\tunable to apply three.js texture to JSON model imported from blender\tXPS Viewer will not open document created using .NET printer Graphics object?\tComparing value to that of previous row depending on different field\tAnomaly in GNU Prolog `delete/3` predicate?\tZend Php ORA-02391\tStream a PDF to a web page failing\tCounting the frequencies of bases using for loop and substr in perl\tAngular slotted transclusion with attributes\tKerberos/SPNEGO : multiple SPNs for the same AD account\tReact es7 static childContextTypes unexpected token\tSimultaneous HttpClient request using multiple AsyncTasks\tPHP extension install - phpize error - on NGINX/PHP-FPM\tRedirect only WordPress homepage with a 301 redirect\tConvert unicode to string\tDisabling specific cell edit in DataGrid\tPython and Regular Expression Substring\tWorkflow for Using Django South with Multiple Code Branches\tHow to dynamically generate CSS file from database in ASP.NET MVC\tCLLocationCoordinate2D without knowing how many will be in the array?\tCastle Windsor: How to register by convention with delegate method?\tHow to apply segment using Google Analytics .NET client\tIs there a way to redirect the browser from the bootstrap in Zend Framework?\tGWT RPC can't instatiate class on server side\tLoad website in iframe dialog, jquery\tHow to execute code when textField content changes?\tRecursion in C confusion\tFind Leaflet map object after initialisation\tWM_GETREDRAW available?\tJavascript: Round Time UP nearest 5 minutes\tFatal Error Msg\tNew line character in VB.Net?\tFinding all indices for certain input\tCall function on jQuery show()\tHex sum algorithm\tRun PHP using AJAX in Laravel\tEclipse hangs when trying to debug clojure project\tMVC2 how is <%: tag different to <%=\tWhat is the default PHP configuration?\tHow to copy entire directory structure?\tLaravel Error on Repopulating: htmlentities() expects parameter 1 to be string, array given in\tThreaded Beans doesn't get Environment @Autowired to them in Spring when using JSR330 Provider\tSorting and Limiting data in MySQL\tSame versions of Office.js hosted on 'beta' and '/1/'?\tSAX2 (Xerces-C): How to get the line number of parsed tags?\tLVM_GETITEMPOSITION\tregex match string replace in new string (notepad )\tAndroid ImageView drag and drop positioning\tWhere I can find a place id on google maps\tcategories is undefined - rails\tbackbone: better way to template?\tWhere's my stderr going?\tJava Spring - Redirect page to \"outage\" based on db cell value.\tIs there a way to open the Duplicate Detection window in CRM using javascript and without saving the record?\tEnergy efficiency on CPU utilization\tUsing same hibernate mapping files across multiple projects\tLinq to XML query not picking up any values\tpyqt: controlling a border widget\tI am searching for the PowerBuider Foundation Classes User Guide. Preferably PDF to download\tCodeIgniter - get error messages\tHow to read logback configuration file from system environment in tomcat 7\tjQuery Ajax file upload : Required MultipartFile parameter 'file' is not present\tread xml from jsp\tAdding objects to an array and then showing in a table\tHow do you write an exception without revealing sensitive information?\tWordcount example using Apache pig\tHow to know the which activity is ruuning in windows phone 7?\thow to get log messages from ios app\tFormula to divide data from one cell equally into multiple cells\tMultiply two int arrays\tConnection string error using membership provider from WCF service\tJava : How to access UNC location\tPermission denied to access property \"invoke\"\tMvvmCross services from another assembly, not MyApp.Core\tWhy we should always return values from a function?\tUpdating iTunesArtwork and screenshots for published app\tHow to pass a Javascript variable to Twig in this particular example\tZebra-striping nested lists with CSS\tAngularJS - Create a login page with a totally different layout\tHow to drop rows by name pattern in R?\tSummarizing rows in a Pandas DataFrame\tEquivalent of Hibernate SEQUENCE in Sybase ASE 15.5\trecreating iOS SMS/Facebook Messenger text bubble tail\tBorder Image Confusion\tHow to build a numpy array row by row in a for loop?\tWPF validation not working as expected\tChange Tab view after certain time interval received as response from Server request\tCan all 'for' loops be replaced with a LINQ statement?\tSeconds into time elapsed in JS\tcan't override class file in module in prestashop\tMOMC error in xCode 6.2 beta\tUsing a fragment as a ListView header in only one orientation\tHow to use unapi for biliographic in drupal\tWinForms Data Binding Entity Framework 6\tString masking: Confoming text to a given mask\tRemoving rows which contain all 0's in r\thow to add 2 background images on the sides of the page\tBeginning and end of the string in Emacs regexps\tmultiple gremlin commands combined as one\tSQL join, sum, group-by and instead of null 0\tHow to check cursor is on newline or not in ckeditor 4.x\tFilter array result with mechanize\tHow to remove � character while parsing xml file in android\tLINQ to Json data retrieval from polymorphic json\tRunning native code on Azure\tBootstrap3 Navbar fill content\tDoes SQL Server Compact (CE) support a RequiresNew transaction scope inside another one?\tHow to redirect a URL containing smartquotes via .htaccess?\tAccordion open when page loads\tZurb foundation more than one joyride\tIs there something like $this->db->matched_rows() in CodeIgniter?\tC# LinqToSql SubmitChanges() does not update, even though PK is set\tHow to completely remove vitualenv?\tJava rotate an image in the center\twhy do `#!/usr/bin/env var=val command` gets into an infinite loop\tOpenTBS - Strategy for dynamic number of row, column generation in excel template (used for chart data)\tError installing Frama-C with opam (Ubuntu 14.04 LTS)\tHow to configure jacoco for integration tests written in jersey test framework\tVideo chat application : Which technology to choose?\tA strange error in java generic\tPandas Split Column\tHow to add dynamically created tables to SQLFORM in web2py\tA separate thread freezes while sending HTTP sequests\tconverting javascript array to a dropdown - jquery\tSpring jpa modifies column names\tCountry, state list for SQL Server\tserver side control in MVC\tjava not saving ints correctly\tSize of menu dependent on screen resolution\tAdd PHP API documentation to vims balloonexpr\tHow best to access current_user devise helper in backbone\thow do I generate histogram output from an array in Java?\tModify dynamically a rdlc report (c#)\tDelphi XE4 64bit _TExitDllException\tjava.lang.IllegalArgumentException: Failed to find configured root that contains /storage/emulated/0/Pictures/\thow to use CSPARQL-ReadyToGoPack-0.9 in a SBT project\tClassNotFound exception during deploy\tDictionary Help! Extracting values and making a table\tPermission to provision new site collection through workflow\tHow to Retrive Apple App Store Rating Details\tconverting UTF-8 string to ASCII in pure LUA\tRetrieve rails/devise current_user from Backbone\tHow to create dynamic dependent list in Excel VBA?\tMysqli query return empty results\tFinding the shortest path between 2 points namely S and G?\tInput to print output\tNHibernate - Paging with ICriteria and optional ICriteria calls\tOracle adding trailing whitespace to my to_char(date)\tvariable passing -v in awk not working\tRoutes in DART, s server required?\tWhy does the Server need access to Kerberos?\tJQuery > ScrollTo > highlighting the item that was scrolled to\tHow to get the package name from JNI to Android?\tHow to use or condition in serverspec?\t7-Segment display control using Microprocessor\tNewly installed IIS. Aspx page not getting displayed\tFinding string length without using strlen and using function in C\tforce LinqToSql to submit\tmakedepend missing?\tArray implementation on FPGA using VHDL\tWould you implement a lightweight XML parser with <regex>?\tDifferentiating division from regex when lexing gawk code\tMssql query exec returns error\tC# ASP.NET SQL Data Source\tWebpage Fitting To Every Screen Reslution\tFind the path of a local file or directory in javascript\tWhat is the recommended way to append to files on HDFS?\tUML modelling tool for php\tJacoco.exec file not being picked up by Sonar in Jenkins\tWPF : Is it impossible to UI load in background thread?\tCodeIgniter doesn't see images (using file_exists)\tSQL Server real/float precision changing during SSIS import to MS-Access database\tHow can I easily maintain a cross-file JavaScript Library Development Environment\tPassing arguments to execfile in python 2.7\tRuntime error of Console()\tIs android.view.View touched now?\tPlay MP3/WAV files without using libraries?\t@ManyToMany relation not save\tHow to have margin on extended page tablix with SSRS\tCan we export multiple non-AMD functions from a module in requirejs?\tDistribution of decreasing quantity over X number of days\tAssistance with Nested Dictionary\t-[UIScrollView zoomToRect:animated:] weird behavior when contentSize < bounds.size\tAppointment.Bind() and Mailbox\tI want to pull out the number of special characters and the number of vowels in each sentence using a matlab command\tSetting background color of android actionbar\tAdd an arrow under the active menu item in HTML+CSS\tDelphi - XE2 code to Delphi7 needed. Using wininet to download a file\tCarriage Return showing in notepad++ but not textpad?\tDjango SSL for some pages only\tD3 - Uncaught TypeError: Cannot read property 'length' of undefined\tHow to check for network reachability on iOS in a non-blocking manner?\tHow do you best convert a recursive function to an iterative one?\tJQuery use .on() with not selector\tHow to run an application in background for windows mobile 6?\tSwing GUI Development with Spring\tAccess Get parameter with a scriptlet\tExporting HBase table to mysql\tR extension breaks connection to extensions directory in NetLogo\tGoogle App Engine Deployment Failed, \"empty index configuration\"\tCRON - chown and chgrp to a directory from root user to www-data\tEaselJS object inspector\tApplying jQuery Resizable on a dynamically generated html data table\tRunning magento on other port than default 80\tLiferay: what is the default approach for logging in Liferay?\tUICollectionVIew : How can i remove the space on top first cell's row\tSort a Delphi dataset\tPolygon object support in Backand with an external MySQL\tMultiple JavaFX stages in fullscreen mode\tmatching form input to mysql database value\tFiremonkey IFMXLoggingService Windows Event Log Location\ttpl dataflow: fixed buffer size without throwing items away\tbash- Redirection inside quotes after ssh\tFetch 5 Columns and their value from Mysql query and translate into PHP\tIndexedDB - Dexie JS : Dynamically create stores\tHow to use PackageManager to check if an app is disabled in a method\tHow to show notification on top of screen?\tSqlalchemy: Undefined variable from import: metadata\tansible: use different logging level for terminal and log file\tHow do I refresh page automatically when partial refresh doesn't work?\tTFS - What security would allow me to 'Add files' in one project and not the other?\tPHP rest API authentication\tDisplaying or editing data readed from floppy\tWhat does the slash denote in postgresql virtual transaction identifiers?\tIs it possible to create a bubble polar chart with Highcharts?\tMako Filter in Chameleon?\thow to do select all when selected a checkbox\tExtJS floating window focus lose detection\tHow to hide the paging row in the gridview when exporting in excel?\tError \"No recognizer is installed\" with recognition speech\tembed json file within d3.js\tis there any way to create a menu bar using glut?\tHow does waze change objects location with their localization?\thow to call cross-domain web api using ajax?\tPrinting Entire Contents of WebView in Cocoa, Not Just Displayed\tJSON arrays with duplicate items with Hamcrest and RestAssured\tHow can I return an array of Promises from a then clause\tCan't get run my application after installation?\tHow do websites like torrentz.eu collect their content?\thow to include google-map in polymer#^2.0 as it was working in polymer 1.7\tHow to change the reference point of an html element?\tCore data executeFetchRequest consumes huge amounts of memory\tDaylight Saving Cause an issue on jQuery UI datepicker on Firefox\tWhy can't this macro execute?\tHow to get linkedin profile follower count\tHow to call protected constructor in c#?\tExcel VBA / SQL Union\tGo, Golang : array type inside struct, missing type composite literal\tUnable to install bower on Openshift\tCombining jQuery .val() and .contains()\tCNG, CryptoServiceProvider and Managed implementations of HashAlgorithm\tNSString writeToFile with URL encoded string\tDjango: Access pre-save object with post-save signal?\tCustom Merge Function in R\tAssignment makes pointer without a cast\tWeird Behaviors of time in Rails application\tPython-mock: how to test if super() was called\tsetGraphic() not working correctly on recursively created TreeItems\tStrange behaviour of sscanf with string\tHTTP method for a WCF Restful Service\tSubSonic .Filter() in memory filter\tDoes ASP.NET MVC use the regular toolbox controls?\tHow can I render a GSP as a String?\tpublishing ASP.Net MVC 4 Project\thow to hyperlink to a TFS item from visual studio\tmutex attribute PTHREAD_PROCESS_SHARED inverts logic?\tUnable to call SOAP Webservice using jQuery\n",
            "3 54463 jQuery: Show a div2 when mousenter over div1 is over\twhen hover on div1 depenting on if it is on div2 or not it should act differently\tHow to run selenium in google app engine/cloud?\tPython Comparing two lists of strings for similarities\tHazelcast creates 3 nodes/members when configured as Hibernate L2 cache\tJSON-LD framing single object arrays\tIs there a way to print to the console in an Android app?\tRun server-side code on html button press in Express?\tSorting an array by alphabetical order before it is selected by UIPickerView\tNode - Prevent child process from going in to parent directory\tNo Empty Trash scheduled task in Sonatype Nexus OSS 3\tDelphi XE7 - FMX Android - Entitlement List missing from Project Options\tCodeigniter HMVC: Second child module not working\tjava Scanner declaring\tSAS procedures Delete and Datasets\tShowing Distinct Values with Aggregates\tCreating a new Event with Objects\tHow to pass parameters via dsp:iframe to the iframe\tisa is deprecation issue\tCheck if document exists in mongodb using es7 async/await\tHow to load dynamic contents to slider drawer in android?\tCan you help me understand pointers and addresses?\tHow to return different strings from a Boolean type in MySQL?\tRails bug: accepts_nested_attributes_for is not updating my has_many association\tAutomatically Logout of Application when in Background?\t(ETW) EventSource in a common component\tUnderstanding Chef::Config.http_proxy\tComparing byte[] in LINQ-to-SQL and in a unit test that uses mocking\tAre HTTP accept extensions exclusive?\tBreeze connection to Entity Framwork(DB first)\tWhat's the safest way to launch an untrusted URL?\tMySQL column name standards / conventions\tOpenshift new-app from local Docker image\tissue with fading in and out in jQuery\tJava ProcessBuilder Cannot Find File Specified\tAWK: Recursive Descent CSV Parser\tBar chart not displayed with chart.js. can some one help? code pasted below\tSetting panel attributes dynamically in Sencha Touch 2\tAdd object on a tableViewController\tPHP closes program when using AJAX\tsocket.error: [Errno 10054]\tset a specific umask for only one user including ssh (and sshfs/sftp access)\tUsing Kentor.AuthServices.StubIdp as production IDP\t'Property does not exist on type 'never'\tlog in yii2 account using Alamofire\truby on rails getting a 2-way friend relationship in active record?\tPython and Regular Expression Substring\tHow to use checkstyle:check in a multi module project\tIE 8 Canvas using excanvas polyfill: no errors, but animation is not running on IE 8\tVB Script - Find Most recent folder, copy files to destination folder\tImprove TSQL Stored Procedure for pairwise execution of procedure\tCan you save a file on the local drive through RemoteApp instead of saving to server drives?\tAdd two times the same class on one element\tCurrent way to download large files in rails\tHow can I download the examples from twitter bootstrap website\tJava Web Services: Getting HTTP 400 with generated client code in simple app\tscanForPeripheralsWithServices:options: unable to connect when specifying services\tpresenting modal views in a popover\tGlimpse.EF.AlternateType.GlimpseDbProviderServices' not found\tThread.Sleep(0) doesn't work as described?\tHow to add text to textarea by pressing the enter key in javascript\tIs there a way to retrieve the SQL results without using iterator? (using hibernate)\tIs it safe to send sensitive data via Intent or Fragment.setArguments()?\tHadamard matrix code\tEditText View returns null\tLoading JNI Dll\tXcode 6/iOS 8 - Where is the .app file\tMy Ajax call isn't working - Trying to populate jstree via ajax php & mysql JSON\thow can I run play framework with port=9001 under windows cmd not under play console?\tgit add of unstaged file succeeds, but file is not staged\tLINQ query to find Date difference?\tHow do I reduce the padding around text in Android xml layout?\tHow Can Users Select Days of the Week?\tSkipping precaching: Cannot read property 'concat' of null`\tKaratsuba algorithm - Error in my implementation\tDeleting entities non-destructively in Symfony2\tWhen run \"sonar-runer\" throw exception :\"Caused by: Unknown database status: FRESH_INSTALL\"\tWhy the variable is out of scope?\tPlot in matlab, using Latex interpreter\tHow to Rename SWIG Generated Proxy Java classes created from C enum types\tHow to get the default HIVE_HOME in cloudera quickstartVM -5.7.0?\tIs there any way to programmatically add a startup script to the local group policy?\tUISegmentedButton setting tint color using pattern\tdiv width height according text?\tSQL Server - I need to see correct date/time and not a number\tJava -version shows 1.3 when I updated the classpath to c:\\java\\jdk1.6.0_20\\bin\txhttp GET request to an express.js server - nothing returned\tpositioning the cell in pdf using fpdf\tUsing RestSharp in Windows Phone 7\tDynamically select the columns to be used in a SELECT statement\tApplication Data Folder and Company Name With Underscores\tGet Disk Number From Current Location\tFinding matching string from javascript array\tUnable to start activity ComponentInfo{...}: java.lang.NullPointerException\tTrouble Using Apache's HttpClient with HTTPS in Web Containers\tNeed to convert multiple Fusion Chart to image from code behind\tWhat does \"0 skipped, 0 blacklisted\" mean in the Qt Unit Test framework?\tNo plot window shows up with matplotlib.pyplot run with Enthought Canopy python editor on MacOSX 10.8.5\tbuttons are not displayed\tLinq query generator tools\tStrict Standards: Non-static method Error in Joomla\tHeroku ssl:endpoint with GlobalSign ExtendedSSL\tCan I override a color on an DrawingBrush image loaded from a resource?\ttrying to get rid of a persistent log warning debugging on Huawei Ascend P6\tAccessing Matrix Array Value in Json_encoded Array\tBind Control's Property to Variable, Bind Variable to Another Control\tTo which C# data type does MS Access \"Number\" type correspond?\tGenerating dynamic html through plsql\tAngular POST request to AWS Elastic Beanstalk returning \"Response for preflight has invalid HTTP status code 401\"\tCreate OCMOD xml\tAssigning attributes to a join table in rails\tOrder by enum description\tAndroid SDK installation (adt-bundle-windows-x86_64-20131030)\tImport a CSV file into Access database from SharePoint Online Document Library\tExcel Macro VBA- How to save as xlsm with a filename based on date and cell value\tGKLocalPlayer runtime error for iOS 8.4 with Xcode 7 Beta 4\tClipboardInterop content changed fires twice\tError deploying WCF Client - 'system.servicemodel was not found in SQL Catalog'\tGenerate a large random planar graph\tExecute a sql statement when a connection is created\tHow to know if all the Thread Pool's thread are already done with its tasks?\tSynchronize between an MS Access (Jet / MADB) database and PostgreSQL DB, is this possible?\t\"This is test order, You will not be charged\" Error\tMatlab error in ode45 or fourth-order Runge-Kutta method to solve a system of coupled ODEs\tMultiple Command Binding\tHow can I display email formatted as \"FirstName LastName <FirstNameLastName@domain.com>\" in HTML?\tHow to encrypt data using KMS key in AWS Powershell script\tHow to set application identity of an application pool using web administration module in powershell?\tCenter aligned zoom in / out Image animation\tCyVis 0.9 Ant task failing to generate html report\tan error when choosing between two specific date in datagridview in VISUAL BASIC\tHow to upload second version of app on app store?\tActive Directory Authentication Library (ADAL) won't install Visual Studio 2013 .NET v4\tWPF Memory Leak from Drag-Drop\tHow to create a table cell with a two-colour background?\tReact: How to animate the change of the component rendered?\tError Number 10170 in Verilog using If/Else and Case Statements\tPHP Generate UL LI , UL LI\tknapsack problem (classic)\tLoad More / Show Less issues using jquery\tHow to read utf16 text file to string in golang?\tMicrosoft Access Sub Form Write Conflict Troubles\tMake changes to a git submodule and then add those into my main project\tsscanf with pipes C\tSQL pivot with dayValue [dealing with date in pivot-table] MYSQL-solution\tHide empty element on Bootstrap tab via jQuery\tHow to read a key pressed by the user and display it on the console?\tParsing a string into an table using oracle SQL\tApplying array_agg / array_to_json to a query with modified columns\tMongoDB.Driver.MongoCommandException: 'Command aggregate failed: '$group' is not supported.'\tgive type to anonymous type in linq query\tcheck if sorl-thumbnail has already cached an image\tPowershell- convert CSV to XML\tMagento and configurable product attributes\tProgramatically disable series on nvd3 Horizontal Multi-Bar Chart\tdateutil parser without defaults\tHow to handle javax.faces.resource resource not found\tHow to compare 2 vectors and create a separate vector based on the comparison\tCheck for the google maps spelling of a location's name\tHow to visualize only the descendants, ancestors, and self of a node in a hierarchy?\tBootstrap 3.1.0 modal remote content\tHow to pass Model Value through ActionLink\tHow to make cakePHP 2.x in sub directory appear in root (with mod_rewrite in htaccess)?\tTwitter API: post on behalf of whom?\tFunction pack() returns 0\tDrag/drop from ListBoxDragDropTarget to PanelDragDropTarget\tRetrieve all content between a closing and opening html tag using Beautiful Soup\tHow to sort a vector containing const values\tLucene.NET in medium trust\tWrapping C++ functions with GNU linker\tWrong attribute of sequence parser\tCropping image based on background stripe colors with python\tSimple 2 column layout\tspring security 4 custom login page\tCircumventing GPL Packaging of Non-Virally-Licensed Libraries for Debian or Ubuntu\tHow to open up an Ionic Modal upon click?\tAlignin div's like pinterest\thow to access multipolygon coordinates in mysql\tDelphi RTTI SetValue for Enumerations\tModifying Python code to use SSL for a REST call\tHow to edit page tab image? OAuthException: (#300)\tPowerbuilder PFC : Where to start learning\tError Launching AptanaStudio3 in OS X El Capitan\tWindows Azure Authentication Provider is not enabled\tHow to return correctly a NSMutableString from a method\tWhy is the lowest-ID row always returned when also returning a MAX value for a column?\tHow can I load optimized code in GHCI?\tRuby \"return unless nil\" idiom\thtml textarea injecting line breaks\tR find value in multiple data frame columns\tTypeError: can't multiply sequence by non-int of type 'float' : prblem with NumPy arrays\tReplace a word in text file with another word using macro\tdetecting a div's position based on it's attaribute\tSystem.ArgumentNullException in System.Threading.Monitor.Enter\tExpose C++ buffer as Python 3 bytes\tAdvertised disk space vs actual disk space\tXcode: disable cocoa breakpoints\tWhich framework best to use for a cross-platform cross-devices platform with multiple apps\tsending mail by android app using javamail api without user interaction\tAngularJS - Render multiple strings and HTML files in a single tag\tAdd CSS to react created elements like data-reactroot\tDoes LINQ-to-SQL Support Composable Queries?\tPOSIX partial write()\tGit extension does not work in Visual Studio 2017; Is it a known issue?\tCannot create new plotting window (device?) with par(new=T)\tHow to Add CAPTCHA ControlForm into page\tWhy the component react-native-typewriter doesn't work?\tGoogle Scripts Concatenating rather than adding\tPassing quoted string arguments to a bash script\tQuery String generated by $.param() include square brackets for array\tHow to display hidden table rows with radio buttons using JQuery\tPreventing CKEditor from adding 'data-cke-saved' and converting &lt\tknockout foreach binding not working when viewmodel used as a sub-view-model wizard style dialog\tbootstrap textbox autocomplete\tVisual Studio - migrating to new layout\tFirebase authentication Iframe\tCan I use Roslyn to accomplish this C# syntax transformation?\tcamera2's setVideoFramerate() doesn't have any effect\tHow to mock methods with lambda as parameter\tAdd values to app.config and retrieve them\tR extension breaks connection to extensions directory in NetLogo\tUITableView and UILabel repeating\tXOR neural network error stops decreasing during training\tknit HTML does not save html in vignettes/\tHow to get a list of items when using cassandra\tRXJS: Aggregated debounce\tRails + Emberjs: Can't verify CSRF token authenticity\tThread.Sleep(0) is not working as expected\tAny problems in using hibernate's session.connection() to run native sql\tTkinter MessageBox Align\tWhen to choose development of a PowerShell Module over PowerShell Script\tXStream: How do I map xml mixed attributes and elements to POJOs?\tRails query interface where clause issue?\tHow to manage .NET Master Pages in Dreamweaver CS4?\tHandle UnauthorizedAccessException When Directory.CreateDirectory() Run\tWPF: How to make HeaderedContentControl.Content fit height?\tCreate a credential object in java SAML\tInitializing a pthread mutex in shared memory\tGenerating TestNG reports\tHide dictionary path in autocomplete popup menu\tAIR/Flash mobile/As3/ lowering resolution or upscaling for performance\tHow to run node app with sublime text\tDjango - How to add html attributes to forms on templates\tHow to test whether x is a member of a universal set?\tPDO SQLite query zero result issue\tSemantic UI form validation - validate certain form fields only if value is not empty\tUse parentheses to disambiguate an expression like `liftM b ap c`\tjQuery AJAX call, how to handle\tonActivityResult return before pick up image\tAdding third party vendor dependencies to mean.js\tFast Way to Use VIPS Image as a QImage\tDoubly Linked List with different type of head\tNoSQL Database for real-time, two-player Facebook Game\tThreaded Beans doesn't get Environment @Autowired to them in Spring when using JSR330 Provider\tDoes number of wildcard characters(specially %) matter in SQL Like Statement?\tCtrl+S (horizontal split) not working with Command-T in vim\thomepage is different from any other page on website\tZoom toward mouse (eg. Google maps)\tFix progress report in this method that merge files\tFFmpeg: How to control console output while reading from RTSP?\tCan the PostMessage API be used to communicate with an Android WebView?\tRedeploying Java EE applications immediately\tGet host name without using HttpRequest\tGeneric parameter T could not be inferred. Factory methods\tHow to start new conversation in imessage using applescript\tError with svydesign using imputed data sets\tHow can I resolve a fatal SQL statement error?\tCan we add custom keys in Tiff file or how to add temperature data in image properties of Tiff file\tEclipse PHP IDE - custom auto complete tags\tHow select json value in soapui property transfer from HTTP request?\tIn R, how to make dots transparent while using scale_size in ggplot2?\tTkinter pop-up window with check button, not able to get check button states\tHow to remove image and write text in a UIButton in Swift?\txCode4 Lua Syntax Highlight\tGoogle Admin Directory API SDK User Last Logged In Not Fully Accurate\tSELinux influences \"failed to open stream: Permission denied” PHP error\thow to restart a git repository\tPHP Max amount of inserts in one SQL query\tGraph Facebook API giving cURL error when trying to post to a user's wall\tSpring Security HttpSecurity Configuration Testing\tDividing a CDialog in two areas with different backgrounds (picture of the objective inside)\tTo have AR support back after creating project with --skip-active-record option in rails 3\tCounting 1's in an integer using mips assembly language (without any flow of control instructions)\tAligning SCNText with SCNBox in iOS SceneKit with boundingBox?\tHow to hide the form assistant bar at the top of the keyboard?\tDifferent behaviour with std::unordered_map container on Windows and Linux\tSymfony 2.x shows broken layout with clean install\tFacebook registration flow from Android\tApache Zeppelin AD users not binded to groups\tembedded font flash.text.engine\tGWT RPC can't instatiate class on server side\tCan't map route to action mvc3\tfile download using RequestBuilder of gwt\twhat is the correct path to the iMovie Projects folder to use in an AppleScript\tGlibC Double free or corruption (fclose)\tBox API v2 uploading multiple files per single request is limited to 20\tCSS3 Rotate on animated element causing click event not to invoke\tJavaFx resize Window and preserve aspect ratio\tInsert button is not inserting data into the Database and no errors are given at all\tPosition an UIImageView over another with scaling\t(window).load and (document).ready functions are conflicting\tDjango Paginated Comments .. is there any existing solutions?\tConvert managed unsigned char* array into a jbyteArray\tGet values on a row based on two or more rows in Excel\tJava - How to apply a keyboard shortcut of 3 keys for a JButton?\tIn d3.js map, points are hidden behind other features\tHow do I hide certain rows in a ui-grid based on its values?\tSeaborn countplot with normalized y axis per group\tMatlab image display in specific old figures\tHow do I get the text set on a ListView item\tprotractor + cucumber - element not visible even though element is visible\tHow to get count in this query?\tSetLabel doesn't work on a JPopupMenu\tiPhone Memory Leak from AudioToolbox when using MPMoviePlayerViewController iOS 4.2\tCan't detect click function HighCharts plotLines & plotBands.events\tPrint content of jquery dialog to a printer\tposition absolute.. anyway to stop this elements moving?\tAccessing OS X keychain item from trusted application\tUDP bind: Address already in use\tChoosing and iterating specific sub-arrays in multidimensional arrays in Python\tImage segmentation by background color - OpenCV Android\tWhich variable is minimized by scipy.optimize.minimize/How does it work?\tHow can I get rid of input border in chrome?\tHow do I associate a new rvm install with existing ruby versions?\tCreating admin panel in Yii\tIs File Watcher available in Windows Mobile\tRails 3 test fixtures with carrierwave?\tHow can I store and access a filehandle in a Perl class?\tVBA to Paste format from original Workbook to new Workbook\tCastle Windsor: How to register by convention with delegate method?\tAngular2 authguards executing asynchronous functions fails\tWhat is the best way to obtain the optimal number of topics for a LDA-Model using Gensim?\tDoes an Enum exist for Asc or Desc ordering in .NET?\tVue.js does not render correctly using template\tnginx alias+location directive\thow to fill each Column in datatable\tMYSQL fetch 10 posts, each w/ vote count, sorted by vote count, limited by where clause on posts\tiostream library not included in codeblocks\tHow do I use adb grant or adb revoke?\tHandle enter key in EditText across different devices\tAnomaly in GNU Prolog `delete/3` predicate?\tWhy does assigning a value to $? crash Powershell?\tApply formula to column through macro\tHow do I create a file with a user-supplied name in C++?\tVisual Studio multi-project template different name for child project folder and csproj file\tUnable to CREATE SQLite tables using JavaScript in for loop\tHow do I access Dictionary items?\tEclipse Kepler hangs when trying to debug Clojure project\tAngularJS Access denied when loading partial in IE11\tUpdate field inside fields_for with Cocoon and Jquery\tLaravel valet not working\tHaskell / GHC -- is there any infix tag / pragma for \"warn incomplete patterns\"\tWPF- TimePicker is not updating\tHow to make a request\tMapping an array of objects to key/value pairs in CoffeeScript\tRepository without Entity framework\tnvd3: set background fill behind line chart\tApps and app updates submitted to the App Store must be built with Xcode 5.1.1 or later, and iOS 7 SDK\tWhere should I include apostrophe in regex?\tdjango get_or_create not working as expected\tInitializing multiset with custom comparison function in C++\tCannot create Ignite-project\tGoogle Maps API v3.22 reverting to old controls\tMFC Dll with COM Interface\tDatabase connection error in Yii\tMultiline Regex does not work with tabs\tJavascript in a wordpress page\tRaphael is adding a 'dy' attribute\tHow to parse a string to add line feed and tab after a curly brace/square bracket in java\tIncrease resolution ggplot charts\tIllegalStateException when migrating databases from SonarQube 5.3 to 5.6.2 (and 5.5)\tjQuery UI Sortable + Draggable + Droppable on same elements\tangular-ui: how to get data from \"resolve\" option when using $stateProvider.state\tObjective-C - Overriding method in subclass\tAutomatically trimming CHAR data on insert into VARCHAR column\tForm validation with AJAX, Jquery and PHP\tBy using a matcher function in Select2 plugin, no results found message is not appearing\tIf-else statement inside multi-line macro (C++)\tfind about about the type of function parameters\tHow to reduce Ipython parallel memory usage\tGrails 2.1 SQL to Grails GORM Query\tChange radius to MKCircle on MKMapView with UISlider\tAbout string length, terminating NUL, etc\tSorting/Searching on a table is not working\tcode igniter :: send url as param?\tOutlook GetGlobalAddressList.AddressEntries query takes 30+ minutes\tFinding all numbers in a array with top frequency?\tdocument.getElementById and Value\tCan you use .getResource() to load a text file in an executable jar file?\tSearch for a packages by a particular author\tError while installing netCDF4 for Python, can't find HDF5\tProgram (c#) Running Elevated, Still Can't Access Some Files\tBoost asio udp read optimization questions\tGet abs path from the currently edited file in Eclipse\tCKEDITOR, calling the FullScreen Action outside of the CKEDITOR\tAutotools include path\tSetting start levels & auto-start of Eclipse plug-ins: p2.inf vs product definition\tAccessing all the methods and classes for VS Extension with Adornment\tgrails Find max value in table column\tIterative modulo by repeated subtraction?\tCheck the attribute of items in a directory in Objective-C\tSeparate Workspaces or Separate Workspace Mappings for different branches of code?\t@After ,@before not working in testcase\tDetect if Cache Driver Supports Tags\thow do strip column from grep in terminal\tRuntime bugs due to case-sensitivity in (variable) names\tHow to save a dynamic dropdown list in MVC?\tNot able to set permission in Android 7.0.0\tPulseAudio recording and playback fails\trhive.connect() issue\tgeom_boxplot drawing error with precomputed values\tNo matter what I try the header won't change color\tPHP/Javascript passing message to another page\t.NET Terminating Threads in an orderly fashion\tWhy do I get javax.net.ssl.SSLPeerUnverifiedException: peer not authenticated only in production?\tHow do I access the root element of an MXML document if I can't set an id?\tWhen should overflow:hidden be used for a <div>?\tAndroid / Huawei: java.io.FileNotFoundException: /data/cust/xml/hw_launcher_load_icon.xml: open failed: ENOENT (No such file or directory)\tHow do I fast foward branches without switching to them?\tQunit asyncTest that triggers an event passes when run alone but not when run after another test\tClass filter_parameters method on controllers getting Hash instead of HashWithIndifferentAccess\tWhat's the difference when putting header inside pch file?\tsound/soc/codec i2c driver won't probe\thow can i check if a compressed file(of all formats- zip/rar/tar/uue) is password protected, without extracting it in c#?\tHow to use awk to delete rows from one csv, some values in a column of which matche the other csv column?\tSwagger validation issue - Not a valid parameter definition -\tHow can I get access to object of `QQmlApplicationEngine` inside a `QQuickItem` derived class?\tC # Winform : Sending data from sql to web service\tDevise allow access to protected url with link\tURLLoader Event.Complete Not Triggering\tHow to import Google contacts in ASP.NET MVC (no third party please)\tjQuery + Rails + ajaxForm + js.erb problem\tBuilding iOS app, website, and backend\tIs there an alternative to indexOf for jQuery?\tMocha + React: navigator is not defined\tHow do you prepend space in a string where Upper Case letter comes or where a space really needed\tPivotViewer unable to display collection - only shows link to cxml file\tHow does Entity Framework handle interfaces?\tList view item having multiple buttons\tHow list methods works in java\tCan I get NHibernate to enforce that a string property is non-empty?\tCan someone provide an example for the ImageCompare methods?\tTwo issues with WS_EX_NOACTIVATE and WinForms\txpages copy field value to another field from other datasource\tIncorrect syntax near comma\tHow to integrate big data files into QT Project (Error: cc1plus.exe out of memory allocating xxx Bytes)?\tHow to ADD all files/directories except a hidden directory like .git in Dockerfile\tError (10170): Verilog HDL syntax error at TrafficLight.v(59) near text \"endcase\"; expecting \"end\"\tCan we make these two loop combined means to run them parallel?\tRuby: 'bundle exec' throws error for all shell commands\tWebfont and width of the text issue inside jQuery plugin\tJenkins copy directories/files in a build\tGSON deserialization : how to know the objects?\tHow to run an application in background for windows mobile 6?\ttoo many characters in character literal in asp.net c#\tShowing Interactions with @MockBean Annotated Mock\tUsing jQuery to perform a smooth scroll of a page using named anchors?\tUrlEncode of link ids with ASP.NET MVC HtmlHelper extension methods\tIs possible to read independently every stdout flushed string form a Child Process in node.js\thow to load .scss files on demand via webpack\tbatch to copy third line of multiple text files into a new text file and append original filenames to each line\t<svg> element match child width and height\tUsing angular 1 module in angular 2 app\tCan't get facebook checkins, data array always empty\tMemory issues with two dimensional array\tRepository pattern design for multiple DbSets\twhat is the informix connection string to run a sql file through windows command prompt?\tList of available cultures\thow to count row1 from table1/count row1 from table2 returned result is group by day\tGetting different data in ajax response froms second time\tUITableViewCell returns null using objectForKey\tDo i need a running website over internet in order to access Google analytics Data using Google API\tvbscript - Replace all spaces\tHow to make git repo remember all remotes?\tR distance matrix and clustering for mixed and large dataset?\tIs it possible to setup a php app in one server and apache in another server?\tXamarin iOS app SIGSEGV\tPorting a standalone JMS application to a web/app server\tC++/CLI: Cannot explicitly implement interface member with different return type\tReplacing directory with external results in \"working copy locked\" on `update`\tMapping predicates and propositions in DLV/Prolog\tAndroid: Forcing UI refresh immediately\tHow to checkbox id to the modal box?\tUnable to run logstash config file (permission denied)\tAndroid REST API using PATCH method\tPowershell - Creating Wide Tables\tjQuery Effects work in jsfiddle but not in offline/online\tWhat is the difference between Form5!ProgressBar.Max and Form5.ProgressBar.Max?\tMove file from linux server to windows sharedrive with (i)python\tKineticJS - Cannot add dynamic object\tDjango: How can I get a block from a template?\tWhen can we say a design is completely RESTful?\tString replace doesn't work when pass string through android webView JavascriptInterface\tJavascript private methods -- what is the memory impact?\tcan't find variable __fbbatchedbridge (<unknown file>: 1)\tsocket.io upgraded from 0.9.6 to 1.3.5 sends wrong requests\tAuthLogic UserSessions Controller Returning Nil\tjQuery image slide show carousel when using ajax\tjava SimpleDateFormat pattern different with argument\tjQuery find and delete string in array using same array\t$(shell [foo]) in windows\tHive query output to file\tFirst wpdb insert to mySql new table isn't working\tboost::shared_ptr and nullptr in default template function argument\thow to show api data in html view in Angular 2 get api\tiOS sending audio file to web server\tWhere did extra space come from in html of Struts app?\tAutomatically set a property value for a new record in a Dynamic Data application\tSymfony2 : how to remove request parameter?\tFluent NHibernate 3 and Oracle.DataAccess\tHow to check the type of a variable against another variable in Swift\tHow to avoid using asInstanceOf in Scala\tCursor visible on overlapping div which has higher z-index\tflags for st_mode of stat system call\tC# Getting sender address from UDP message\tFile upload working under Jetty but not under Tomcat\tjQuery: getting/parsing content from different sites\tFind parent keys in hierarchy in PHP\tandroid path shifted once finger is removed\tasp.net ajax like reorder list\tPython: How to continue a nested for loop?\tMVC3 Ajax.ActionLink\tWill SCC pattern change if we reverse a graph(using Kosaraju's Algorithm)?\tAccessing css class from another file\tsparkline R creating html table\tmultisampling and fragment shader\tHow to avoid reading comments in text file?\tRedirect simple url to https in php codeigniter\tRemote Validation Fails When Annotating Complex Types\thow to display data in parse objects to recycler view in android\tSet max_width , max_height 100% for Manifest nwjs\tmysql UPDATE query does not run\tPHP comet usleep blocking apache mpm?\tAvoid .NET Native bugs\tPCSC detect multiple smartcards\tProper usage of out parameter in C#\tWhen using Grunt to build an app, how do you edit the HTML file script and style includes?\tHow do I perform this query using sailsjs ORM (waterline)\tcustom menu control in UIWebView\tDisplay image and text inline\tCanceling async httpwebrequests\tcomplex sql statement to different rows\tRemove weird border when ctrl click td in firefox\tCatch isn't working\tHow to fix java warning for \"The value of the local variable is not used \"\thow to upload and read .csv file in jquery\tpick photo from contacts\tA workaround to get textAlignment to center in UITableViewCellStyleSubtitle\tTime complexity analysis. while loop with inner for loop\tSpotify Webplayer: Select Element 'Play' Button w/ Selenium\tAllow user to download external image PHP\tdjango admin list page\tHow to configure NHibernate's Second Level Cache in NHibernate >= 3.2?\tWhy doesn't the unix sort process grow as it consumes its input?\tPrevent another event from firing before a previous one is complete in jQuery?\tIdiomatic expression simplification in Clojure\tHow to apply role-based security on struts2\tCreating a CustomType in ng-admin fails silently\tNeed htaccess redirection\tHow to selectively delete messages from an AMQP (RabbitMQ) queue?\tOnline Java Thread dump analyzer\tSave and access file from shared drive\tAndroid: how to put TTS inside AsyncTask\tUpload file using PHP from Compute Engine to Cloud Storage\tWhy no Circular Inheritance with same base and derived class names\tOpenSSL binary distribution: meaning of the char at the end of version\tRails - How do I update multiple records via a form from the list action?\tFixed column size of FullCalendar\tGet HttpResponse object as response from Volley api in android not jsonobject or string\tWord counts in Python using regular expression\tWhy Iterator<E> iterator() is put in Collection, AbstractCollection when already in Iterable\tComposition- could someone please clarify?\tVisual Studio 2010 Improperly underlining code/comments with red error line when there is no error\tHow to set \"absolute\" area gradient?\tUsing INTEGER in SQL with CSV and Netbeans\tC#/ASP.NET - Get thumbnail from PDF/DOC files\tAdding a Random Item to a List for a Text-Based RPG\tError while decrypting file using KMS key in Amazon S3\tSwift - How to find Largest value from an array and identify which array it came from\tRails Fragment Caching with nested Models\tEclipse Plugin - get Launch Configurations Tree List in a Dialog.\tWhy won't my multi-module Maven project install some of the modules?\twsdl error: no proper separation of headers and document\tCan we create TFS build definition of website without .proj file\tjQuery select table cells with specific header\tHow to Edit a column (XtraGrid) only when adding a new row\tIs Chrome and Firefox do not load the change in media source?\tRedirect to Login if user not logged in Laravel\trelations variable of content-type drupal 7\tChange .eclipse folder in Linux\tCalculate the width of a grouped tableview cell\tHow to get paginated results (async query) from bigquery python client?\tHow do I use OAuth2.0 to access gmail with Python over IMAP?\tUIWebView stringByEvaluatingJavaScriptFromString Issue\tBlurry text in WPF only when the program is ran\tGetting YouTube livestream URL\tCondition on numpy arrays\tSHELLEXECUTEINFO UNICODE support?\tReading on QRCodes on iOS with AVCaptureSession -- alignment issues?\tUsing a function to handle AJAX errors, how can I pass additional parameters?\tA control for choosing a number from a list\tMATLAB: adding contour lines to points\tUsing Merge on a column and Index in Pandas\tRendering a OpenCV IplImage to a QGLWidget\tCakephp 3.x show me empty row with my custom query\tSPuser to find group membership\tIs there an easier way to do a macro to define a function with variable amount of arguments?\tpickadate.js - disable dates in the past (including today) and also disable every sunday\tReact to classes added via Jquery\tNMake macro definition on CLI which contains a space\tHow to send multiple http requests python\tHow to make greasemonkey click lots of links one by one?\tTruncate given text to specific width, for a specific font\tFixed background image bug Chrome Mac\tCSS: Semi-transparent background and an image\twhat is the equivalent of the \"literal\" tag in asp.net mvc\tDatabase implementation details - per row header overhead\tSet Custom Heigh Angular Material Autocomplete Dropdown\talways use WIFI in Windows Mobile 6.5 C#\tDoes Google Analytics SDK 2.0 for iOS symbolicate crash reports?\tIdentifying different pickers in UIImagePickerController delegate\tExcessive Memory Consumption in blank-ish WinForms application\tReset Status MariaDB\tInsert HTML into OpenXML Word Document (.Net)\tInstall MVC on 2.0.NET Server with IIS6 without Admin Rights\tGet distinct record from table using zend functions?\tHow To Start Using Kostache?\tHow do I read a Windows-1252 file using Rcpp?\tPost form data to foreign aspx form\tNeed QR Code Assistance for getting an admission qr code ticket\twhen text changed inputbox automatically updates next 6 text boxes\tPowershell - convert XML to CSV\tAdding C++ DLL's to a C# project\tCordova vibrate plugin is not working in ios\tThread not run immediately when using more than 4 BackgroundWorker\tRails 3 & Paperclip - Can I store images both on S3 & locally?\tGet sum of column on last row, good practice?\tDifferent makefiles produce different error outputs?\tChange checkout steps order in Magento checkout\tTime it takes to load data from prom\tjQuery: Toggle Dropdown Menu Possibility\tHow can i get the siblings of an XML element in Java (using the DOM parser)?\tHow to set the viewport on a non-responsive mobile site?\tChanging view or route after the request has been started in Pyramid\tSwift: NSPopUpButtonCell in NSTableHeaderCell\tstack ghci does not load local module but ghci does\tHow to retrieve data from three tables in SQL\tHow to call web service as part of uiviewcontroller in unit test?\thow to retrieve the selected row of a QTableView?\tLanguage detection API/Library\tType comparison in Haskell\tData is not populating in second level kartik depDrop in yii2. Gettin 0,1,2,3,4\tiTextSharp - Use Colspan with PdfPRow\twhen to resize a hash table?\tPanel is Invisible but children are databinding\tWhat is the difference between the contracts in ABC of WCF and WCF Architecture?\tCustom data annotation validation attribute with client side validation\ttableHTML in shiny: show an image in a cell\tCan you use Lambda expressions against ObjectSets in Entity Framework?\tajax call response not appending because of q-translate plugin\tAmazon SNS configuration for Topics for iPhone/APNs integration\tUse of fmin in python\tUnable to successfully reject chained AJAX call?\tHow to set gif image as a launch image in xamarin forms\tHow to use Windows Key in my Application\tUnexpected behavior when tracing index array in python\tHow to find object tag with param, and embed tag inside HTML using simple html DOM php\tMaven GAE Failed to execute goal com.google.appengine:appengine-maven-plugin:1.9.12:devserver [...] NoSuchElementException\tSaveFileDialog disables webpart buttons in Sharepoint using C#\tHow can I reshape a data.table (long into wide) without doing a function like sum or mean?\tWriting post data from one java servlet to another\tHow can I only render certain html tags for my forum?\tAndroid EditText Glitches\tSpeechRecognitionEngine.InstalledRecognizers returns No recognizer installed\tConvert.ToInt32(String) on String.Empty vs. Null\tCrystal Report Not Showing Changes to Report\tI'm looking to use Visual Studio to write and compile using the open source version of Qt4\tHow to change sender name in Outlook ?\tSetting the background color of statusbar in IOS app in XE8\tUse of undefined constant CURLOPT_IPRESOLVE - assumed 'CURLOPT_IPRESOLVE'\tmodal appears on page load\tMake UIView stick to the top in a full width horizontal UIScrollView\tlite-server pathing for local development\tMasked Edit Extender Format Issue\tStore mousedown locations\tHow to grab flash video and download video data with file_get_contents using PHP Simple HTML DOM Parser\twhat is the simpliest way to get jpg from bitmapData\tXPath to first occurrence of element with text length >= 200 characters\tgrabbing image from folder based on size\tSails.js/waterline: groupBy + count\tC# How to SELECT row n in EF6\tF# NativePtr.stackalloc Unexpected Stack Overflow\tAre blocks supported in iPhone OS 3.1.3?\tEditing values during build via hooks\tKohana ORM - has many through models stored in parent model\tIs there any performance difference in using .resx file and satellite assembly?\tUsing OSX Security-Scoped Bookmarks in a Firemonkey app\tPassing function to another page in PHP\tCould you confirm the existence or not of Matlab 64 bit?\tGetting started reverse-engineering OS X?\tTFS 2013 - no option to merge when resolving conflicts\tXcode window positions when switching from dual to single monitor\tRunning an artisan command forever with laravel forge?\tHow to auto update/refresh in grails view/site?\tHow to build docker image using Jenkins pipeline?\tAdaptive Simpson's Method without Recursion\tWhat makes some programming languages more powerful than others?\tPHP files downloading\tSearch posts based on multiple categories WordPress\tParent-Child one-to-one Relation same Table\tHow can use not embedded fonts for create new pdf file using itext in android\tWhat is the correct pom dependency for the below java code?\tConvert int64_t to double\tMagnolia Mail Module Doesn't Work\tError deleting tabs in envelope\tTypo3 Content Elements not visible in own Fluid Template\tJquery easing effect\tSails fails to load when using remote Mongo DB\tFetch Gmail, Yahoo, Hotmail contacts with pagination using OmniContacts\tCalling an extension method on a member variable of type T of class<T>\tWhy doesn't match_parent work when view is larger than viewport?\tSetting background color of android actionbar\tHow can I determine if a postal code is inside a defined area?\tCheck if GPS enabled on node.js + cordova + ionic app and if GPS disabled, notify the user and direct him to settings to switch on GPS\tWarning: mysqli_real_escape_string() expects exactly 2 parameters, 1\tHorizontally scale socket.io with redis\tHow to create CollectionView global object Which can be accessible from any controller?\tGoogle app engine datastore testing no api environment is registered for this thread exception\tandroid webview find element doesn't work before Kitkat version\tCMD & control keys swap in ubuntu\tDjango-tastypie pass request.user to custom save method\tioctl to block operation\tFailed at AJAX POST request to the same page (with example)\tDjango TemplateSyntaxError: Error during template rendering\tReturn Value of Oracle.DataAccess execute non-query (stored proc)\tHow to make atomic updates to solr using pysolr?\tJquery datetimepicker in ASP.NET\tUpgrading from SQL 2000 - 2008 - Log Shipping\tHow to support emojis with flourish?\thow do I design intermittent via points for travel itinerary\tLogin-AzureRmAccount can't login to Azure using PSCredential\tRegex issue, restricting '*' character\tIn Python, is there a way of saying \"if x == 2 or x == 3\" without repeating the \"x==\" part twice?\tProbe problem when writing a I2C device driver\tcan we implement Spring Autowiring in Java Standalone Application (Swing)\tThe encoded file is not permissioned error\tInvalidOperationException \"get_MetadataToken() cannot be used on the current platform\" when creating tables\tIn XAMPP numbers act different than real servers?\tlogging all properties of an object in c#. how to log inner object properties as well?\tOptimal use of BitmapFactory.Options.inSampleSize for speed\tWhat better tool than Sikuli to use for screen automation on Windows 7 (or preferably multi-platform)\tCounting in XSL:FO\tvalums Ajax file uploader+406 not acceptable Error In Firbug\tIcon's priority on action bar (keeping order of items)\tnode.js form elements array\tTesting private methods using RhinoMocks\tpyscripter Rpyc error\tCSS Vertical align middle\tWhy isn't a function declared as async of type types.CoroutineType?\tRemove space from columns while importing in SAS\tnginx lua redis cookie not setting\tAlways gitlab 502 error on RaspberryPi\tPopulate a WPF Listbox Child Items with Dynamic content on Selection\thow to find Sum(field) in condition ie \"select * from table where sum(field) < 150\"\tUICollectionviewCell backgroundColor not Change when selected\tHow to dynamically change the background image in Meteor?\tAbstracting gesture recognizer to two functions in Swift?\tHow to tell required version of PowerShell to run a command?\tshouldReceiveTouch on UITableViewCellContentView\tThe conversion of type 'TimeSpan' to type 'Date' is not valid.vb.net\tLandscape Launch Images on Xcode 7 madness - [FIXED]\tOld MediaWiki site broken in Chrome\t-Webkit-scroll bar + overflow + JQuery scrollTop returns always zero\treorder byte order in hex string (python)\tPassport + Socket.io get logged user id\tBackground Image in Linearlayout\tAutocomplete the input field(type=\"text\")\tUsing latex packages in MATLAB markup publish\tTriggering Script VIA URL variable\tQuickfix Which has higher priority: message header or sessionID?\tCustom content type associated with Blog\tGet log file name of database from .mdf file\tAndroid wear Accelerometer/Gyro sensor\tHow to make a Nested Json Model in Vapor Swift Server , Below are the Code for the reference..?\tJava compress/decompress large files (>1gb)\tWhy do core.async go blocks return a channel?\tHow can I change the size of rgl plots in Shiny RMarkdown?\tPHP Zend_Db_Statement_DB2 returns null for static field\tHow to convert rows to columns in DataGridView\tBest way to build/compile/deploy ReactJS to production\tDynamically set LESS variables from user settings\tIs it possible to keep the Facebook session alive?\tPython Tkinter after event OOPS implementation\tPaypal IPN returning HTTP/1.1 200 OK\tAWS Elastic Beanstalk Vs EC2 Container Service (ECS) - Docker\tDictionary Help! Extracting values and making a table\tchange the color of the Navigation item\tWhat is document in JavaScript and what is its scope?\tError when I'm trying to create opportunity when converting lead to opportunity in my custom module in OpenERP\tWhy does my dojo.domConstruct.create command not work?\tHow to fetch username of the user who is logged into AD domain on OSX using objective C\tSweep / chirp signal ends at incorrect frequency\tPython tkinter scrollbar/graph scale slowing down scrolling\tExpire session automatically and detect if the session has expired in Codeigniter\tHow to set an Alarm or Reminder events in Windows 8?\tHow to upload a Cordova picture to a Laravel 4 project by using an API\tIf only one object field is required in a method, what should be passed as a parameter - an object or a field value?\tPopulate fragment with Bundle arguments\tChanging Source url of a XYZ layer and redrawing the layer/map?\tGenerate random polynomials with MATLAB\tHow can I display data in one table from different sql statement?\tCSS with Google App Script\tGSON issue with String\tC# Annotation types in abcpdf\tClockwise Shifting a Matrix\tChanging version of Azure Storage\tWeb Crawler not working in nested divs\tHow to restrict to input time for edittext in android\tOrbeon 4 M11 + GlassFish 3.1.2 coused errors with HTTPURLConnection\tSmart HTTP git client\tCover all blocks in this codeblock with unittesting\tAdd MVC to Existing Web Application with Empty Template\tHow to iterate nested objects and render inside jsx?\tC# Component collection property not serialized when filled from property setter\tmatlab: eigs appears to give out inconsistent results\tMYSQL Select Query where i want two row base on where condition\tCannot get current position of CALayer during animation\tHow to know if application is disabled in Android ICS\tNSMutableDictionary not reading anything from plist\tAngularJS post request doesn't get server response correctly\tSetting IBus Property in MVC Filter\ta hover button in react.js\tFixed scrolling on a div\tWrite Text In A Already Existing Text File VB.NET\tHow to correctly deserialize a JSON string into the class that contains a nested List of another class\tdynamic update to data for dygraph in R shiny\tSignalR Updating TextArea realtime\tUsing MongoDB as our master database, should I use a separate graph database to implement relationships between entities?\tSetting button to be visible\tNSTextView : contents are gone when scrolling, and shown when on mouseover\tIE is centering my svg\tHow to perform 0Auth2.0 authorization for Google Spreadsheet API for android?\tChange the width of the cell content in java using PDFCell\tphp - If Pagerank Is Less Than 0 Output N/A\tGoogle Maps: how to calculate the \"double\" the zoom level?\tScope inheritance fails with multiple-named views?\tJSON validation with custom schema\tCakephp foreach\tDynamically change the response language of Google Maps API for iOS\tRead output from external process\tMarshalling DIDL-Lite with Go's xml package\tXAMPP apache Http server has stopped working\tDynamically populating Interface with for-loop in Shiny\tInitializing UITextView based on the available text font size and font name\tOutputing index of negative numbers in a list (using structural recursion)\tuse of built in forms and views like PasswordChangeForm in django1.3\tHow to get bundle identifier of application by context id or by mach port in iOS 7(Jailbroken)?\tJava Play activator crashes after a minute\tOnClick event for whole page except a div\tDjango Callback on Facebook Credits\thow to create and download a file using play framework?\toptimum OS,server, etc setup for rails production environment\tMediaPlayer Error (1, -2147483648) android programing\tquickfix create order and send to currenex\tGit cleanup/garbage collection on remote VSO git repository\tAzure Webjobs ignores CRON expression\tDisable shortcuts in Google Chrome\tSelenium Webdriver can't find elements on IE8\tHow to add a marker to a MapBox GL JS map?\tSpring message-driven-channel-adapter: handling connection refused error\tConnection Error to connect Rhive to R\tStop GCC on error with multiple files compilation\tdoes linux load program-pages on demand?\tJavaFX Text in/on Polygon\tJava Generics : Casting a raw type to any reifiable type doesn't generate unchecked cast warning\tAdmin User and Password for Netbeans created Glassfish domains?\tDigital frequency doubler with a dual edge triggered flip flop in VHDL\tHow to I save a PDFSharp object to multiple files?\thow to set the fieldname using a template in angularjs\tCreate object from remote JSON\tHow to map one column with other columns in an avro file?\tMy game is flickering due to my painting directly in JFrame. How do I use JPanel?\tMake an OR with ransack\tHow do I handle multipart/form-data from jsp in Spring controller\tNoClassDefFoundError during Tomcat graceful shutdown\tHow to generate a predictable shuffling of a sequence without generating the whole sequence in advance?\tHow to add C++ files in iphone project\tcss different height div grid space\tSpring Data JPA - insert a base class into the repository\tJquery UI Resizable with box-sizing: \"border-box\" issue\tHow to use a set of data to generate date list between two date for each ID in mysql\tWidestring to string conversion in Delphi 7\tWhy is \"cabal build\" so slow compared with \"make\"?\tCanvas.drawBitmap performance on Android 4.3\tC# combine 2 events in one method\tInAppPurchase stop receiving the productRequest response after deleting and reinstalling app\tCannot start under Java 1.7.0_55-b13: Java 1.8 or later is required\tAny word on reified generics in Java?\tReopen Impression Class from Impressionist Gem in Rails 4\tI want to show EditText record of first Custom ListView to second Custom ListView EditText\tHow to specify which start event should be called from a BPMN callActivity\tPrevent ItemChecked event on a ListView from interfering with SubItemClicked using C#\tOpening a pdf bytestring for reading\tASP.NET Partial Page Class Names Best Practices\tHow to triggered mail automatically for every 3 days up to 3 times\tpyodbc returns SQL Server DATE fields as strings\tEmberJS multiple inverses of the same model type\tVueJS 2.0 v-model dynamic target inside v-for\tMethod Optimisation - C#\thow to display linux partitions using python?\thow to make pop-up image using css3?\thow to get the excel workbook mathematical operators using apache poi 3.6?\tHow to sort ArrayList of integers without regardless of positive and negative values\tHow to create custom error page in spring boot\tUpdate free space amount displayed in Windows Explorer\tError using ==> fprintf Function is not defined for 'sym' inputs\tHow to make overflow menu like Chrome app?\tTypeScript 0.9.* VisualStudio TS5037: Cannot compile external modules unless the '--module' flag is provided\tHow to delete duplicated rows based in a column value?\tFireBase Authentication Server Hosting Error\tHyperledger Fabric fabcar example chaincode in dev mode (peer-chaincodedev)\tSpring @CacheEvict one key evicting\tCant get the zend loader to load classes only under wamp\tCodeigniter Date format\thow to parse data from Soap envelope object in android\tDisplaying NSDecimal values in XCode debugger\tConvert Separate TableViewController and ViewController into UISplitView\thow to mail dynamically generated dropdown fields values in PHP?\tPartial inheritance - inheriting some functionality, minus a problematic method\tTipps for developing an ajax based wizard for mvc/razor\tObserver not working in Ember?\tPython: is there a C-like for loop available?\tPowershell remove XML tags\tRuby HTTP POST - Errors\tHow to dynamically change image/div dimensions based on window size?\tAnimating multi-path polylines in Google Maps V3\tNested React <input> element loses focus on typing\tget value of child <div> of a parent <div>\tODBC connection for 64 bit R and 64 bit MS access Database\tLinking against clang-llvm\tWamp setup - CFIDE - Coldfusion mapping is not working\tJquery slow reaction time\tHow to limit rate of requests to web services in Python?\tGoogle Drive/OAuth - Can't figure out how to get re-usable GoogleCredentials\tReturn to Search result page\tFacebook news feed reader on android\tgenerating maven project inheritance/aggregation diagram\tjinja2: building table by iterating down columns instead of across rows\tWhere do you put your dependencies?\tMove item from one listBox to another listBox\tWhy does Perl's IO::Socket on Windows complain about \"Resource Not Available\" after 64 connections?\tRedirect to other html page and scrollTop: to a certain div\tHow to load php page with fancybox?\tVisual Studio Code command \"dnx run\" not available\tHow to avoid \"‘main’ is not defined in module ‘Main’\" when using syntastic\tDrawing a triangle with rounded bottom in CSS?\tWhat framework does Windows Phone 7 and Windows Phone 8 support?\tSingle/sub pixel misalignment of divs on ipad and iphone safari\tCount and Order By Where clause Matches\tFirebase local server\tMean App, not crawling using google crawler\tR's coreNLP::initCoreNLP() throws java.lang.OutOfMemoryError\tAndroid - aChartEngine getCurrentSeriesAndPoint() not working for disconnected graph\tMinimize function selection and function call overhead?\tCan a Scala script reference other uncompiled scala code in the same directory?\tRead Call History from iPhone on iOS 5 and above\tHow can I send binary data from Sinatra?\tBatch script to find a regex in a text file and write it line by line in another text file\tdraw polygon shape on canvas and allow tooltip on it\tdetermine the root exception?\tThe task has more than one activity\tStream types in C++, how to read from IstringStream?\tDozer Boolean Mapping - Generic Method\tUnable to add Impressionist model to Solr\tDocker image for Spring/RabbitMQ tutorial results in connection refused\toozie sqoop action with hive import\tBarcode detection using Hough Transform & Edge Detection\tHow can you solve equations in PHP?\tunexpected indentation error with favicon_tag after migration to rails 5.0\tRegex to split on whitespace but not escaped whitespace\tQML TreeView not updating at runtime after adding new data to the model\tHow can I sort elements by new counted values in their child element. XSLT 1.0\tVBA change instance variable from module (excel)\tHow many columns in MySQL table\tChecking data in a csv file using python\tMailChimp API 2.0 Batch Subscription PHP\tC# Winforms FileInfo Error\tDealing with large TIFF images C++/Magick/libtiff\tfind common value of one matrix in another matrix\tPerforming async method in a loop in node.js and waiting for result\tModule has no attribute error in python3\tjpa Entity Metadata\tHow do you use the LaTeX blackboard font in MATLAB?\tPython - Importing a global/site-packages module rather than the file of the same name in the local directory\tISCC passing a parameter in the Compiler IDE\tIE8 ignores \"filter\" CSS styles\tIs there a way to load a webpage in pieces using ASP.NET?\tRequiring unknown module \"buffer\" in react-native-route-flux\tEclipse, where to change the current debug line background?\tHow to wait and get text from another form in multiple backgroundworker\tHTML document width exceeds 100% when i increase the height to bigger than screen height\n",
            "4 53723 Performing async method in a loop in node.js and waiting for result\tAsynchronous sequence of events using promises\tDjango CMS - not able to upload images through cmsplugin_filer_image\tSorting an array by alphabetical order before it is selected by UIPickerView\tSQL, Microsoft SQl\tcall a function in place in Objective c\tjquery .bind() and/or .ready() not working\tHow to filter a list of required elements in list using listviewer in swt jface\tmy $self = shift in Perl; an explanation\tError: The digital signature of the Object did not verify\tManaging different developer's connection strings under LINQ to SQL\tgoogle maps custom local search / search control\tSearching for Graphic libraries to draw seismic data in C#\tWhy is this function seen as a delegate?\tIs there a version of Xamarin.Mac without the Opentk namespace\tHow to reference current object in XAML\tDelayed_job_active_record sends mail succesffuly in rails console but not on server\tHow can I find the element that caused another element to fire the focusout event?\tHow to convert rows to columns in DataGridView\t4 pictures in every corner of the screen html css\tFind 5 consecutive numbers >= 3 for each row of a matrix\tMeteorjs Iron Router: Router.current is not a function at [object object]\tGoogle mock compile error (error: ‘<function name>’ is not a type)\tC++ fstream keep reading the same first 5 lines?\tHow do you remove a queue binding from RabbitMQ?\tPrintf: differences in Java's and C's implementation\tClear:both before the end of the block\tDo ExpandableListView list item \"press\" behaviors have to be wired up by the developer?\tImage overflows the div area\tPython paired dictionary keys()\tUsing simple_form how do I get this class on these inner labels vs the outer label ones?\tReferencing an entire data set instead of a single Cell\tSet focus to a button in a new TabItem\tWhat diagram can I use to show Html Events and Actions\tjava.lang.NullPointerException at org.hibernate.tuple.entity.AbstractEntityTuplizer.getPropertyValue(AbstractEntityTuplizer.java:521)\tHow can I get the scanner working to read 6 numbers on a text file for my dice game simulator?\tIssue to include wp-config.php file in wordpress plugin file\tAngular2 - No provider for TemplateRef (ng2-bootstrap)\tWhat protocol does WP7 use to connect to mobile only \"exchange\" servers\tSmashing the stack not working\tReturn to Search result page\tHow to solve this chicken and egg issue?\tChanging Color with LinearLayout and TextView in Java (Android)\tIs it possible to send skype chat messages from a linux server without X?\tdo code 60 times per second c++\tHow to wake up waiting SwingWorker?\tClang & LLVM building for SPARC\tcd: /path/to/my/repo: No such file or directory\tEF6 EntityTypeConfiguration & SQL Alter Table -> Works in OrmLite but anything similar in EF6?\tDjango Get absolute url for static files\tJoomla Development File Handling\tReordering columns in CSV\tMove Rows Up and Down in ASP.NET GridView\tNSString displays in NSLog, but it changes its coding after adding to NSMutableArray\tMicrosecond Sleep in Linux kernel\tWhy google chart not display when add in runat=\"server\"?\tUse properties file instead of static final variables\tApple Push Notification - Can read all incoming messages like Pebble App?\tIn Flex, how can I detect when a component moves?\tunix - diff command to output in single-line-per-difference format\tExcel formula to get string between 2 characters\tHow to place a legend right next to the data set (series) on SQL Reporting Services 2008 (SSRS) line chart?\tGiving app uri and web url in App indexing\tBoost Python: polymorphic container?\tHow to rewrite characters in nginx\tWhat does this '>>=' mean?\tNeon Comparison\tRead only when the XML data is updated\tGKLocalPlayer runtime error for iOS 8.4 with Xcode 7 Beta 4\tHow to import logistic_sgd\tHow to publish database within WPF application? It's connected using LINQ to SQL-Server\tScale images in Angular Material grid\tDjango admin site with mongodb\tTreetagger koRpus error 'treetag' function\tCalculate mouse poistion from acclereometer\tHow can I set the notification in android application to update next version\tDjango: customizing the message after a successful form save\tWriting sublists in a list of lists to separate text files\tUsing OUT parameters in Postgres Stored Procedure\tHow to set the number of retries for Azure DocumentDB output binding in Azure Function?\tPreview ViewSwitcher in AndroidStudio\tUnable to upload file to google cloud storage using post method\tHow to use Mockito to show all invocations on a mock\tColoring a plot in MATLAB\tFirefox addon - how to close tabs after opening them?\tinterpreting gdb segmentation fault\tLaravel Routing - Subdomain filtering\tboost Date_Time date parsing doesn't work\tHow to use Hibernate with JSF\tSWT Drag to Explorer (Windows) or Finder (OS X)\tC++ - how to return a prvalue by reference?\tUserTransaction.SetTransactionTimeout not working?\tStreamWriter limit in C# in text file\tHow To Terminate a Lexer in ANTLR4\tjQuery: event.preventdefault not working with Firefox (mac and PC)\tembaded images are breaked between pdf pages in flaying-saucer\tMetricam: Could not load file or Assembly: Webcam.dll\textend keystore certificate validity time\tObject of class Application_Model_Rawdata could not be converted to string\tConverting inserted string to a compilable expression\tHow to add a Component into a Grid cell?\tUpdate multiple rows for 2 columns in MySQL\tBTrace Script to Kill Java Virtual Machine Thread\tHow to deploy a Maven WAR to JBoss EAP 6.3 within Eclipse Luna\tDelete email from Outlook with C#\tHow to make javafx.scene.Scene resize while maintaining an aspect ratio?\tIncremental build VSTS for files changed only (Wordpress)\tParse: Update Object from Cloud Code\tCreate Table Syntax Error\tReading a text file and creating a maze\tRuby On Rails Controller Tests, Factories or Mocks?\twhy do I keep getting this error: routing error uninitialized constant messagescontroller\tPlot multiple lines on subplots with pandas df.plot\tPHP glob return array with pagination\tRegex and Arabic \"Tanwin\"\tHow to shut down Android emulator via command line\tHow to order result of hibernate based on a specific order\tHow to extract data from html using PHP\tHow to create makefile to compile JavaScripts?\tHow can I localize Perl variables in a different stack frame?\tExcel Run macro from button issue\tFetching in javascript with absolute url and relative url\tCmposition, I dont quite get this?\tAndroid, Position Menu Items in Toolbar Layout\tConvert full line in KML layer to dotted line using javascript\tHow to create a one-way one to many relationship in SailsJS?\tcontent out of div\tReceiving OpenMQ messages in Delphi\tDatabase Searching Using Doctrine and Symfony2\tWhat's the difference between mvn archetype:generate and mvn archetype:create\tWhy should I use custom content provider in Android?\tRegex that match different format sentences in c#\tUsing tlbimp without needing a second assembly?\tAdding ROW_NUMBER() to query loses DISTINCT, defeats the purpose of paged results attempt\tjava.lang.SecurityException: Permission Denial: reading com.android.providers.media.MediaProvider in Android while taking picture from gallery\tCreateRemoteThread returns ERROR_ACCESS_DENIED (5) on win7 64 bit\tBlack berry camera programming\tTop analysis in Stacked Bar chart\tVideo post from iOS app to Facebook is not showing up on Facebook timeline\tset a specific umask for only one user including ssh (and sshfs/sftp access)\tFolder permissions in Azure web sites\tQuery Sitecore Lucene-index with ContentSearch-API on DateTime-range\tExcel 2010 Pivot Table Filter - How to print multiple filter selection values\tMono native compiler for Raspberry PI 3?\tphp code to select and display page no between given range from database\tHelp writing an htaccess\tOo javascript code completion in any IDE\tCustom vs. non-custom attributes?\ttrigger onclick on page load given url string\tSinus in verilog\tdeleting memory allocated in static function in C++\tIssue with nodeJS Encoding\tWhat can cause this error on one server, but not another?\tDetect collision between two objects in Swift\tQuery Firebase for highest id, then add to it\tJasmine function Spy doesn't work with angular\tUITableView and UILabel repeating\tHow to create tzinfo when I have UTC offset?\tSetting hyperjaxb mapping to force implementation of external interface\tSafely round to next smaller multiple\tMongodb error $substrBytes: Invalid range, ending index is in the middle of a UTF-8 character\tsetting a div at the bottom of an outer div\tBootstrap 'nav tabs' works incompletely in jsp\tHow to mock HttpClientCertificate?\tSpy on the result of an Observable Subscription with Jasmine\tThreading Method Question\tHow does this Singleton-like web class persists session data, even though session is not updated in the property setters?\tCalculate Precision and Recall for more than 2 classes\tUsage of fgets function in C\tCannot build after reinstalling XE2\tProper way to replace NSTextStorage in NSTextView?\tXamarin change height of progress bar\tHow can I set multiple full screens in JavaFX?\tWhat framework should I choose to build a WCF Restful API\tLaravel query builder SUM returns multiplied values\tbash method to remove last 4 columns from csv file\tparameter for xcodebuild for using latest sdk.\tClear list style for new styled list inside mega drop down menu\tSetting tooltip text to a div element dynamically\tjquery - click & activate active button\tWCF and custom fault?\tadding uitextfields dynamically at runtime\tWhere to Place/Manage files in CodeIgniter\tHow to get results from specific position in an excel file using apache POI\tEmber-data: How do I set an incoming null value to an empty string value?\t406 error on firebug only\tHow will i Stop all timers in a form vb.net\tHow to delete a specific $PATH or change a path already set?\tVaadin: Auto-refresh Grid (ajax-like)\tget_posts() instead of query_posts() for a custom post linked with a custom taxonomy term\tWindows Mobile C++ - Application design-type question\tDisable Shrink-to-Fit in IE\tValidationException: Call to TraversableResolver.isReachable() threw an exception\tParsing Integer Value As Datetime\tHow to stop an absolutely positioned div from stacking over/under a fixed div?\tHow to make SVG center float above point\tHTML Tag For Import XML\tTable Row Click, External loading\tsend and receive JSON over sockets in server and client application in C\tFinding the modules where changes were checked with svn\tHow do I grant access to my SQL Server Express database to a specific user with Visual Studio 2008 tools?\tMapping a vector across the y-axis if it has 4 components\tLINQ result form 1:* relationship table -ASP.NET\tTFS Database Backup Failed : There is an error in XML document\tObject memory layout in C++ and how its structure depends on most platforms\thow to get log messages from ios app\tFunction to search recursively for patterns in vim\tprune recursive search paths\tandroid hide app icon and make it visible\tPrinting contents of multidimensional array in PHP\tError with testing xamarin app in iOS iPhone device\tUnable to read two dimensional array format correctly from textfile in Java\tadd html in wp_mail function wordpress\tHow to remove a default value in oracle\tHow can I write a regular expression that will allow a URL with or without the \"HTTP://\" part\tChrome app, javascript, fileSystem -> createWriter -> onwriteend is called twice instead of one time (?)\tExtJS 4 MVC multiple instances of views and sub/child controller difficulties\tSort nested array by value?\tUsing Moment.js Timezone to get the time difference\trun method onclick crash in android\tAWS API Gateway - How do I get the date/timestamp/epoch in a body mapping template?\tIs the Twitter bootstrap helper in the Play framework deprecated?\tjQuery: Hide or show table row based on radio button checked\tEWS - Given an Appointment, get the owner's copy of the Appointment\tHow to create a C-library (for Ubuntu) out of header- and source-files?\tsending mail by android app using javamail api without user interaction\tHow to insert non repeted values when i click previous button in asp.net\tWhat is a long pointer?\tAndroid: compile error Util.toByteArray (taken from an example)\tAdd PHP API documentation to vims balloonexpr\tCan't merge or update when comparing strings\tRe-usable HTML code / widgets\tTrying to smash the stack\tRename control methods in Windows Forms application\tPython plot clusters: high data dimension\tHow to create Spring Data Rest entities response format manually\tDifference in performance of compiled accelerate code ran from ghci and shell\tSort by key in Excel connected to SSAS OLAP cube\tGet more than 7 dimensions in google analytics\tHow do you pass in timestamp variable into JDBC request for jmeter\tHow to detect language preference in Laravel 5\tjQuery: Retreving only first attribute of a specific node from XML\tAndroid ICS - Embedded youtube video not working in full screen mode\tPHP & MySQL Error - An error occurred on line 176: Object of class mysqli_result could not be converted to string\tRuby: Raise error in Module if class method not found\tBackslash + captured group within Ruby regular expression\tCan m2e install an external jar file? Or do I need to install the maven command line tool?\tAlways seeing Mirror image while capturing from Front Camera iOS 5.0\tHow do I use a (generic) vector in go?\tHow to upgrade from Entity Framework 4.3 to EF 5\tLike discourse is to Ember.js, what are some big open source project written rails + angularjs?\tIs it possible to copy / paste References from one project to another in Visual Studio?\tJquery autocomplete not working on ASP.NET MVC 5\tEffective Java item 11: Why clone can't call the constructor?\tHow to handle images in low density large screens in Android?\tDownload file from Dropbox with JavaScript\tXamarin mac 2.10 compatible exif library\tHow to alert on the Kubernetes Cluster health?\tJava : How to access UNC location\tasp.net mvc int property bind exception\tLooking for best way to do this program\tEloquent relationship where values are formatted differently\tHow to create byobu session inside byobu with a bashcommand\tBehaviour of autoDestroy: false in Extjs4\tPairwise correlation of Pandas DataFrame columns with custom function\tJavassist insertbefore line number incorrect\terror using L-BFGS-B in scipy\tReal Time Click/link counter\tReplacing file using regex\tis it possible to ignore 0 values when creating a graph in dygraph\tDifferent view of XML Layout in different devices\tHow to allow users to select the Android app's installation location (SD card or internal storage)\tHow to get a number from the end of a string\tMVC 4 Areas not working properly\tAlignment of bitfields inside unions\tPiglatin output won't work correctly still\tStrange behaviour of graph object while retrieving facebook news feed\tHow to reference a static class to call a method on it?\tGeneric type in C#: restricting the type parameter to be a collection\tSelecting children elements and not descendants\tOPENROWSET is not working in SQL Server 2012\tCan runtime information be used during macro expansion in racket?\tWhy libuv use thread pool to run all file system operations\tR retain order from a vector, apply it to another vector\tUPDATE: C++ Pointer Snippet\tChange to Web.config on IIS throws an exception. IIS reset needed\tFile Upload Controls using Razor in ASP.NET MVC3\tCan I use Forwardable to delegate a constant in Ruby?\tfooter for custom dialog with a android default theme\tOverriding Swiftmailer transport options dynamically instead of using parameters.yml options\tError: \"The process cannot access.... because it is being used by another process. \" in Delete Image\tAdding pictures to the Gallery - Android\tNSURLConnection crash on releasing NSMutableData\tHow to change the attributes for all objects inside a list in python(3)?\tHow do I create shared library using ld?\tSemaphoreSlim with dynamic maxCount\tGWT Servlet - ClassNotFoundException\tnumpy interpolation to increase a vector size\tHow to Enable/Disable button on TinyMCE textbox onkeyup or onkeydown\tHandling filtering in child route\tApache Felix + Spring\tNavigation inside a UIPopoverController\tnull pointer is returned\thow to make function which related comboboxes option\treducing the number of comparisons in pairwise.t.test\tHow to print JSON data in PHP\tMagento - How to insert product image in transactional email\tRails 3: routing to customer areas\tHow to connect redshift with elasticsearch\tMaven - Change jUnit Version in Quickstart Archetype\tWhat does `Chef::Config[:file_cache_path]` do exactly?\tWhy is the following java code leads to compilation error\tDatatables column filter checkbox not working with Ajax\t(window).load and (document).ready functions are conflicting\tHow to add images in array\tcause for conflicts during patch apply\tHow to fire JS from code behind of a UserControl by an event\tHow to convert an Array2D with option int elements to Array2D with int elements\tNo instance for (Fractional Int) arising from a use of `/'\tDragonfly, rails 3.2, Refinery Edge (2.0) ImageMagick on Centos 5.6\tSend Multiple values from ajax to php in url with GET\tTrouble Using Apache's HttpClient with HTTPS in Web Containers\tHow can/should Zend Framework 2 be included to a Git versioned project?\tSVN format compatibility between old and new clients\tConfusion with call to \"puts\" in ruby\tLength of columns excluding NA in r\tSimple form validation\tFixed background image bug Chrome Mac\tMongoDB Aggregate for a sum on a per week basis for all prior weeks\tModel Binding property with implicit conversion from string to type\tPDO cannot able to fetch image from database\tWhat does the \"!\" character do in nodejs module names?\tPopulate fragment with Bundle arguments\tAction when the small cross button of UITextField is pressed\thow to call a controller with express routes and include a defined parameter\tJava config for spring interceptor where interceptor is using autowired spring beans\tHow to add files and dirs to a zip file without the root dir?\tWait in a promise chain for a mutation in a DOM element\tjQuery (or maybe the browser) is cache-breaking ajax loaded scripts\tHow can I re-install Eclipse without losing customization?\tUsing MySQL \"in\" causes loop?\tNeed an Alternative approach (Meteor + AngularJS)\tphp mysql_connect resource is allways the same\tHow to read response from angular resource $save() and also keeping original data\tRails 3: Retrieve all child records where parent model attribute equals search key\tRemove last li border\tPointer arithmetic to change array values\tImplementing Projectile Motion\tiPad 2 and iPad 3 website testing\tWhat is \"Mounting\" in React js?\tPrivate and public key separately\tSecond div no wider than first div\tHow can I get XDebug to run with PHPUnit on the CLI?\tMySQL SSL setup failure\tNeed <br> for as400 for a sms\tHow to make Jenkins run failed tests first, and upon successful completion, run all the tests again?\tPlay Framework 1.2.5 : OutOfMemoryError occured : Java heap space in play framework\tAdding Google-play-services crashes aapt.exe\tHow to \"defragment\" MongoDB index effectively in production?\tNumber of threads with NSOperationQueueDefaultMaxConcurrentOperationCount\tServiceLoader.next causing a NoClassDefFoundError\tRegular expression for apostrophes/ single quotes with double\tHow to create dynamic dependent list in Excel VBA?\tHow do I fill multiple named fields using structured data\tHow to create an Android GPS Live tracking application?\tTypeError: slides[(slideIndex - 1)] is undefined\tPandas Add Header Row for MultiIndex\tHaving to reference the model when using a Needs controller\tObjective-C: Why check nil before respondsToSelector:?\tDisplaying Chinese characters on a form from an INI File\tx86 TargetPlatform with XBAPs\tAny recommendations for deployment from SVN, with version numbers written into my code automagically?\tHow to make cut down time for each item in DataList\tRemove Simultor from Xcode\tF# NativePtr.stackalloc Unexpected Stack Overflow\tConcurrently running two for loops with same number of loop cycles involving GPU and CPU tasks on two GPU\tHow can my application retrieve custom fields from a DocuSign transaction?\tPython module for binary plist\tThe difference between com.mysema.query and com.querydsl?\tAutomatically dismiss underling modal view\tHow do I get the BIC (Bayesian Information Criterion) for a plm object?\tJavaFx how to align only one column-header in tableview?\tPerformance issue with the LIKE keyword in T-SQL\tForeach, special treatment of every n:th item (odd, even for example)\tText not showing when for() is executing\tHow to count daily word frequency from twitter?\tfile_get_contents(): stream does not support seeking PHP\tHorizontal iScroll issues on desktop browsers\tHow to format a NUMBER column in Oracle?\twrite a program that prints a nested loop in Python\tiTextSharp PDF Merging and adding page number in one go\tdynamically change style of all <img> tags\tSystemUtil.Run in UFT gives me \"invalid procedure call or argument\", Why?\tWeird Behaviors of time in Rails application\tShow div on radio button check using JS fallback\tHow to upload a photo to a specific album and if not exist create that album?\tBest way to display rounded corner image with sprite\tWooCommerce hide data fields backend\tMake a REST URL call to another service by filling the details from the form\tNIO Server not able to listen to client\tHow do I get multiple values by an array and display this Place in Google Maps?\tHide and show <p> element with javascript\tDoes DBCP connection pool connection.close() return connection to pool\tChange priority headings for a task with the api\tGetting ProvisionedThroughputExceededException error when iterating over dynamodb table\tCant send email on my local host why?\tNull-free \"maps\": Is a callback solution slower than tryGet()?\tRake: How do I forward params to child Rake calls?\tAndroid exception in \"requesting column name with table name\"\tAzure Cloud service cannot set vmsize to nothing other than: ExtraSmall, Small, Medium\tIs it possible to squash two pushed commits from the same branch into a single commit with git?\tHow do you copy just the visible text from the folded state in an org-mode buffer?\tContacting API Android, Nothing Displayed\tMissing Dependencies in Compass/SASS\tLaunch IE explorer without showing window?\tCan Doctrine2 @OrderBy a calculated field?\tThe method add(String) is undefined for the type String (JSONArray)\tHow to install ffi on Heroku\tWhy does numpy silently convert my int array to strings when calling searchsorted?\tHow to use 'getaddrinfo' to choose default free port for all interfaces?\tIncluding multi-word stopwords in Solr\tProblems detecting when we are doing CMS Preview vs Dynamic Preview in 2012 UI/XM\tServletException When open my application\tPLSQL to PIG Conversion\tHow to test express-based API which requires Facebook authentication?\tHow to get dojox.charting labels on irregular (eg. 31, 28, 31... so on) values?\thtaccess Rewrite URL Without .php Extension To File\tNavigating to an aurelia route with a parameter and in a new browser tab\tGet the value of multiple spans\tIntegrating SVN with Trac - dll load failed\tHow to insert new record ( model ) in TreePanel?\tKnockout Validation - How to only validate observables after saving the whole model\tClassic ASP/ASP.NET Application Variables\tCreating multiple selections from form actions PHP and/or MySql?\tParsing nested curly brace with php regex\trace-free directory walk (C++)\tDisposing needed in Unity?\tPerl replacing Strings from files in directory\tJava ssh (jsch) set stream to UI instead of console\tHow to import xlsx file data by cell number in php and mysql\tFile Upload in AngularJs Using MVC\tWhy can't I get jQuery's live() or load() to work?\tHow to effect change from child to parent window\tWhy does a Time math calculation return one value in IRB but sends a diff value to SQL?\tSQL Server: how to do 3 months' partition?\tPerform an action when a timer elapses\tInstantiate Modules in Generate For Loop in Verilog\tPHP 7.1 void return types understanding\tWhere do I put this line of JS for my Google map?\tPowershell script creates empty zip file when run automatically through task scheduler, but works when run manually\tUsing Longs as Keys in Groovy Map\tRetrieve number of unique values in an string\tCreate a file with data ur\tDo classes necessarily have to exist prior to record insertion?\tBokeh map not respecting div size\tShould change to code be committed separately from corresonding change to test suite?\tRename nested field in spark dataframe\tInternet Explorer cyrillic symbols parameter in URL\tAS3 embed question\tinsert a tr in a table with jquery and selectors\tUnit test non static methods in React\tExtracting values from SELECT WHERE IN query MySQL\tsuggestions on how to approach creating a mysql webservice/api\tFacebook PHP SDK post activity\tWhat is the proper file naming convention of class extension in Objective-C?\tRemove a variable implicitly in R\tcondition on content of tabpanel shiny\tHow can I clear a text box by using messageboxbuttons.yesno?\tChanging font properties of multiple cells based on one cell's value\tScope of static variable and methods in Java\tUpgrade solr 1.4 index to solr 3.3?\tMultisampling with triangles sharing the edge\tProper way to determine UITableViewCell width for grouped custom cells?\tGet system time using PHP and dealing with offsets/timezones\tRemoving entire rows with NaNs from a multidimensional array in Julia?\tFixing 'System.Web.Optimization.BundleCollection' does not contain a definition for 'EnableDefaultBundles' error\tPlanar graph from random points\thow to convert this query in yii framework model\tWhat is the relation between CPU utilization and energy consumption?\tHow to execute view code stored in string in run time with eval in rails 3.2 erb?\tRetrieving data in object(stdClass)#2\tsizeof Function not Working in Function\tWhy is my click function not working as expected?\twordpress - I cannot call bp_notifications_add_notification\tC# Populating a listview from a List\tios: how to detect if voice dictation was used for UITextView? Or microphone button was tapped on keyboard\tFit image to table cell [Pure HTML]\tCan someone provide a CorsPolicy implementation with an explicit Origins list?\tHow do I invoke the MIDL compiler to generate a .TLB file (type library) from an .IDL file?\tFacebook change image in page tab\tConnect to remote host and read data using C#\tcan JavaDB use SQL statements?\tR: How to convert from loops and rbinds to efficient code?\tVariable Number of Input Fields in Classic-ASP form\tReplacement for attribute binding syntax in Ember 2.0\tAngular + Ionic, ng-options implement value tag in select options\tHow to use scrapy.Request to load an element from another page into an item\tmake a pop-up window in php\tAndroid Java IF THEN ELSE.... =/\tDotNetZip: How to extract files, but ignoring the path in the zipfile?\tHow are python functions compiled and stored in PostgreSQL?\tparse JSON data into listView\tRetrieve Dynamics CRM custom fields using Webservice query\tRe-attach Microsoft Edge f12 developer tool\tDelphi - XE2 code to Delphi7 needed. Using wininet to download a file\tWhat kind of date format is this and how do I transform it?\tRails: Could not find bcrypt-ruby-3.0.1 in any of the sources\tUse powershell tabexpansion function\tHow to call callfunc function in cocos2dx 3.0\tParsing text files using Python\tCount number of files in each subfolder, ignoring files with certain name\tGenerate trx file through code\tcontentEditable on nodes in a XML/compound document?\tJenkins using File Parameter with MultiJob Project\tAccessing internal property out of the assembly scope\tcompress rows with NA in different columns to create a single row\tPHP Reference Objects in Foreach Loop\thow to get know the client port and ip address in client socket program in java\tClojure core.match can't match on class\tHow to execute command line ffmpeg commands programatically in android?\twhere is log file in nodejs app with winston\tHow to add Contacts into Contact group in android\tHow to deploy a rails app with no domain name. (trying to create a test server)\tFinding entry of vector in PARI/GP?\tParallel tar with split for large folders\tpython selenium, Firefox suddenly goes blank and stop working\tHow to do directed graph drawing in PHP?\tFont Anti-Aliasing with jQuery fadeIn\tCreating CustomViews as a modular & reusable component which can be used across projects\tDynamically input 2d character array in C++\tCannot access json file with javascript\tHow to use Google-hosted jQuery UI source?\tTimer in Windows 8.1 - how to mimic Timer(TimerCallback) constructor?\tSetting HTTP header (like expire) on Play Result - and how to handle ETag?\tExplanation of Cocoa @selector usage\tIDENTITY_INSERT with JPA\tUsing ViewFlipper with onclick to switch views.\tInsert/Close row after every 4 in foreach loop\tHow can I add opencv libraries to setup.py?\tDoes NSArray:lastObject return an autoreleased object?\tpyscripter Rpyc error\tHow to insert moment JS time into MySQL\tSee if a value exists within a group in regex and then manipulate it within the text\tHow do I make a function return data that was set within function (child snapshot) in firebase\tIf you dont have %f in C, how to write a C program to print decimal number upto 2 decimal places without %f?\tWP scrolling issue with listbox and scrollviewer\tScala futures: what is the main thread expected to do while futures are executing?\tCalculate Google distance of Input address and all the address from MySQL Server using jQuery ajax.get\tEmber- live preview image\tRun VBScript on server from javascript/php\tHow to get ASCII values of a string in VB.net\tHow to restrict one machine(terminal,device) to only login once in nodejs app\tiOS 8.3 - UITableView cell not aligned, indentation to the left\tNhibernate Session and ASP.NET\tHow to ignore errors about html tags in JMeter when using XPath Extractor\tcreateRecord, then set belongsTo results in Transaction Error\tHow to compute mean, cv and standard deviation simultaneously using by group in R\tHow can I find and replace specific text in a SAS data set?\tShould I store an array or individual items in Memcache?\tHow to send email password when creating a new user by API in Wordpress?\tIIS 7.5 HTTP Error 500.19 - Internal Server Error. Live website is functioning but has a /test url unknown to our developers which gives error 500.19\tHadoop - Globally sort mean and when is happen in MapReduce\tConvertation error in bean method execution from simple language expression\tHow to get the space free in my Mysql database?\tSwift - Assign a NIB to self in class\thow open database from SP\tCannot Extract Images from Lotus Notes using Java API\tMysterious Flickering Visual Artifact\tBest 3D model file format to load animaton\tProducing delay between statements in Ruby\tMVC package not compatible\tWhy one Java thread blocks OpenGL rendering that is done in other thread?\tGood literature on unit testing?\tFacebook Graph API Explorer is showing a blank page\tSpring cloud config server property encryption\tSelect last value in a month for all given IDs using LINQ\tExcel: Compare list of strings with a column of partial strings,if match then return the partial string\tLaunch an Application from a Browser\tHow do you write an exception without revealing sensitive information?\tDynamic Topologies vs Fine-grained topologies in Apache Storm\tWhy use Thread.currentThread().isInterrupted() instead of Thread.interrupted() when implementing Runnable?\tPad an image with zeros\tjquery for google tts no voice\tClean approach for refreshing UITableView data from datasource\tAdding polymer elements to DOM using jquery\tReturn column location of a value in Excel 2010\tHadamard matrix code\tHow do I add a namespace while doing XmlSerialization with an XmlWriter?\tReturn Value of Oracle.DataAccess execute non-query (stored proc)\tRunning jetty from eclipse\tHow do I send params to a FactoryGirl trait?\tRemoving higher layer\tAccessing User Details in a Facebook Application that is developed in ASP.NET and is showing as an Iframe in Facebook\tProjector Control/Display C#\tBatch file to compare the differences in two csv files\tPDO 'ON DUPLICATE KEY UPDATE' rowCount() in MySQL table returns double amount of updated records\tGWT, Maven, Spring - Getting com.thoughtworks.qdox.parser.ParseException: syntax error on Maven Build\tHow to call function arguments one by one\tText Dynamic changes depending on frame number\tXSLT transform XML document to display two columns from right to left only if have a value\tEclipse, where to change the current debug line background?\tUnwrap my carousel when resize the browser\tBest way to get the latest 5 posts from a category?\tparsing a date string from FTPClient.getModificationTime()\tPrototype function inside of jQuery function\tFinding increasing trend in Pandas\tGraph Facebook API giving cURL error when trying to post to a user's wall\tHow to set default value to select option in Angular JS\thow to detect if is running the scan for new media files on Android (in background)\tCan't unzip zip file\tAuthenticate server to server communication with API key\tManually remove host from MAMP PRO\tTelegram bot API - Inline bot getting Error 400 while trying to answer inline query\tImage not displaying when using application on a tablet\tFiles missing after *git svn clone*\tHow to reduce PHP-Code?\tGet the value of a custom field of a WordPress post\tLink command line too long: how to use response files when linking in scons on windows\tDisable div click on Ajax start and re-enable it on Ajax complete\tnet.tcp binding metadata problem\tConnect two UIScrollView's together\tgnuplot - alignment of horizontal key titles of different length\tPL/SQL to translate a number into text\tHow can I achieve float left at bottom and float right at top with css flexbox?\tjQuery.fn.load() is deprecated?\tHow can to do shape math with bing maps?\tHow to display video from ALAsset to UICollectionview ios\tCould not autowire method\tDeveloping via Remote Desktop\tPHP - find value comparing two multi-dimensional arrays\tis there a fast implementation of the log1p function?\tExtract machine name from connection string\tActiveRecord::ConnectionNotEstablished after switching to mysql from sqlite3\tRun time error 800A01A8\t\"Message from debugger: Terminated due to code signing error\" when debugging a Mac app?\tiphone NSDate Conversion problem\tPeriodic backgroud task in JMeter\tOpenCV detect face landmarks (ear-chin-ear line)\tText-shadow move to top of container in Android Native Browser 4.4.2\tDjango: how to annotate queryset with count of filtered ForeignKey field?\tCan webmail work without an SMTP server?\tHow to setup SysLogHandler with Django 1.3 logging dictionary configuration\tSave bitmap to file has zero in image size field\tSQL CONCAT IF Statement?\tUsing Workspace Variables in Jenkins XUnit Custom Stylesheet\tForwarding HTTP requests in Play for Scala\tWhy Apple's sample code project IKImageViewDemo does not have an AppDelegate class?\tSigning Blackberry application using Ant\tCan I open a new window and change the DOM of the calling window in JavaScript?\t\"Authorization has been denied for this request\" in jmeter\tHow do you get the unix timestamp for the start of today in javascript?\tWhy isn't my margin:10px auto; working?\tSQL Server 2008 Jobs\tUPDATE statement wrapped in an IF EXISTS block\tHow do I use the FileUploadDialogHandler in watin to access the file upload dialog\tExtract data from cell in excel\tWildcard apache mod_rewrite\tCustom styling jQuery UI's Datepicker?\tDoes Spring Data MongoDB supports MongoDB 3.4 collation feature?\thow to get the excel workbook mathematical operators using apache poi 3.6?\tDynamic Column width for a RDLC report\tC# Find Video and Audio file length\tLinux + Java + Windows : Check if file copied completely\tstruts2+ Set Form value to POJO and Set POJO Value To form\tHow can I use stackedit's markdown editor in my application\tIs there a way to git gc / prune on a remote Git repository hosted by TFS 2013?\tRepeatable process where image can be added when a button is click\tASP.NET MVC: Foolproof Validation not working\tReady event not working as expected\tIs it possible to list installed certificates on Firefox?\tWhat is the full set of legal parameters I can pass to a FBWebDialogs through presentFeedDialogModallyWithSession\tConditional or selective rule using Clips\tHtaccess remove query string & redirect to product\tDisplay array elements in smarty\tInput PDF format for PDFTK form fill\tasp.net change default login page\tCompare two images to check if they are the same\tDialogFragments with Gallery App using Android Support Library (rev.10) \"Compability Package\", V4 package for API 7 to API 16\tQuery Taking long time\tASP.NET MVC Model Binding Related Entities on Same Page\thow to disable privacy or anyother feature in edit profile form in userena?\tFast Way to Use VIPS Image as a QImage\tMaster detail split styling in android\tNeed to join really big bitmaps together\tmelting uniquely indexed pandas dataframes for use with ggplot/rpy2\tOracle adding trailing whitespace to my to_char(date)\tGcm with appodeal\tCan't solve add(android.support.v4.app.Fragment) in List can not be applied to (make.application.Fragment)\tAccessing postgresql server over network in Mac\tConfiguring heatmap overlays using Google Maps API\tWhat is the difference between crossinline and noinline in Kotlin?\tAngularJs routeProvider 404\tdifference between ensemble and quorum in zookeeper\ttransition background-image/css change on hover?\tPlot a marker on current location after async-task onPostExecution\tPointing Simple Membership provider to use MongoDB Connection\tUIWebView always add a parameter in url issue\tInclude php code within echo from a random text\tRegex match character in words of certain length\tLaravel template - passing data to layout\tPython import issues, can't find module\tLoopback connections working in user's context but not working from Local System account\treading multiple cards/tags using smartcard.rb on ACR122U\tHow to get an adwords account client customer id to link it to a MCC account?\t.Net Framework issue with RTZ2 time zone\tCannot log in Neo4j server\tMatplotlib contour plot with intersecting contour lines\tDebugging Delphi Firemonkey Indy TCP Server\tWhat exactly is localStorage in html?\tjQuery animate lineHeight - relative property gives weird result\tDifferent implementations for Autocomplete-light\tHTML5/JavaScript - How to add a timestamp attribute to video source?\tPrevent unnecessary HTTP requests for iPhone version of website\tHow execute a combination key on node-webkit like c# sendkeys\tWhat does \"Receiver type 'CALayer' for instance message is a forward declaration\" mean here?\tAndroid spinner with dialog\tQTableView how to find out if Row is selected?\tHow to walk through a directory in c and print all files name and permissions\tcss: gallery view without <table>\tReturn user to previous page after login (Rails)\tCount the number of elements are matching with for the given xpath expression\tCould not find ildasm.exe at location C:\\Program Files (x86)\\Microsoft visual studio 11.0\tSetting a div to be the same height as an image\tPHP redirect to page with variable in URL\tBugzilla rest api activation\tget other values according to the item selected in Autocompletetextview\t.htaccess url rewrite\thow to show image from database in php/mysql. if image is insert in db using C#/Vb.net\tRails where or select for query chaining\tFacebook, who liked our fan page?\tSpring Boot: Send requests on another port to a custom Servlet\tDjango forms - append to class meta exclude and widgets\tNetbeans Error in JavaEE project\tHow do I extend this javascript to change the class of two elements in one onclick?\tWhy do printed characters disappear in this python code?\tSequel: How to use group and count\tJava: Can Function have a parameter for an array of a specific length?\tjQuery Ajax with file type error\tParsing and converting Datetime format from csv file to mysql in Java\tHow to create a new ODBC connection to one remote SQL Server\tAndroid: ProgressDialog not spinning\tRails 4 memory profiling\tHow to find whether unique key constraint exists for given columns\tHow To Pass a JRBeanCollectionDataSource to iReport?\tansible: use different logging level for terminal and log file\tIs there anything that explains the Rails' API documentation?\tHTTP Patch request from Android\thow to make readable xml tags\tPHP DOMXpath not scraping URL\tAWS EC2 Instance Drupal 8 Site Access Denied\tApp_id spoofing and misuse\tVista 64-bit Development Caveats\thow to ajax Get result in a php file from another php file echo\tTrigger Heap Dump of a 1.5 JVM running on Windows\tClientCertificate is the server's SSL cert\tASP.NET Health Monitoring in IIS 7.5 Integrated Mode\tCore data - Unacceptable type of value for attribute\tHow to add a periodic timer callback in a linux kernel module\tFailed to get Token DrEdit android sample\treplace all but certain html tags with htmlspecialchars() in PHP?\tLoad Data from Rest API to HDFS\tOauth Invalid auth/bad request (got a 404, expected HTTP/1.1 20X or a redirect)\tPassing an associative array using json: which type to expect in the controller?\tFirefox 9.0.1 Broke Internal Wiki Layout\tWhy isn't my UILabel being changed?\tCan't change image using imagekit ModelForm\tHow to stop warning for UIView may not respond to selector\tfill an array with Int like a Char; C++, cin object\tBash read inside a loop reading a file\tUnity Mesh Renderer won't be completely transparent\tHow to use this for killing array of threads?\tSystem.Windows.SystemParameters.PrimaryScreenWidth Incorrect?\tDrawing A Rectangle in Smalltalk Squeak\tHow can I add a slider to my plot to adjust the contrast?\tHow to import a document class file and play it out on a frame\tCannot drop in div\tFill image in a div from center\tAndroid - Load image from URL to ImageView while showing progress (without saving the image)\tWeb service response - type pdf\tIs the new APCu APC User Cache shared between processes?\tCalling coordinates from MySQL database with this code causes simulator to display a SIGABRT error. What's wrong?\tHow to setup domain model as actor?\tUser-defined functions vs. Built-in / Pre-defined functions\tJboss Wildfly EJB3 and Mybatis Deployment Error: NoSuchMethodError javax.persistence.Table.indexes()[Ljavax/persistence/Index;\tLoading FLOAT values to table using SSIS\tHow to use ActionController::Live along with Resque + Redis (for Chat application)\tBest Practice for showing Page after Post\tjQuery: Can't call a function\tPython custom datetime(?) format handling\tGradle dist/bin/script fileMode\tMicrosoft Graph APi not returning \"Cancelled\" Events\tHow to rotate one view controller and others stay in one mode (portrait mode) in ios?\tWhy doesn't Jelly Bean show the second row in a Notification?\tObject animator not removing update listener android\tGreasemonkey script for changing \"inbox\" to \"test\" at yahoo mail\tMagento Error Log - 'core_store' doesn't exist in /mysite/lib/Zend/Db/Statement/Pdo.php\tNative Heap related Memory Leak in .NET Application\tLearning Entity Framework 6 command tree interceptors\tWhat happens when Heroku runs out of memory?\tBehavior of SELECT query using executeUpdate\tjava.lang.AbstractMethodError: javax.ws.rs.core.UriBuilder.uri(Ljava/lang/String;)Ljavax/ws/rs/core/UriBuilder;\tCodeigniter active record - query 3 tables\tHow do I cancel an NSOperation in my object when my UITableViewCell is no longer visible?\tSingle table inheritance scopes\tHow can I add a Chrome extension listener both onStartup and onInstalled?\tCheck checkbox based on database query\tTDD vs Defensive Programming\tIs there a way to cache Python 3.5 definitions using a time-to-live decorator?\tEscaping + character when read to passed as ajax data (to prevent concatenation)\tMySQL search for 1,2,3,11,22,33 in field\tFind String in a Txt File, Delete Entire Line\tHow to run program in background in android?\tUse a Marker InfoClickListener interface\tCode editor with autocomplete\tHow can I programatically generate a thumbnail of a PDF with the iPhone SDK?\tHow to implement class that has property as property in C#?\tLyX system reconfiguration failure\tWhere can I find an updatesite zip for eGit on Eclipse 3.6 behind a firewall?\tMulti Project in 1 Solution for Typescript\tFixed Header & Footer not working in JqueryMobile\tWhy does Phalcon 2 raise \"undefined symbol: php_pdo_get_dbh_ce in Unknown on line 0\" warning?\tHow to configure the STM32103 for CAN and remapping the pins to PB8 and PB9\tRegex pattern not working in VB Script\tHow can I run a cron job with arguments and pass results to a log?\tSaving dynamically added LinearLayouts without using savedInstanceState?\tIs there a JSDoc standard?\tHTML5 button.formaction Attribute Not Working Outside of <form>\tFacebook Authentication Implementation\tHow to prevent batch file (.bat) from closing terminal when running commands?\tAjax queryString - which variables should I use\tnormalizing input string before searching through List c#\tCodeigniter Sessions Library - storing data only in DB\tA simple web page inside kivy app as a widget\tDiscover SQL Server procedure default parameters using SYS or INFORMATION_SCHEMA tables\tSorting by multiple params in pyes and elasticsearch\tDealing with mouseenter and mouseleave on the iPad\thow to show all item of a dropdown list in asp.net?\tHow to edit page tab image? OAuthException: (#300)\tWhy does Spring 4 only allow one TaskScheduler in a context?\tC# JSON.NET invalid type\tHow to change a field value during the ItemUpdating event\tEntry level javascript with rails: updating a div on form submit (3.1/jquery)\tAzure Resource Manager: unable to attach existing VHD when creating VM from powershell / azure preview portal\tIs there a way to tell if an object has implemented ToString explicitly in c#\tHow to create a single series bar graph with Highcharts\tIn Android How can I specify which activity should handle my intent\tdifference between Html.BeginForm() and ajax.beginform()\tApp Engine: Copy live Datastore to local dev Datastore (that still works)\tAmbiguous java error\tVBA Outlook 2010 retrieving information from Active Directory\tHow to get max min item from a list in Drools\tVirtual method not called\tNSFetchedResultsControllerDelegate in a second view controller (not firing?)\tTime complexity analysis. while loop with inner for loop\tSiamese Network using Rstudio Keras\tWhat are your opinions on methods of function storage and execution in PHP?\tUsing Python to calculate sum in CSV row\tASLR bits of Entropy of mmap()\tSelecting non-standard tag with jQuery\tHow to REALLY secure a PDF, using ItextPDF preferably?\tDjango registration: Redirect after registering fails because of missing argument\tAdvanced Java topics for a C# programmer\tHow to use absolute position relative to parent element\tHow can I use SCM on linked files in VS2008 projects?\tRun ansible on specific hosts group\tMapping Result From SP To Complex Object\tUsing comparison function for the key type for sets results in runtime error\tLaravel and phpStorm integration - \"cannot resolve directory\"\tIn Laravel, Why with the `before` application event, `Request::segment()` method works fine and `Route::currentRouteName()` does not?\tLive javascript edit & compile - Firefox Developer Edition\tASP.Net using wrong web.config for virtual directory\tUsing Kentor.AuthServices.StubIdp as production IDP\tHide a component when clicked outside\tUnable to save file with ASP.NET FileUpload - access denied\tEyelidFieldManager does not display bottom dock\tASP.NET Web application doesn't unload AppDomains after deploy\tDjango-Template : Get Variables in a Tag block !\trazor syntax - foreach loop\tFooter. It overlaps on div\tI want someone to write a short piece of code storing query string data in a DB using wordpress\thow to calculate time complexity in big O notation of this algorithm\tOld MediaWiki site broken in Chrome\tHow to query Embedded class in Hibernate?\tordered object array as per 3 letter month order in php\tXamarin.Forms untappable ListView (remove selection ripple effect)\tFileNotFoundException in Windows 10 Universal App (UAP)\tHow to override HTML image using CSS\tHow to prevent window.onhashchange?\tShould I migrate from ngRoute to ui-router?\tHow to document an effective dated join\tVueJS 2.0 v-model dynamic target inside v-for\tSpring Batch - process repeated when skippable exception occurs\tPyspark reading pickled files\tMapping a BsonArray to a List<> in a POCO\tPassing data to view in node + express\tIf iText PdfGraphics2D.create() is used, absolute drawing order is not respected in generated PDF\tIcon for Mac OSX bundle\tBash: exit code of traps\tcalculate differences between two numbers\tFinding the specific type held in an ArrayList<Object> (ie. Object = String, etc.)\tZend Elements and setRequired, setAllowEmpty, NotEmpty\tFancybox Overlay\tHow to define a state_machine in a Concern?\thas many for model in subfolder\tRails 3 test fixtures with carrierwave?\tDoes binding events to elements in jQuery multiple times have a knock on effect?\tDisplay values from array\tJ Oliver EventStore, a few questions\tWhat does it mean to \"join\" a thread?\tWhy does Oracle 12c query require double quotes around table\tAre there any issues with Isolated Storage and Windows Vista?\tJenkins slave using an ssh gateway\tHow to create an EDE project for C++\tRemove Google Cardboard pairing message on iOS\tUpdating using subquery that returns multiple rows\tHow center TChart header?\tsbt-assembly: how to link dependancies jar with main jar?\tDoes alembic care what its migration files are called?\tKendoui MVC EditorTemplateName do not work in PopUp edit mode\tleinigen repl with profile\tPrint first 10 entries from each table in SQL Server database with empty lines between tables\tembedding a font in a swf using as3\tStart Accepting new connections before or after EndAccept()\tDynamic generation of images with JS\tRequirejs configuration in different file\tInsert text from a text box into and Access 2010 DataBase using VB.Net\tHow can I get multiple calls to sem_open working in C?\tHow to specify which external JS file to use when calling function\tTrigger parsley validation without submit form?\tPHP & .htaccess working together\tDynamic to(URI) in Camel\tPerformance issue in hive version 0.13.1\tUsing an explicit localization expression for a page title?\tAllocation.copyTo(Bitmap) corrupting pixel values\tNSWindowController subClass - Init is Called twice\tDynamic Function Call in FSharp\tCSS3 \"Column-count\" does not align top of columns (Wordpress, responsive)\tJQuery: elegant way to replace set of elements with another set?\tCatching json data from hubspot webhook\tHard Code List of Years?\tRuby Gem Twitter - certificate verify failed (Twitter::Error::ClientError)\tForce MKAnnotationView Callout Bubble to resize when contents change\tPHP: Writing a MYSQL query to CSV\tMsTest TestCleanup method not called when an unhandled exception is thrown\tCorrect way to initialize a NULL-terminated array of strings in C\trails how to delete cache key using partial match\tCheck a String for several regex and say which one matched\tDraw a fence in Java using for loops\tHow to link Lua in Microsoft Visual C++.2010 Express?\tWhat's a good way to share a Vagrantfile between project?\tAndroid: Integrating Foursquare into App\tJavaFx ONLY TOP innerShadow\tSafari View Controller - send data back to app\tReturn caret postion or range of a div in IE8\tGetElementById() not finding the tag?\tSOAP Service Reference in Windows Phone 8.1 Universal app\tExact matches with ElasticSearch (at query time)\tOpenCV Python Feature Detection and Matching\tHTML entities in WordPress titles & Social Media\tChange Android smooth scroll behaviour on click\tSQLite export with column names\thow to find the element is resized using jQuery\tCan compacting arrays be more selective in JSON-LD framing?\tHadoop - Upgrade from CDH4 to CDH5 MR1 - Counters\tBranch from a DEV branch or branch from trunk?\tImage change onclick not work in mobile browser\tUsing a C# Windows DLL in ASP.Net\tIs it possible to specify the time zone on Windows Azure?\tOpenCV frame count wrong for interlaced videos, workaround?\tHow can I transform the coordinates of a Shapefile?\tWeird rendering behavior in WPF for ToolTips with brackets or parentheses\tBest practice for handling null strings from database (in Java)\tProblems with importing Android platform classes\tVisual Studio 2013 remote debugging, auto deploy?\tDatabase Schema For Private Messages\tThe type initializer for threw an exception in entity framework model?\tChecking empty and or missing field value in JSON with DataWeave\tHow to make weblogic form authentication in wicket\tASP.NET maintain control state that has collection items\twrite trie parsing recursive function with node step over\t\"CruiseControl\" Automation for C++ projects?\tHow to create a custom router in Zend-Framework?\tParse String to Integer (come hell or high water)\tThe designer cannot process the code at line 115, please see the task list for details\tHow do I split a Git repository cleanly?\tregarding XML Files\tReturn JSON NULL\tReplicate Behavior of a Batch File in a Custom Action\tCannot Change Fragment TextView with setText\tHow to compare Files in two different Folders and perform conditional copying\tHow to check if datagridview input type matches with the underlying data type in c#?\tRecursion in C confusion\tFinding duplicate values in r\tStatic variables in Android\tValid XPath expression\tIs there a way to make controls transparent to mouse events in WPF?\tRead csv, then enumerate\tHow to get weekly data from table?\tHow to perform an action only after data are downloaded from Firebase\tWhy reduce the size of the Java JVM thread stack?\tHow can I focus on a Word document I just opened through interop?\n",
            "5 52296 UE4: output game frames to file\tUnreal Engine 4: save rendered frame to memory\tHow to show an default text when an item of the TreeView doesn't have subitems\tsimple beginner search program using arrays in javascript, issue with displaying\tWhen typing in editable ComboBox not showing DropDown list\tGMap.Net marker initially in incorrect position\tWhat are we doing wrong with git?\tLaTeX: remove blank page after a \\part or \\chapter\tWhat is component level Module in Ionic 2\tReact to classes added via Jquery\tOpencart 2.3 Adding a custom menu in header\tWordpress Syntaxhighlighter -- horizontal scroll bar visibility\tmatplotlib agg ticks when rendering floating points\tReturn stored procedure data to ms access table\tPHP Google Calendar API: Adding Multiple Events at Once\tPython: How can i convert this into a decorator\tGoogle app engine datastore fast writing\tSUMIF contains one of elements in array (OR)\tFacebook php api: Verify user details according to my app's policy\tCan TreeSet be sorted in opposite way when objects are already in the set?\tExportAttribute() is inaccessible due to its protection level\tGet content from external web page on java\tGet Google contacts via AuthSub c#\thaving trouble with lists in python\tPassing quoted string arguments to a bash script\tNot able to insert into sqlite3 using python\tORACLE sql dynamic variables in stored procedure\tWhere does System.err.println output go in Jboss?\tDefining multiple relations in Yii php\tGrunt task to optionally include an AMD module for different environment\thow to clear devise session on browser close?\tModal view does not fire from child controller\tOpenGL view on C# Form\tset Access database table field with form check box\tPython/PyQt4: How do you find the SIZE of a monitor (in inches)?\tHow to retrieve a PDF(document) from the Tridion File System and create a multimedia component out of it\tReconfiguration of FPGA in ML605 Board\tAndroid AsyncTask sending data via http Post\tWhat is the smallest, simplest CPU that gcc can compile for?\tNSFetchedResultsControllerDelegate in a second view controller (not firing?)\tHow to theme WPF custom controls\tProblem with property inherited from parent entity\tRVO & returning a container\tMATLAB: how to apply function componentwise\tHow to to assign the address of a local swift variable to an UnsafeMutablePointer\tHow to override HTML image using CSS\tUITextView in UIScrollView is not scrollable\tmssql_connect(): Unable to connect to server (without freetds.conf)\tRead an XML file in a WCF service and return XML from the service\tJava: Are interfaces a better OO design than static classes?\tResize text to totally fill container\tDifference between setBackgroundImage and setImage\tGetting detected data from the UITextView\tGet pid from exec() in php\tRemove right border off of the last Child div through CSS\tFlash Develop - Publishing\tSetLocale did not work in jsp site to format currency in german\tHow to dynamically change the background image in Meteor?\tOracle view not updatable, advice on Instead Of triggers\tHow to pass ViewModel property as model to partial view?\tHow can I use SIMD to accelerate XOR two blocks of memory?\tParse: Cloud Code Variable Declartaion\tMinimize function selection and function call overhead?\tiPhone App Rejected: first time launch the screen turns white on iPad\tSpring 3.0 Could not load properties\tHTML <select> not submitted\tHow to specify positional arguments with the flag package in Golang?\tWarning INI parameter missing in Z3 3.2?\teclipse 4.3 EE facet jpa 2.0 build error\tCustom Control events not firing\tHow to Dump latest list in LinqPad?\tDropdown list bound to object data source - how to update on a button click\tHow to use Java from PHP 5\tIs there a way to redirect the browser from the bootstrap in Zend Framework?\tAdding an attribute to a css class with MooTools\tHDFS replication property not reflecting as defined in hfs-site.xml\tGetting the first available port in Haskell, in a platform-independent way\tHow to make individual pull requests vs \"stacking\" them on top of each other in Github?\tWhy does Visual Basic allow Strings to be added to Integers in arithmetic statements?\tQuery regarding the nested grid views in asp.net/C#\tInner div aren't pushing other div, cant get clear: both; to work\tRouting with parameter and a widget JQueryAutocompleter (symfony)\tJava TextField question\tDbRepository implementation without constructor in child classes\tHow to align dt and dd side-by-side using flexbox with multiple dd underneath the other?\tConnect to Sybase Ase 15 via Excel's macros\tUsing Relative or GridLayout to evenly distribute buttons depending on screen size\tHTML working with tags\tPolicy violation issue shown for library or SDK (com.google.ads, com.google.android.gms.internal)\tPopulating an array with 100 integers in C\tHow to dynamically generate CSS file from database in ASP.NET MVC\tHow to parsing Aras Markup language into iphone application SDK?\tDisabling App Nap in Java\tIE8 ignores \"filter\" CSS styles\tSeveral Performance Issues after migrating from .NET 1.1 to .NET 4.0\tRemoving Composite Product Price on Product Page in WooCommerce\tBoost.Python and PyQt\tDynamically Generate file connection for several packages in SSIS\tSetting up a Host File - Faking URLs\tJavascript not executing in iPhone\tMonoTouch SecKeyChain.Add returning SecStatusCode.Param\tHow to use absolute position relative to parent element\tAndroid insert into sqlite database\tLint node.js code on save\tSpriteKit SKView showsFields memory usage\tContain Behavior, conditions and empty array\tTest request body with OHHTTPStubs in Swift\tFind most distant points in contour curve\tpass string array as parameter to asp.net mvc webapi method\tUsing an Array to verify login and password\tpython: how do I call a function without changing an argument?\tIn-python MediaWiki authentication from cookies\tHow to stop qcombobox/qspinbox to emit signals when enabling/disabling them\tHow to create custom button from custom control?\tRecyclerView remove animation bug\tsearching two tables with sphinx and or mysql?\tGWT RPC - Multiple RPC Services Per App\tWhen is the most effective time to do code reviews?\tForwarding an image upload request to another server\tHow to call function arguments one by one\tSSL configuration issue with RabbitMQ Web-Stomp Plugin\tCreating a dropdownlist from your controller or view model\tNode.JS Express App Will Not Run on AWS EC2 Instance Running Ubuntu\tApplying array_agg / array_to_json to a query with modified columns\tADO.NET Data Services Entity Framework request error when property setter is internal\tAny Framework For epub Reader\tHow to set group headers in listview not selectable?\tSQL, missing end, but why?\tIs the HTTP_HOST server variable always defined?\tQuery Taking long time\tSlider doesn't draw (CodeName One) with Windows phone skin\tWhy is my code only displaying incorrect even if I have the right answer?\tWordPress Cookie Redirect - Home Page to Blog Page\tParsing extra characters from Datetime\tDelete email from Outlook with C#\tHow to change tableView Cell button image on click in ios\tTypeError: invalid 'in' operand a\tmeteor add d3 grafics dynamically fails\tJFormattedTextField - How to allow only chars?\tControls are not inherited in winforms\tInstallShield VStudio project is installing app.config file instead of merged MyApp.exe.config\tIs there a way to give the user an option to view the desktop version if they are viewing on a phone or tablet?\tUnable to find server client secret of my project using Oauth\tJacoco.exec file not being picked up by Sonar in Jenkins\tHow can I get Java to read my text file?\tHow does a projection Matrix work?\tHow to make weblogic form authentication in wicket\tVB6: Is there a standard library (parser) to strip HTML tags from content?\tIn CkEditor 4.3 with Image2 plugin, what is the right way to change the image src?\tHow to resolve the Blurness issue in print Preview of UWP?\tShare instance of base class for indirect base classes possible?\tjScrollPane doesn't display when ajax reloads content of a block\tFastest way to write large CSV with Python\tPython numpy.where and structured (record) array\tdataGridView1_RowsRemoved not working as I expect\tXML and \":\" issue\tExcel Solver Finding a Target Sum from Subset of Number Set\tWeird accessibility scopes when F# record's fields are declared private\tExpanding image field in a pandas dataframe\tMeaning of @ (at-sign) in Lisp?\tHow to make json-schema to allow one but not another field?\tHow to do multicast of push notification?\tCastle Windsor - IoC registration for open generic interfaces?\tTemporary value (local value) with nginx php FPM\tFirebase local server\tIs there a tool to convert between VS2005, VS2008 and VS2010 solutions and projects (not only .NET)?\tSpecReporter is not a constructor error when running protractor using angular-cli\thow use const in try catch block\tContravariance in Expressions\tFacebook SDK MVC3 - Lost canvas session\tHow do I enable ssl for all controllers in mvc application\tUse pyhthon calculate data in CSV\tPositioning table captions in LaTeX\tnodejs https server doesn't respond\tEncoding issue: can't find the item in db although it exists\tReal time syncing\tHadamard matrix code\tWhy does Google use invalid HTML attributes? And does this mean I can too?\tUsing Dots In SQL Server Object Names\twhen I call drawRect:, UIView class properties seemingly disappear\tHow to use Hibernate with JSF\tGet values of checkbox to other page\tPandas GroupBy: apply a function with two arguments\tVB WebBrowser click button\thow to fetch every nth object using core data\tSQLite, how to get all table names in database?\tapp isn't woken up on receiving gcm message broadcast\tHow can I bind many event handlers to one event using jQuery?\tHow to disable a .bat file running after silent installation of inno setup package?\tWhen clicking on datagrid row it throws me exception - WPF C#\tHow to display empty tableview by default when using UISearchController in Swift?\tWhy the Destructor in C++ de-allocated memory in reverse order of how they were initialised?\tJython - Using Spring, Programming in Python?\thistogram of distances between multiple tables\tNode-Webkit - Starting Maximized\tWhy doesn't reduce short-circuit?\tReferencing a dynamically created control?\tWhat is the meaning of DOCTYPE in xml file?\tXamlParseException when trying to bind subclass Loaded event handler\tCrash in Delphi function - StrToDateTime\tXPath - determine the element position\tReplacing Month Name with its respective Month Number\tHow to debug .exe started by another .exe in Delphi\tSubtract dates in Ruby and get the difference in minutes\tInitialize static NSString at class level\tRetrieving data in object(stdClass)#2\tasp.net core exclude files from the build\tCreating \"highlight\" like effect on \"info dark\" button on white background\tCan a method using super take a subtype of an object and add it to the list?\tUnable to access WMI on remote machine using vb.net\tDelphi DataModule Usage - Single or Multiple?\tExtracting pictures/images within an Excel file (xls) using PHP\tElasticsearch complex proximity query\tTrouble getting the MvcMiniProfiler to work with EF4.1 and our Repository Pattern\tUsing excels named range in a sql string in VBScript\tSecuring endpoints in Spring Boot by rights/roles\tFind density of the Edges in a image\tHow to design this RDBMS schema?\t@Value property injection not working in GenericFilterBean Spring\tA connection was successfully established with the server, but then an error occurred - provider: TCP Provider, error: 0\tMogenerator and ARC in XCode 4.6\tImplicit Type Conversion for PHP Classes?\tDialogFragments with Gallery App using Android Support Library (rev.10) \"Compability Package\", V4 package for API 7 to API 16\tThreads not executing concurrently in Netty UDP server\tServiceStack Identity on field other than PK - Insert fails\tCall a PowerShell script in a new, clean PowerShell instance (from within another script)\tHow to use segments in Google Analytics API\tCan't add custom template to sonata_type_model many_to_many\tHow to insert new row to database with AUTO_INCREMENT column without specifying column names?\tHow do I create a dynamic scope where I can pass in an object if possible?\tFormatting properties with FileHelper\tAuto adjust width of divs on show/hide of one div in bootstrap html\tHow to set/remove insets in JavaFX TitledPane\tCollision detection management in Libgdx\tHow you can convert JsonArray from String of JsonArray format in Java?\thow to get session variable value in php?\tHow to check if a specific button exists in Scrapy?\tHow can I post photo to facebook with python sdk\tUnable to install MicrosoftAzure-ServiceFabric-CoreSDK\tjava.lang.IllegalState Exception LifecylceProcessor and ApplicationEventMulticaster not initialized when using Spring Boot\tPurchases in Android\tUpdating the data on Firebase Android\tWindows 8 Metro style project(InkStroke.Add Error)\tC:\\fakepath get jquery in IE not in firefox?\tImage Gradient Vector Field in Python\tReading an InputStream into a Data object\tAre there any other semi/portable ways to dynamically allocate memory?\tmembership create user not working\tHow to apply Three type of conditions in php rephrased version\tHow do I display custom fields in Wordpress in alphabetical order?\tAndroid app installation: Unknown failure (Failure - not installed for 0)\tCss :hover for another elements\tAppending NSAttributedString with line break returns attributed string with wrong format\tPreventing CKEditor from adding 'data-cke-saved' and converting &lt\tPerl Regex to match a string that is not enclosed in quotes\tFar Negative Lookbehind\tAVD Manager Unknown Error\tCast float to int in OCaml\tPossible problem with ComponentOne controls in vb6\tHow to send Https Post request in java\tI'd like to click anywhere (blank area) in a list view\tMake WPF Application Fullscreen (Cover startmenu)\tMedian of a list with NaN values removed, in python\tNetbeans 8.2 build successful but no output\tDelete row which has more than X columns in a csv\tCore data - Unacceptable type of value for attribute\tDelete System Files containing string\tWhat is the proper file naming convention of class extension in Objective-C?\tAccess forbidden and page not found error in Xampp server\tUsing FindControl: Accessing Controls in a Formview\tDjango with splinter and phantomjs is painfully slow\tCalculate coefficient to get normal speed animation\tAndroid: Integrating Foursquare into App\tDo I need to set Internet permission for opening a website in Android?\tHiding radio options depending on other seperate radio option in knockout\tIs it possible to POST a file and some data in the same call to a webservice?\tEvent Handlers SP 2007\tPython: Append to dictionary from a zip\tConnecting with Google Picasa -> Delphi 7\tis there any link to show all public repositories in GitHub?\tShould Cloudera Manager 5 be installed on a compute node, or on a standalone server?\tInvoking to type the team name twice instead of once\tWPF custom window does not apply its generic template at design time\tHow to generate an AVL tree as lopsided as possible?\tSencha Mysql Queries\tSolved -- Finding index of element that was selected\tMatlab code optimization and removing loops\tSQL - Return latest comment for every row\tChoropleth maps: changing stroke color in `mouseover` shows overlapping boundaries\tSort Tuples Python\tSpecifying a scene in Interface Builder\tYii active dropdownlist with optgroup\tChanging std::pair type affects hashmap\tHow do I retrieve both the server name and database name from a connection string in web.config\tBuilding node-sqlite3 with nw-gyp\tangular2 - How do 'imports' and 'exports' work in Angular2 modules?\tCassandra and advanced queries: Spark, ElasticSearch, Sorl\tJava Integer out of range\tweb.config azure websites friendly url-rewriting routing with manual code writing\tHow can I programatically generate a thumbnail of a PDF with the iPhone SDK?\tJavaFX: stage's minHeight considering titlebar's height\tWhat does the PCOMMIT instruction do?\tHow can I get XDebug to run with PHPUnit on the CLI?\tDifficulty in creating filename\tfind minDistance parameter in requestlocationupdates is used?\tui-select clearing input after selection\tWP7 slider strange behavior\tJenkins ext-email plugin fails to send email on build success\tparse.com cloud code access sub object _type\tAverage a CSV Column\tGet all shared directories on a remote Server\tSelect rows in master table which have NO join in subtable\tHow can I json.parse a javascript string?\tSet icon on action bar on every activity\tReturning pointer becomes garbage...c++\tHow to turn off snippets in Atom?\tDelphi EMS FireDAC: How to pass parameter from client to server using EMS?\tdraw polygon shape on canvas and allow tooltip on it\tSwing change foreground color of BasicArrowButton\tjQuery Mobile “Error Loading Page”\tReturning the content of multiple files in node.js\tIs it appropriate to use named routes in integration tests?\tfabric.js Crop path inside object\tHow to Add CAPTCHA ControlForm into page\tPylons user authentication roll our own or openid or alternatives?\tSelectMany Three Levels Deep\tShared Object Pool without Thread.Sleep?\tHow to create a System.Drawing.Color from its hexadecimal RGB string?\tLLVM: difference between \"uses\" and \"user\" in Instruction or Value classes\tHow to fake a library (GDI to Xamarin.Forms) across namespaces and platforms such as reusing Color struct\tHow can I create oracle apex server side live validation without need to submit page\tMac OSX PHP and XAMPP path issue\twhy doesnt this timer work\tDjango Get absolute url for static files\tForeach element Javascript json\tTFS - What security would allow me to 'Add files' in one project and not the other?\tIn R, how to make dots transparent while using scale_size in ggplot2?\tSQLite with Entity Framework 6 \"no such table\"\tHow can I add data to a multivalued attribute in DynamoDB using boto?\tWSO2 ESB Custom Axis Module JSON Payload in MessageContext\tUnitOfWork, Repository Database Connection Issue\tAndroid emulator web cam is not detected\t\"Already initialized constant\" warning\tI ran into issue here with splitting array and adding it up\tHow to add string to list, C programming language\tWhy do I have so many simulators and how do I restore the basic platforms?\tCreating control array in Android\tConvert MS Word texts to plain valid html/css\tHow to simulate mouse clicks and keypresses in F#\tsession across subdomains not working\tXmlAttributeAttribute type in generated XML file\tProblems with Stripe Class Require nor Include are working\tjava.sql.SQLException: Access denied for user 'root@localhost'@'localhost' (using password: YES)\tEnable Ruby syntax highlighting in chrome devtools\tAndroid ICS - Embedded youtube video not working in full screen mode\tHelp using Bubble Sort\tCallKit find number used to start app from native phone app\tHow to check for network reachability on iOS in a non-blocking manner?\tCall Carousel plugin issue\tXStream: How do I map xml mixed attributes and elements to POJOs?\tFeedzirra and Hash Sorting\tcss3 animation on hover\tinclude and require functions in PHP are not adding contents but not erroring out\tNormalize filenames to NFC or not (Unicode)\tWindows Azure - Load Data via FTP in ASP.NET App\tdoes var onload mean that it should run when page is loaded\tMocking environment with Slim3 for CLI\tgit push all branches from one remote to another remote\tMatlab error in ode45 or fourth-order Runge-Kutta method to solve a system of coupled ODEs\tHow can I manage building library projects that produce both a static lib and a dll?\tDisable context menu webbrowser control\tSelenium find_element_with_link_text not working\tIE is centering my svg\tAngularJS post request doesn't get server response correctly\tPass javascript return value to controller in MVC 4\tMeaning of Stanford Spanish POS Tagger tags\tHow to resize the width of a div if a word wrap happened?\tYii Asset manager - css with image url\tWhy would you want trailing spaces in an HTML document?\tHow to create this bootstrap carousel of iframes?\tHow to retrieve data from MYSQL to combobox in JUNG visualization\tWhy doesn't Jelly Bean show the second row in a Notification?\tRESTKit deleting object when the response is empty\tIntegrating MoPub in android with eclipse\tC# 7 switch case with null checks\tVinyl-ftp strange error\tCustom CSS attributes while using LESS?\tdjango - order query set by postgres function\tCUDA: injecting my own PTX function?\tHow to iterate Data from two columns into single select box in ASP.Net MVC\tPassing variable to a form for display in django\tOptimizing disk IO\tVisual Studio 2008 underlining non-error code in red\tPrepared statement not sending\tWhy is meta box not appearing in WordPress Add New UI?\tWordpress array to show post from certain category and show post excerpt and feature ing\tGeolocation method to see if user in specific area\tHow can I tell if \"inline\" worked?\tEqualsIgnoreCase() not working as intended.\tPHP Creating and editing TXT file\thexdump and reading binary files to text\tEntity Framework, stored procedures and navigation properties\tObjective-C, auto erase NSTextField string\tWiener Filter for image deblur\tCannot resolve method 'formKey' in ACRA 4.7.0\tHow to introduce a break in charts using d3js/nvd3\tLinked List sentinel node to avoid reassigning pointer to first node\tHow to specify ServiceHostFactory for self-hosted WCF service with no SVC file\tBootstrapper (setup.exe) says \".NET 3.5 not found\" but launching .msi directly installs application without problem\tShow Emoji keyboard programatically in iOS 9.0\tAndroid : Retrofit HTTPS connection not working\tAndroid BLE callback OnWriteCallback stops after few seconds\tASP.NET - Access Session from static method/static class?\tHow to use Mockito to show all invocations on a mock\tHow can I make the namespace locally match what is listed on MSDN?\tJavascript - How to get the sum of the index[1] elements from a 2D array\tMongoDb speed decrease\tWhy does Java read random amounts from a socket but not the whole message?\tJavascript modify the text inside the div class\tSwift - Single and Multiple Selection in same tableView\thow to extract only specific strings in VBA\tSimulate \"Windows\" key and \"+\" key to zoom in\tLaunching 2 and more WebApps\tios jailbreak entitlements sign convert app to ipa\tSpark application got the error of \"Task not serializable\"?\tWhy does an insert query occasionally take so long to complete?\tTomcat filter generates duplicate localhost.log lines\tSession Variables in IE\t'Leave this page' message display twice on IE10\tdojox.grid.DataGrid: how to access data from a click event?\tCollapsable toolbar not collapsing properly when having recycler view inside it\tDOJO form FilteringSelect allow user entered data\tcustom menu control in UIWebView\tpossible to replace window.location.hash?\tGet current zip code, and show closest results from NSArray\tHow to get numbers from string in C#?\tIs there an easy way to reduce the number of colors in an IndexedColorModel?\tgcc: error: libhello.so: No such file or directory\tVBA parsing of numeric ranges from string\tJsTree with dnd plugin, always copy\tKnockout.js template binding - call a function of tinyMCE to load preview\tPython Requests / urllib2 Post Login Order\tNoSuchElementException\tSVG progress circle with percentage\tHow do you configure a WCF service with two endpoints to use a different ListenUri for each endpoint?\tAlternative to change listener for detecting change in a variable's value\tEntering a text in a dialog form\tBottom-up UITableView with different item height scroll to end\tGNU Linker doesn't find a local shared library\tadjusting width of a main div after hide/show of another div\tdetecting if a request is a post in jQuery\tDetect whether iPad supports sim card programatically\tRequired fields with OmniFaces 1.6.1\thow to clear text field?\tFactorize a prefixed parameter with Express\tJavascript: Call a method inside another method\tCrystal Reports Cutting Off Text in PDF\tImage Capture with OpenCV - Select Timeout Error\tlinking against clang/llvm 3.0 libraries\tProject stops building when adding a new test target\tHow to delete a table in Lua?\toptimum OS,server, etc setup for rails production environment\tAngularJS | How to Send the Data of Json to database in Codeigniter\tSolving mixed linear and differential systems of equations with R\tTW7ToolButton - add dropdown menu\tHow do I make handlers automatically .decode('utf-8') on all routed parameters?\tProblems with conditional validation in ActiveRecord\tHow to Interact between my python script and my Django view (import, request)?\tIs it possible to merge two C# attributes into one?\tCan I get MOXy to not output an attribute when generating json?\tGetting mp3 file length\tHow do I animate adding subviews?\tEquivalent to PHP's include in C#\tViewExpiredException in Firefox and IE after migrating to Jboss 7.0 AS\tDisplay custom label for User in rails_admin paper_trail history\tobjective c how to get placemarks of given coordinates\tangular link scope variable undefined into template\tcakephp force index at model\tCan Maven 'import' resource dependencies?\tDjango using i18n in URL patterns\tCannot find existing package\tC# Windows Service - Default Arguments on Install\tResolve Uncaught SyntaxError: Unexpected token >\tvirtualenv not working and can not be uninstalled\tHow can I use INetwork in Xamarin Forms XLabs?\tSubtract Overlaps Between Two Ranges Without Sets\tTrack php emails with php script?\tHow can I download the examples from twitter bootstrap website\tRails Locked Screen effect Javascript\tiOS 7 static table view selection style bug\tTkinter MessageBox Align\tWhat is the difference between removeProp and removeAttr in JQuery 1.6?\tWhy there is no IDateTimeProvider in .NET and DateTime has Now getter?\tRemove first character from string Django template\tIs there a way to use weights with both layout width and height\tRound brackets not showing up correctly in RightToLeft flow direction in WPF\tGetting compile error while using format-date() method in XSLT\tFlex: NetStatusEvent not fired by Local Shared Object. Why?\tHover map area sprite with jquery\thow use tests written in Selenium and Cucumber-JVM with JMeter?\tThe use of backbone, and how to achieve two-way binding between the view and model ？\tdata from mutiple mysql tables to hadoop map-reduce\tWhere should caching occur in an ASP.NET MVC application?\tHow do I make a live text feed for announcements in my app?\tWhen should I use git stash?\tGetting Started With stylus-loader for Webpack\tPython type of `def`\tViewModel base model is null on create action postback with MVC3\tCompute size N that can be solved in certain amount of time\tParse error: syntax error, unexpected '>' (have tried other answers)\tUser settings keep resetting to default after each deployment\tWhy does `setup.py develop` not work?\tBigger image for first item of the gridview android\tCopy ec2 files to local\thow can I run play framework with port=9001 under windows cmd not under play console?\tHow to use Visual Studio C++ Compiler?\tStoring session cookie in android.webkit.CookieManager\tDynamically calling a static method\tJSON Data not being displayed in Angular 2 component\tNo activity found to handle intent{act=com.google.zxing.client.android.ENCODE (has extras) } in zxing library?\tReport Access Issue in SSRS 2005\tcursor movement through eye\tHow to integrate Spring into Cucumber\tHow to break a for loop and convert integers?\tMule session variables between async flows\tundefined reference when building C++ project using SFML\tnamespace being shadowed\tAndroid development : ddms from command line not seeing devices\tPushing to Github from RStudio\tSubview Gesture Recognizer not being called\tMy ear is not able to find ejb module classes\tHow to implement class that has property as property in C#?\tIs it possible to override the assignment ('=') operator in Python?\tCrop interface ( UI )\tHow do I make it so that only letters and spaces can be entered into a textbox in VB?\tHow to Bold Headline With .select2?\tCan't simulate backspace button on some applications with event tap\tI killed single thread by using following code. How to kill array of threads using this code?\tflash javascript don't work (Second try)\tUsage of vertical field manager with eyelid field manager in blackberry\tNotifying user-mode as soon as a packet arrives\tUITextField open emoji keyboard when becomeFirstResponder\tHow to run in vim plantuml on MacOsX?\tCan't include TinyXML in C++/CLI project\tFirebase authentication Iframe\tJavascript \"infinite\" scrolling for finite content?\tHow to replace letters on a textbox using vb.net\tMaking image available via url on tomcat\tHidden Pagination summary text\tAppBar button stlye\tCheck if document exists in mongodb using es7 async/await\tCalculate Precision and Recall\tGet parameter from curl command in REST web serivce\tElisp, alist and strings; type confusion\tHow to share only an image via Linkedin API\tClassify elements from a list to another classification with average\tWorking with different IEEE floating-point rounding modes in C++\tBinary Tree type constructor in Haskell\tRegular expression for csv with commas and no quotes\thelp with bash script\tAdMob in Samsung MultiWindow mode resize issue\tsending email using \"bcc\" without \"to\" in java application\tCreating a function that deletes a certain character from a string. What is wrong with my program?\tHighlighting matches in Vim over an inverted pattern\tTrying to change an image on click and back again\tSpring-Security OAuth WebMVC Invalid CORS request\tRunning PBC in Windows - Visual Studio\tStream a PDF to a web page failing\tHow to add Perspective Bar Switcher to pure eclipse 4 rcp application\tVBS - Weird Japanese characters conversion\twhy did unmodeled property fire the fault?\tCodeigniter session security\tGrafana: How to have the duration for a selected period\tdependencies between compiled modules in python\tSelect data from SQLite into ListArrays\tNeed to convert columns to rows in R\tCan't get Tablesorter Checkbox Filtering to work\tUnhandled Error with CreateProcess\tBeginning and end of the string in Emacs regexps\tuse id attribute as reference or variable for tooltip\tWhy does barrier synchronize shared memory when memoryBarrier doesn't?\tAmazon API Gateway : response body is not transformed when the API is called via Postman?\tWheres my posts object?\tSHA1 error when using brew install\tC - Increment a number within a char\twhy showing .GIF image increase memory continuously?\tAsp.Net core dbcontext issue\tremove tags inside hyperlink using jquery\tHow to use IN clause in Spring data Cassandra\tHow do I select multiple tables in LINQ?\tNode.js: How to send control C to child process\tHow to capture changes inside methods in an Eclipse plugin\tField 'x' doesn't have a default value\tHibernate DAO method parameters\tAdobe air native extension with android external jars (aapt tool failed:ERROR)\tRun Dijkstra's Algorithm on a List<Point> in C#\tConvert string to Font\tHandlebars doesn't render boolean variables when false\tSwift Server Implementation\tMYSQL Database Structure for 2-round Events\tcakephp 2.0.5 Sqlserver requires a database connection\tCan i request SQL Server to cache a certain result set?\tPassing a variable into a jquery load() function syntax\tC++ homework. Arrange names in payroll in order. Using arrays\thow to update text on image created by canvas after interval of time\tNode Express: how to only send custom error messages back to client\tOutput cache expire causes sudden increase in WebApi requests (MVC5/webapi2)\tHow to write this math equation into c++\tsqlite3_open_v2 flags in delphi\tmissing extension method on constrained generic function\tCenter align entire webpage\tAsynchronous Mysql connector\tThe pipe has been ended when call from web service\tUpload to App Store Failed: No Version Found for 'adamId - platform'\tLazy vs Eager loading with JPA\tCan I add a new item based on another database row in SQLAlchemy?\trails 5.0.1 already initialized\tHow To Make Pieces Of Pizza Buttons Clickable?\tC# configSections \"Sections must only appear once per config file.\"\tDisplay images instead of radio buttons without using JQuery\tAndroid trouble finding memory leak\tUsing ViewFlipper with onclick to switch views.\tStatic bound checking for array in C++\tChanging Source url of a XYZ layer and redrawing the layer/map?\tAlternatives to PHP header function\tGeneric from other assembly\tGoogle's Function Plotter\tPython reading until null character from Telnet\t\"Raw\" string in Haskell for Regular Expression\tContainer of pointers\tFailed to write core dump. Minidumps are not enabled by default on client versions of Windows in IntelliJ\tget width of dynamically created custom uicomponent\tWhich editor can align tables in reStructuredText for Sphinx?\tPHP DOMDocument : How to parse xml/rss Tags with CUSTOM field names?\tIs it possible to create database role on Heroku Postgresql?\tHTML email issues in yahoo mail\tBluebird.Promisify - How to create a chain of promises correct?\tThe type 'Module1.MyEntity' and the type 'Module2.MyEntity' both have the same simple name of 'MyEntity' and so cannot be used in the same model\tSpring @CacheEvict one key evicting\tAlternative for Facebook chat API (followup)\tHow to start an invisible process in vb.net?\tSupport for annotation inheritance in Jersey\tRemove :hover color from text without setting the color\tDjango Celery Received unregistered task of type 'appname.tasks.add'\tCan we use the detection idiom to check if a class has a member function with a specific signature?\tas3 Main-Timline calling a function from a class loaded from Child.swf\tdifference between ensemble and quorum in zookeeper\tC chat program get an error Segmentation fault (core dumped)\t24 hours of values\tSilverlight - Show BusyIndicator on busy UI Thread\tParsing inside a directory problem Python 2.7 vs. 3.2\tjQuery script not working inside iframe\tCopy and append files to a remote machine: cat error\tIs it possible to specify the time zone on Windows Azure?\tMySQL: Group by only connected rows\tLoad Balancing with Tomcat\tOracle:Check datatype of a variable\tComputed column should result to string\tEntity framework error when binding entities to multiple database contexts\tNo setter method for assignment to property swift 3 with objective-c\tI cannot install python threading library on my Windows 7\tiostream library not included in codeblocks\tUIView Animation freez\tRead input from redirected stdin with python\tHow to show selected record of Custom list view on Toast\tUITableView with UITextField - keep the data even after user scrolls\tBehavior of SELECT query using executeUpdate\tSharepoint 2010: custom ribbon buttons appearing inconsistently\tHow to do mathematical calculation in java based on user input string?\tStrange issue while posting image from iPhone\tExpand in place animation in CAShapeLayer\tBetter Html Builder in java\tBest way to close Access Jet OledbConnection\td3.js create stacked bar chart from values in object\tHow can I specify run.bat options when running JBoss as a service?\tIn UIGrid how to update uiGridViewport template?\tHow to save image as varbinay in sql server 2008r2?\tService Bus 1.1 not showing in Web Platform Installer 5.0 on Win 10 Home\tasp.net mvc int property bind exception\tAnjuta configuration for GNOME Javascript application development\tExecuting a script remotely through ssh using expect\tStream android screen\tCakePHP Pagination of associated HABTM model in Model View Controller\tJava SE Development Kit 8u20 Install Options\tOverwriting in a random access file\tLoadfactor and Capacity of hashmap\tRecursive FTP directory listing in shell/bash with a single session (using cURL or ftp)\tRuby HTTP POST - Errors\t301 Redirect vs. Rel=Canonical\tIE8 knockout error - Unable to process binding\tReplace random image on website\tsometimes I get \"this file contains potentially unsafe dynamic content\" message in Mathematica notebook\tSWT CoolBar ToolBar right position\tJavascript to hide buttons in a Sharepoint Document List\tcontent out of div\tAppend or Add the decimal point functionality in calculator\tCannot covert to JSON value the result of Element.getBoundingClientRect()\tCompiler generated sealed class for delegate keyword contains virtual methods\tIssues with writing to a txt file after transmitting a small textfile using a C# TcpClient\tNeed ASP.NET CMS like MODx PHP one\tData Driven Test on Visual Studio using a complex serialized object\tAlter regex markup to not separate float numbers (like 2.0)\tSinatra enable :sessions not working on passenger/apache\tEnterprise Architect - Execute SQL Issue\tPHP & MySQL Error - An error occurred on line 176: Object of class mysqli_result could not be converted to string\tReducing space usage of depth first tree traversal\tException causing windows service to crash on ending distributed transaction with NHibernate\tImage upload through Django admin panel not working\tJson.NET XML conversion and TypeNameHandling.Arrays\tUse more \"natural\" form to manipulate piecewise step functions in Matlab MuPAD?\tZend 2 - DB - Escape value without quoting it\tMeasuring the response time between tasks\tReading php code from database\tAndroid OutOfMemoryError with XML\tDraw image after content in PDF file\tCan you get a chainable query method with all records?\tDoes SQL Server Compact (CE) support a RequiresNew transaction scope inside another one?\tHow to use boost::program_options to accept an optional flag?\tHow to give external link to bootstrap tabs\tVaadin JavaScript unload event listener not firing\tCustom query in Cakephp and show in table\tLocal and Global variables in Swift\tIs there a way to store python objects directly in mongoDB without serializing them\tyii making user auto logged in on signup end (auto authentication after signup)\tDisplaying local time to a user when all you have is an offset (from GMT)\tHow to force download a file in PHP with multi-parallel download?\tHow to get a full description of an activity in cleartool?\tblazesds consuming huge memory\tHow to set progress of seekbar in listview with value mentioned in the database?\tsvg stroke-dashoffset animation not working in safari or firefox\tEF6: Have to include in startup project?\tHow do I call a code-behind method after external JavaScript validates a form?\tUsing Google Fonts in Google Apps Scripts\tAngularJS/PouchDB app stops syncing to CouchDB when cache.manifest added\tHow to access google maps api in Java Application?\tHow to update controls[DataGrid,TextBoxes and Label] based on a row selection made in DataGrid that resideds in a updatePanel?\tTrigger a nodeJS socket.io server to broadcast via port 80\tUsing foldr with scheme\tIs there a way to use a different image for each side of a CSS3 border-image?\tInserting a character into the middle of a string\tXLST in a UIWebView using iOS SDK 4.2\tMultiple configuration Symfony2\tCheck if a button has been slid over, and check its tag? (iOS)\tMaven GAE Failed to execute goal com.google.appengine:appengine-maven-plugin:1.9.12:devserver [...] NoSuchElementException\tIs possible to read independently every stdout flushed string form a Child Process in node.js\tC# - How to indicate when purposely ignoring a return value\tBrowser Compatibility testing\tDES encryption using native java classes\tVB6 Project references\t.Net core controller does not work with dependency injection\tMultiple threads waiting on one event?\thow to prevent of duplicating records in mysql insertion queries?\tHow to prevent recalling the same jQuery function from AJAX response and make the jQuery functionality workable?\tHow does the default GLSL shaders look like? for version 330\tIs it possible to copy / paste References from one project to another in Visual Studio?\tWhat is the equivalent of a C# Static instance in C++?\tHow do i echo specific rows and columns from csv's in a variable?\tUIButton in Swift 2.2. How to add different target?\tWhy is the application reading the incorrect integers from a file?\tgcloud docker push no space left error\tCarrierWave save image to gridfs and upload in background s3\tRuby - Delete the last character in a file?\tFind index of a given string in an array\tExplode Spark Dataframe column containing JSON\timporting java libarary\tIIS site not using identity specified in app pool IIS 7 +\tMultiple Sybase dlls are loaded when using entity framework\tDebugging Delphi Firemonkey Indy TCP Server\tshowing DIV on Hover - overflow auto\tManipulate the java class path of an Eclipse plugin?\tbest way to call two database servers\tGetting path to users Library folder in OS X\tJavaFX application using concurrency with javafx.concurrent.Task not working properly as jar\tDoes ASP.NET MVC Handle *#%\":?<> Characters In The URL?\tHow do I use DMProcessConfigXML to provision my Windows Mobile device?\tCommunity server Username issue - User Username not found in membership store does not exist\tMongoid and has_secure_password\tHow to Make my Label as the Hyperlink in Sencha EXT JS\tAttaching file in SoapUI with groovy\tCalculating total time duration in MySQL\tHow can I filter STDIN by globbing in bash?\tHow to perform an action only after data are downloaded from Firebase\tException starting filter ApplicationInsightsWebFilter\tLooping of rules Jquery\tDatabase foreign key constraint doesn't work?\tPower Point viewer asp.net mvc\tUse Richfaces with MyFaces\tHow to fix 404 not found error in jersey api\tHow process two forms in 1 PHP file?\tAngular + Firebase + AngularFire Seed Directive ShowAdmin\tHow to send a data from arduino uno to a webpage through esp8266 wifi module?\tplotGoogleMaps R package on CMS\tdifference between Html.BeginForm() and ajax.beginform()\tHow do I refer to a list I have given an ID attribute of android:id/list in Java?\tAzure Cloud service cannot set vmsize to nothing other than: ExtraSmall, Small, Medium\tGoogle Scripts Concatenating rather than adding\tChoose Gradle JDK in IntelliJ\tCaching a Drupal site with session-specific data on every page\tText centered inside the image\tIE fade causing white spots on images\tTwitter Bootstrap: icons in button dropdown\tJ2ME voice capture for VOIP\tVim plugin for better XML/HTML navigation?\tChecking each argument in a method?\tRead all files in a directory from inside Google App Engine app\tVery large sqlite database copy\tjQuery toggle() with dynamic div ID's\tXSD : Large schema validation\tC++ - How to reset the output stream manipulator flags\tusing express-device with sails\tHow to draw a circle using gl.POINTS in webgl?\tCompare strings in two different workbooks\tTypeError: can't multiply sequence by non-int of type 'float' : prblem with NumPy arrays\tHow to move a set of buttons in Qt?\tHow to load templates in complex AngularJS application\tDocusign Modify Existing Tabs Request - Unable to Modify Existing Radio Tab\tOrder of events firing off in asp.net Gridview control\tLoading unfinished data to data warehouse\tWhat throw statement throws if i do not tell what type of object is to be thrown in c++?\tAccessing Win7 file attributes in R\tHow to detect latin1 and UTF-8?\tJboss eap 6+ and maven repository run time reference location\tOne handed draggable clock with Raphael - cannot get mouse click position\tExtJS 4 Arrow Navigation for Tab Panel\tUITableViewCell: How do I update textLabel.text at fifth row?\tEssential techniques for pinpointing missing requirements?\tUsing RestSharp in Windows Phone 7\tMongodb: db.collection.copyTo() and eval() have been deprecated. What's the alternatives?\tClosing multiple new form [VB.NET]\tDynamic languages - which one should I choose?\tIssue with customizing user administration in liferay portal\tFetchFailedException or MetadataFetchFailedException when processing big data set\tHow to integrate CKEditor in GWT\tperforming function with classes of similar type C++\tAdding a additional context menu to windows 10 phone\tNSJSONSerialization and Emoji\tToolTip Memory leak in WPF while binding a View to ViewModel\tget the times of users login and logout in local network\tWhat does \"the following packages will be superseded by a higher priority channel\" mean?\tRegular expression parsed with grepl replacement\tWhy aren't bound DataGridView cells being updated?\tupload image in codeigniter (ERROR)\tLanguage detection API/Library\tClosing gtk application when SWF ends (NPAPI)\tInitialize class depending on config value\tHow to expose audio from Docker container to a Mac?\tImplicit Conversion Operator Overloading syntax\tRead multiple time a Reader\tListen document event in angular controller\tthe behavior of std::async with std::launch::async policy\tUsing php to send form to my email..Having an issue with 405 Not Allowed when form is submitted\tIE9 does not execute Ajax Request\tHow to gitignore everything except hidden subdir?\tSpring MVC multiple rows form submit submits new ModelAttribute\tsend requests with js to php\timport.io curl simple data integration\tHow to disable and enable menu options on Android?\tForeach changes not being preserved on Linq item collection\tJavascript calculate values based on checked options\tRemote Login not Working With Curl\tHow can I sum-up the results of a for-each loop in XSL?\tDAV SVN config for server hosting multiple domains\tHow to approach this exercise? (C)\tEnumeration of all possible two-member group constellations\temacs: Automatically open corresponding file in another instance\tNode.JS scrape encoding?\tAsynchronous sequence of events using promises\tWhat does font size really mean in ios?\tPaste vs PasteSpecial\tUsing back button after onClick method in one activity\tQt/QML on Android - onReadingChanged\terror in Dao class when using generics\tHow to encode cyrillic characters for URL and then decode them?\tNSAlert for right to left languages (reversed layout)\tSidekiq jobs stuck in enqueue\tCreate dynamic Fragments with Views in ViewPager\tWhy I am getting a GET request on the django side while sending a POST request with superagent\tRails 3 - Ajax POSTS from a link click\tSession is null on first request\tWhat is the best Emacs workspaces plugin?\tEmberJS multiple inverses of the same model type\tHow to use GRANT with variables?\tServiceStack CRUD Service routing Documentation\tDoes not contain a definition for 'CreateObjectSet' and no extension method 'CreateObjectSet'\tSpring-data-neo4j v4, why no index\tWhat is the disadvantage of DWR?\tjQuery document ready conflicting with window onload?\tCreate a task scheduler task\tAdd two factor authentication to my web application\tWhy does Clearcase diffbl include activities from my development stream when I diff integration stream baselines?\tImages getting cut off in Outlook 2007/2010\tLogin Screen using httpurlconnection android\tForce full calculation of entire workbook in Coldfusion / Apache POI\tCreate a PDF in Swift with long text\tChoosing and iterating specific sub-arrays in multidimensional arrays in Python\tRefresh issue with XMLHTTP\tWordpress header fixed jumps on scroll\tHow get total amount in MS Access SQL?\tWhy does f32 not implement std::fmt::Binary?\tCollectionview single selection\tHow do I enlarge a graph a Masterpane using Zedgraph?\tAndroid Swipe Fragment on click\tPossible to perform a bitwise operation on a 1000 bit number in SQL Server?\tVS2015 typescript build error in .net core\tUsing expect script to do an ssh from a remote machine\tHow do you get a flat listing of all files in IsolatedStorage?\tHow to join different monads?\tSpring IllegalStateExceptions when upgrading to Java 8\tHow To Draw More Precise Lines using Core Graphics and CALayer\tjQuery add class on scroll relative to element\tDisable IE pop up blocker through Options class or DesiredCapabilities\tI been asked to write a program that prompts the user for a measurement in meters and then converts it in to miles, feet and inches\tWordpress response '0' from server\tAny tutorials for Jython on Play Framework\tUnit test for Component within component Angular 4\tHow do I set up the ODBC connection in R?\thow to get the list of users accessing to particular tables or views\tHow to build Webkit for Android?\tImporting MYSQL table via PHPMyAdmin: DECIMAL type is rounding values\tTrying to plot multivariate Gaussian dist. in a 3D plot matplotlib returns an empty figure\ta Custom Segue that Simulates a Push Segue turns VC into Zombie\tJavascript returns string for OR(||) operation\tpython connect 4 board output error\thow to populate a dropdownlist based on another dropdownlist selected value in mvc 4?\tDoes jQuery indirectly cause issues with checkboxes?\tJQuery mobile: login link goes to last cached page\tResized NSImageView not redrawing\tggplot2 add two plots in grid.arrange with an inset in the second one in R\tC# Xml Parsing from StringBuilder\tRuby shorthand for \"use this if it isn't blank, otherwise use that\"\tMemory issues with two dimensional array\tIs it possible to turn on field debug drawing for SpriteKit in Xcode?\tGoogle Apps Script: Save Sheet as PDF\tHow to get highest value text while field in same class, id and name?\trelations variable of content-type drupal 7\tcamera overlay picture\tInsert byte slice into sqlite blob\tSkobbler Annotation disappears from map when zooming out on Android\tSSIS - How to execute next Task after For Loop\tMVC executing view code before layout code and ruining my script order\tSQL request type\tDropdown list where options populate a second list js/php?\tKnockout Mapping re-rendering everything\tDataGridViewTextBoxColumn and DataGridViewComboBoxColumn events handling\tIncorrect decrement of the reference count of an object that is not owned at this point by the caller\tDisposing needed in Unity?\tBootstrap Datepicker with Asp.Net Textbox\tPrevent Google Cardboard Pairing / Startup Screen on iOS\tAutomatically refreshes background of app with a new color in andorid\tHow to programmatically zoom-in the feed from the camera?\tHow to make ChildWindow blocking\tHow to make a visual studio add-in that cannot be unloaded?\tget table name from query\tParent div not inheriting the height of its child element automatically\tpandas shift time series with missing values\tWindows Embedded 8 Handheld (WE8H) Supported Devices\tHow to get compute unit ID at rutime in OpenCL?\tjQuery Dialog - same dialog from different links\tDirectX11 Load Gif texture\tHow to check whether a folder having sub folder in android?\tGet Alfresco NodeRef by path\tAssociating git commits with Team Foundation work items\tMySQL table index optimization\tAndroid OS shuts down the Wakelock + AlarmManager after a few minutes\tError while using C++-DLL with vbs\tSwitching Color of a Progressbar programmatically\tHow do you add a css class (Bootstrap) to a select field with a loop inside in Rails?\tRequestDispatcher forward from one doPost will always go to another doPost only?\tCentering text vertically within a textarea\tTypeInitializationException when running Stanford.NLP.CoreNLP example\tJSF: How to redirect a user to a another page according to the value of a specific FacesContext session attribute\tNot able to execute java program which executes Neo4j query in Command Line\tsave changes of DataGridView to database\tSKStoreProductViewController not showing anything\tHow to distribute C# application with installer (installshield)\tBootstrap 3 - 3 Column layout into 2 column layout\tRunning AMP (apache mysql php) on Android\tHow to send \"\\\" to a browser?\tPHP upload file to web server from form. error message\tPHP 7.1 void return types understanding\tChanging the value of a property of another UIViewController\tFileNotFoundException in Windows 10 Universal App (UAP)\tMySQL: Better few tables with millions of rows or thousands of tables with hundrets of rows\tSpring bean configuration to use singleton or prototype?\tHide Shopping Cart on Top Menu When it is empty\tDataReader associated with this Command which must be closed first\thow do i insert a stack panel into a grid?\tMysqli insert statement\tWhy must callbacks in jQuery be anonomous?\tSimple While True loop and if statements fail to NOT trigger\tFragment to activity and go back to the fragment\tHow to get verbose messages of gradle sync?\tImport data to a database with the same structure as other database\taccess master page from ascx control\tGet all possible binary trees using Prolog?\tHow to play sound in a docker container\tGoogle Maps API KML Placemarks not mapping to correct coordinates\tHow to share code between ruby refinements?\tSelecting all CheckBoxes in ListBox not displayed properly\tIs there a std::includes equivalent for unsorted ranges?\tBreeze.Net Connecting to Entity Framework\n"
          ]
        }
      ],
      "source": [
        "for i in range(5):\n",
        "     print(i + 1, len(validation_data[i]), validation_data[i])"
      ]
    },
    {
      "cell_type": "code",
      "execution_count": null,
      "metadata": {
        "id": "Z3q9sxddz-yU"
      },
      "outputs": [],
      "source": [
        "from tqdm.notebook import tqdm"
      ]
    },
    {
      "cell_type": "code",
      "execution_count": null,
      "metadata": {
        "id": "nu7K4mis6j32",
        "colab": {
          "base_uri": "https://localhost:8080/",
          "height": 49,
          "referenced_widgets": [
            "72ab6f18e0e6471abeebd8f96e639f26",
            "49970a2cc98c48299939ddb803a0dbdb",
            "f918a4584cc341c8a04e2aa2f9c2291f",
            "6f7269609ac74d9e98f4520617821dcd",
            "b6baba0478c345bfbb7174153f3108c7",
            "caf6e85374e94759813f382f80c7578f",
            "bb84ac0ca68b4f6d91b48efe17a69192",
            "b7051f767d804196b85a9dcbc4bdba8d",
            "bd657397c30646bbb2ba309711f437b2",
            "457be5f753cc43ed96ec295e5d6afe78",
            "020231d757a6487094bf93f28ae58a6c"
          ]
        },
        "outputId": "a0dcc3c4-5de4-41df-bab0-7e185820052f"
      },
      "outputs": [
        {
          "output_type": "display_data",
          "data": {
            "text/plain": [
              "  0%|          | 0/3760 [00:00<?, ?it/s]"
            ],
            "application/vnd.jupyter.widget-view+json": {
              "version_major": 2,
              "version_minor": 0,
              "model_id": "72ab6f18e0e6471abeebd8f96e639f26"
            }
          },
          "metadata": {}
        }
      ],
      "source": [
        "wv_ranking = []\n",
        "max_validation_examples = 3760\n",
        "for i, line in enumerate(tqdm(validation_data)):\n",
        "    if i == max_validation_examples:\n",
        "        break\n",
        "    q, *ex = line.split('\\t')\n",
        "    ranks = rank_candidates(q, ex, wv_embeddings, tokenizer)\n",
        "    wv_ranking.append([r[0] for r in ranks].index(0) + 1)"
      ]
    },
    {
      "cell_type": "code",
      "execution_count": null,
      "metadata": {
        "id": "gDtS520v6j35",
        "scrolled": true,
        "colab": {
          "base_uri": "https://localhost:8080/",
          "height": 153,
          "referenced_widgets": [
            "42fb257e5b6b4962bd3eb71969dbce10",
            "ccb5dbc7ebac4b118d6fdfe457d35d2c",
            "b766b7e9667f447188ce1da8bad43e26",
            "769fc02c826d4c75865592fd92a69865",
            "ccfd1fe4800a4ef78db69223115389fb",
            "4b86c38eaffe4ef3854fc1ff376a3de4",
            "e6d269ee2ada46a6995436672c78a1e1",
            "d35c87da2da54df3b66a2321a355808c",
            "21b2a9af747146a49d96f8736a2ee6bf",
            "5675147ae56b47c487dc81606cfaef71",
            "ec92a0a785ac4deb8144ca58c58b0ebe"
          ]
        },
        "outputId": "11453fae-36ae-4e36-be24-90f0e010adc8"
      },
      "outputs": [
        {
          "output_type": "display_data",
          "data": {
            "text/plain": [
              "  0%|          | 0/6 [00:00<?, ?it/s]"
            ],
            "application/vnd.jupyter.widget-view+json": {
              "version_major": 2,
              "version_minor": 0,
              "model_id": "42fb257e5b6b4962bd3eb71969dbce10"
            }
          },
          "metadata": {}
        },
        {
          "output_type": "stream",
          "name": "stdout",
          "text": [
            "DCG@   1: 0.288 | Hits@   1: 0.288\n",
            "DCG@   5: 0.348 | Hits@   5: 0.402\n",
            "DCG@  10: 0.368 | Hits@  10: 0.465\n",
            "DCG@ 100: 0.413 | Hits@ 100: 0.691\n",
            "DCG@ 500: 0.437 | Hits@ 500: 0.876\n",
            "DCG@1000: 0.450 | Hits@1000: 1.000\n"
          ]
        }
      ],
      "source": [
        "for k in tqdm([1, 5, 10, 100, 500, 1000]):\n",
        "    print(\"DCG@%4d: %.3f | Hits@%4d: %.3f\" % (k, dcg_score(wv_ranking, k), k, hits_count(wv_ranking, k)))"
      ]
    },
    {
      "cell_type": "markdown",
      "source": [
        "Выводы: чем выше К, тем лучше метрики (это логично, так как при большем К будет больше значений для включения правельного ответа, то же самое и с качеством ответов, если взять больше вопросов, то и вероятность того, что нам попадется нужный - выше)"
      ],
      "metadata": {
        "id": "dUOGJmJkpFma"
      }
    },
    {
      "cell_type": "markdown",
      "metadata": {
        "id": "LL6_Rjg3InL8"
      },
      "source": [
        "### Эмбеддинги, обученные на корпусе похожих вопросов"
      ]
    },
    {
      "cell_type": "code",
      "execution_count": null,
      "metadata": {
        "id": "iNvbpR5gJIPz"
      },
      "outputs": [],
      "source": [
        "train_data = read_corpus('./data/train.tsv')"
      ]
    },
    {
      "cell_type": "markdown",
      "metadata": {
        "id": "Nr281ZyEJfjT"
      },
      "source": [
        "Улучшите качество модели.<br>Склеим вопросы в пары и обучим на них модель Word2Vec из gensim. Выберите размер window. Объясните свой выбор."
      ]
    },
    {
      "cell_type": "code",
      "execution_count": null,
      "metadata": {
        "id": "f6Y46SSQMTL0"
      },
      "outputs": [],
      "source": [
        "words = [question.split('\\t') for question in train_data]"
      ]
    },
    {
      "cell_type": "code",
      "execution_count": null,
      "metadata": {
        "id": "QuJzAM0cI-UH"
      },
      "outputs": [],
      "source": [
        "from gensim.models import Word2Vec\n",
        "embeddings_trained = Word2Vec(words,            # data for model to train on\n",
        "                              vector_size=200,  # embedding vector size\n",
        "                              min_count=5,      # consider words that occured at least 5 times\n",
        "                              window=5).wv      # оптимальное значение окна - это 5 слов (обычно оно берется в значении от 2 до 10)"
      ]
    },
    {
      "cell_type": "code",
      "execution_count": null,
      "metadata": {
        "id": "OQonbm4nMenD",
        "colab": {
          "base_uri": "https://localhost:8080/",
          "height": 49,
          "referenced_widgets": [
            "8297b0ceebd043c092533c11f3194b9b",
            "edc488b30a7c43fea586a20b811b4b44",
            "3395d084942c4946a81a9ebe3251b083",
            "4981ea81bc74461bb06ac0d120eed40d",
            "63fa7e146bcd4f66b25dbc972eb53399",
            "60eb19b6536b497686096ad0d0a1d40b",
            "0224ffe98f854411adec38d50a074203",
            "06ad86c0bded47548e816eedf17117f6",
            "4457c955da164335889d22213963c5ea",
            "e01e172b983d4856bbe1bf51e3839bc0",
            "cfee2241904345a1a2b540d0f95b08c5"
          ]
        },
        "outputId": "3a86a060-6fcd-4819-833b-ece1e0fc1263"
      },
      "outputs": [
        {
          "output_type": "display_data",
          "data": {
            "text/plain": [
              "  0%|          | 0/3760 [00:00<?, ?it/s]"
            ],
            "application/vnd.jupyter.widget-view+json": {
              "version_major": 2,
              "version_minor": 0,
              "model_id": "8297b0ceebd043c092533c11f3194b9b"
            }
          },
          "metadata": {}
        }
      ],
      "source": [
        "wv_ranking = []\n",
        "max_validation_examples = 3760\n",
        "for i, line in enumerate(tqdm(validation_data)):\n",
        "    if i == max_validation_examples:\n",
        "        break\n",
        "    q, *ex = line.split('\\t')\n",
        "    ranks = rank_candidates(q, ex, embeddings_trained, tokenizer)\n",
        "    wv_ranking.append([r[0] for r in ranks].index(0) + 1)"
      ]
    },
    {
      "cell_type": "code",
      "execution_count": null,
      "metadata": {
        "id": "3kahBUPGMgGR",
        "colab": {
          "base_uri": "https://localhost:8080/",
          "height": 158,
          "referenced_widgets": [
            "20b231da8a22468699ad4525c14de5b3",
            "61cb5ff98d8a4638a938002a405c25f5",
            "5c5a175be9a4480f840056edbed53ebf",
            "8a3e34edcda9445b84698cc5b12f0c8f",
            "6c384a8b5bc5463e917631d5a1b7b18c",
            "b786f06c6ff543af884022b1649badd8",
            "96836d6fb7a34e8ea3b3bc200d76ae21",
            "e9d9b9af213d4184bb24800726199bcf",
            "e54348f824e64e3a995e596c24b0e474",
            "6c56c66322364348a259cf80625a8580",
            "c47703d3b5b447c581ae18eeb5690119"
          ]
        },
        "outputId": "a6517603-549e-41f3-c285-26ea878c4c22"
      },
      "outputs": [
        {
          "output_type": "display_data",
          "data": {
            "text/plain": [
              "  0%|          | 0/6 [00:00<?, ?it/s]"
            ],
            "application/vnd.jupyter.widget-view+json": {
              "version_major": 2,
              "version_minor": 0,
              "model_id": "20b231da8a22468699ad4525c14de5b3"
            }
          },
          "metadata": {}
        },
        {
          "output_type": "stream",
          "name": "stdout",
          "text": [
            "DCG@   1: 1.000 | Hits@   1: 1.000\n",
            "DCG@   5: 1.000 | Hits@   5: 1.000\n",
            "DCG@  10: 1.000 | Hits@  10: 1.000\n",
            "DCG@ 100: 1.000 | Hits@ 100: 1.000\n",
            "DCG@ 500: 1.000 | Hits@ 500: 1.000\n",
            "DCG@1000: 1.000 | Hits@1000: 1.000\n"
          ]
        }
      ],
      "source": [
        "for k in tqdm([1, 5, 10, 100, 500, 1000]):\n",
        "    print(\"DCG@%4d: %.3f | Hits@%4d: %.3f\" % (k, dcg_score(wv_ranking, k), k, hits_count(wv_ranking, k)))"
      ]
    },
    {
      "cell_type": "markdown",
      "metadata": {
        "id": "tY8PxB0j-ThG"
      },
      "source": [
        "### Замечание:\n",
        "Решить эту задачу с помощью обучения полноценной нейронной сети будет вам предложено, как часть задания в одной из домашних работ по теме \"Диалоговые системы\"."
      ]
    },
    {
      "cell_type": "markdown",
      "metadata": {
        "id": "vymVj8IxO2PO"
      },
      "source": [
        "Напишите свой вывод о полученных результатах.\n",
        "* Какой принцип токенизации даёт качество лучше и почему?\n",
        "* Помогает ли нормализация слов?\n",
        "* Какие эмбеддинги лучше справляются с задачей и почему?\n",
        "* Почему получилось плохое качество решения задачи?\n",
        "* Предложите свой подход к решению задачи.\n",
        "\n",
        "## Вывод:\n"
      ]
    },
    {
      "cell_type": "markdown",
      "source": [
        "\n",
        "\n",
        "*   N-grams, так как суть заключается в кодировке словосочетаний, следовательно сохраняется контекст, следовательно и возможностей для правильного ответа больше, например, можно создать хороший эмбеддинг, а потом с помощью n_gramms обучить модель со словосочетаниями-синонимами (достаточно найти максимальное косинусное расстояние) и получится пушка-бомба\n",
        "*   Когда как, с одной стороны, она сокращает размерность пространства слов, устранив различные формы одного и того же слова, с другой, мы теряем информацию, особенно если различные формы слов имеют разные значения или контексты.\n",
        "*   Второй. Причина, мы созлали его на уже заданной тематике, если же рассматривать предобученные, то они не будут так хорошо работать с нашими данными, но будут себя показывать гораздо лучше в общих задачах\n",
        "*   Во втором случае качество 1, в первом, так как загруженные эмбеддинги созданы для определения общих случаев, а не отдельных тематик.\n",
        "*   Задействовать более сложные алгоритмы для нахождения зависимостей между словами, использовать предобученные модели для поиска схожести предложений и т. д.\n",
        "\n",
        "\n",
        "\n"
      ],
      "metadata": {
        "id": "XVtYpU-z0WtJ"
      }
    }
  ],
  "metadata": {
    "colab": {
      "collapsed_sections": [
        "0sUSxk866j1_",
        "tHZqgDTo6j0i"
      ],
      "provenance": [],
      "gpuType": "T4"
    },
    "kernelspec": {
      "display_name": "Python 3",
      "name": "python3"
    },
    "language_info": {
      "codemirror_mode": {
        "name": "ipython",
        "version": 3
      },
      "file_extension": ".py",
      "mimetype": "text/x-python",
      "name": "python",
      "nbconvert_exporter": "python",
      "pygments_lexer": "ipython3",
      "version": "3.7.2"
    },
    "widgets": {
      "application/vnd.jupyter.widget-state+json": {
        "72ab6f18e0e6471abeebd8f96e639f26": {
          "model_module": "@jupyter-widgets/controls",
          "model_name": "HBoxModel",
          "model_module_version": "1.5.0",
          "state": {
            "_dom_classes": [],
            "_model_module": "@jupyter-widgets/controls",
            "_model_module_version": "1.5.0",
            "_model_name": "HBoxModel",
            "_view_count": null,
            "_view_module": "@jupyter-widgets/controls",
            "_view_module_version": "1.5.0",
            "_view_name": "HBoxView",
            "box_style": "",
            "children": [
              "IPY_MODEL_49970a2cc98c48299939ddb803a0dbdb",
              "IPY_MODEL_f918a4584cc341c8a04e2aa2f9c2291f",
              "IPY_MODEL_6f7269609ac74d9e98f4520617821dcd"
            ],
            "layout": "IPY_MODEL_b6baba0478c345bfbb7174153f3108c7"
          }
        },
        "49970a2cc98c48299939ddb803a0dbdb": {
          "model_module": "@jupyter-widgets/controls",
          "model_name": "HTMLModel",
          "model_module_version": "1.5.0",
          "state": {
            "_dom_classes": [],
            "_model_module": "@jupyter-widgets/controls",
            "_model_module_version": "1.5.0",
            "_model_name": "HTMLModel",
            "_view_count": null,
            "_view_module": "@jupyter-widgets/controls",
            "_view_module_version": "1.5.0",
            "_view_name": "HTMLView",
            "description": "",
            "description_tooltip": null,
            "layout": "IPY_MODEL_caf6e85374e94759813f382f80c7578f",
            "placeholder": "​",
            "style": "IPY_MODEL_bb84ac0ca68b4f6d91b48efe17a69192",
            "value": "100%"
          }
        },
        "f918a4584cc341c8a04e2aa2f9c2291f": {
          "model_module": "@jupyter-widgets/controls",
          "model_name": "FloatProgressModel",
          "model_module_version": "1.5.0",
          "state": {
            "_dom_classes": [],
            "_model_module": "@jupyter-widgets/controls",
            "_model_module_version": "1.5.0",
            "_model_name": "FloatProgressModel",
            "_view_count": null,
            "_view_module": "@jupyter-widgets/controls",
            "_view_module_version": "1.5.0",
            "_view_name": "ProgressView",
            "bar_style": "success",
            "description": "",
            "description_tooltip": null,
            "layout": "IPY_MODEL_b7051f767d804196b85a9dcbc4bdba8d",
            "max": 3760,
            "min": 0,
            "orientation": "horizontal",
            "style": "IPY_MODEL_bd657397c30646bbb2ba309711f437b2",
            "value": 3760
          }
        },
        "6f7269609ac74d9e98f4520617821dcd": {
          "model_module": "@jupyter-widgets/controls",
          "model_name": "HTMLModel",
          "model_module_version": "1.5.0",
          "state": {
            "_dom_classes": [],
            "_model_module": "@jupyter-widgets/controls",
            "_model_module_version": "1.5.0",
            "_model_name": "HTMLModel",
            "_view_count": null,
            "_view_module": "@jupyter-widgets/controls",
            "_view_module_version": "1.5.0",
            "_view_name": "HTMLView",
            "description": "",
            "description_tooltip": null,
            "layout": "IPY_MODEL_457be5f753cc43ed96ec295e5d6afe78",
            "placeholder": "​",
            "style": "IPY_MODEL_020231d757a6487094bf93f28ae58a6c",
            "value": " 3760/3760 [23:23&lt;00:00,  2.85it/s]"
          }
        },
        "b6baba0478c345bfbb7174153f3108c7": {
          "model_module": "@jupyter-widgets/base",
          "model_name": "LayoutModel",
          "model_module_version": "1.2.0",
          "state": {
            "_model_module": "@jupyter-widgets/base",
            "_model_module_version": "1.2.0",
            "_model_name": "LayoutModel",
            "_view_count": null,
            "_view_module": "@jupyter-widgets/base",
            "_view_module_version": "1.2.0",
            "_view_name": "LayoutView",
            "align_content": null,
            "align_items": null,
            "align_self": null,
            "border": null,
            "bottom": null,
            "display": null,
            "flex": null,
            "flex_flow": null,
            "grid_area": null,
            "grid_auto_columns": null,
            "grid_auto_flow": null,
            "grid_auto_rows": null,
            "grid_column": null,
            "grid_gap": null,
            "grid_row": null,
            "grid_template_areas": null,
            "grid_template_columns": null,
            "grid_template_rows": null,
            "height": null,
            "justify_content": null,
            "justify_items": null,
            "left": null,
            "margin": null,
            "max_height": null,
            "max_width": null,
            "min_height": null,
            "min_width": null,
            "object_fit": null,
            "object_position": null,
            "order": null,
            "overflow": null,
            "overflow_x": null,
            "overflow_y": null,
            "padding": null,
            "right": null,
            "top": null,
            "visibility": null,
            "width": null
          }
        },
        "caf6e85374e94759813f382f80c7578f": {
          "model_module": "@jupyter-widgets/base",
          "model_name": "LayoutModel",
          "model_module_version": "1.2.0",
          "state": {
            "_model_module": "@jupyter-widgets/base",
            "_model_module_version": "1.2.0",
            "_model_name": "LayoutModel",
            "_view_count": null,
            "_view_module": "@jupyter-widgets/base",
            "_view_module_version": "1.2.0",
            "_view_name": "LayoutView",
            "align_content": null,
            "align_items": null,
            "align_self": null,
            "border": null,
            "bottom": null,
            "display": null,
            "flex": null,
            "flex_flow": null,
            "grid_area": null,
            "grid_auto_columns": null,
            "grid_auto_flow": null,
            "grid_auto_rows": null,
            "grid_column": null,
            "grid_gap": null,
            "grid_row": null,
            "grid_template_areas": null,
            "grid_template_columns": null,
            "grid_template_rows": null,
            "height": null,
            "justify_content": null,
            "justify_items": null,
            "left": null,
            "margin": null,
            "max_height": null,
            "max_width": null,
            "min_height": null,
            "min_width": null,
            "object_fit": null,
            "object_position": null,
            "order": null,
            "overflow": null,
            "overflow_x": null,
            "overflow_y": null,
            "padding": null,
            "right": null,
            "top": null,
            "visibility": null,
            "width": null
          }
        },
        "bb84ac0ca68b4f6d91b48efe17a69192": {
          "model_module": "@jupyter-widgets/controls",
          "model_name": "DescriptionStyleModel",
          "model_module_version": "1.5.0",
          "state": {
            "_model_module": "@jupyter-widgets/controls",
            "_model_module_version": "1.5.0",
            "_model_name": "DescriptionStyleModel",
            "_view_count": null,
            "_view_module": "@jupyter-widgets/base",
            "_view_module_version": "1.2.0",
            "_view_name": "StyleView",
            "description_width": ""
          }
        },
        "b7051f767d804196b85a9dcbc4bdba8d": {
          "model_module": "@jupyter-widgets/base",
          "model_name": "LayoutModel",
          "model_module_version": "1.2.0",
          "state": {
            "_model_module": "@jupyter-widgets/base",
            "_model_module_version": "1.2.0",
            "_model_name": "LayoutModel",
            "_view_count": null,
            "_view_module": "@jupyter-widgets/base",
            "_view_module_version": "1.2.0",
            "_view_name": "LayoutView",
            "align_content": null,
            "align_items": null,
            "align_self": null,
            "border": null,
            "bottom": null,
            "display": null,
            "flex": null,
            "flex_flow": null,
            "grid_area": null,
            "grid_auto_columns": null,
            "grid_auto_flow": null,
            "grid_auto_rows": null,
            "grid_column": null,
            "grid_gap": null,
            "grid_row": null,
            "grid_template_areas": null,
            "grid_template_columns": null,
            "grid_template_rows": null,
            "height": null,
            "justify_content": null,
            "justify_items": null,
            "left": null,
            "margin": null,
            "max_height": null,
            "max_width": null,
            "min_height": null,
            "min_width": null,
            "object_fit": null,
            "object_position": null,
            "order": null,
            "overflow": null,
            "overflow_x": null,
            "overflow_y": null,
            "padding": null,
            "right": null,
            "top": null,
            "visibility": null,
            "width": null
          }
        },
        "bd657397c30646bbb2ba309711f437b2": {
          "model_module": "@jupyter-widgets/controls",
          "model_name": "ProgressStyleModel",
          "model_module_version": "1.5.0",
          "state": {
            "_model_module": "@jupyter-widgets/controls",
            "_model_module_version": "1.5.0",
            "_model_name": "ProgressStyleModel",
            "_view_count": null,
            "_view_module": "@jupyter-widgets/base",
            "_view_module_version": "1.2.0",
            "_view_name": "StyleView",
            "bar_color": null,
            "description_width": ""
          }
        },
        "457be5f753cc43ed96ec295e5d6afe78": {
          "model_module": "@jupyter-widgets/base",
          "model_name": "LayoutModel",
          "model_module_version": "1.2.0",
          "state": {
            "_model_module": "@jupyter-widgets/base",
            "_model_module_version": "1.2.0",
            "_model_name": "LayoutModel",
            "_view_count": null,
            "_view_module": "@jupyter-widgets/base",
            "_view_module_version": "1.2.0",
            "_view_name": "LayoutView",
            "align_content": null,
            "align_items": null,
            "align_self": null,
            "border": null,
            "bottom": null,
            "display": null,
            "flex": null,
            "flex_flow": null,
            "grid_area": null,
            "grid_auto_columns": null,
            "grid_auto_flow": null,
            "grid_auto_rows": null,
            "grid_column": null,
            "grid_gap": null,
            "grid_row": null,
            "grid_template_areas": null,
            "grid_template_columns": null,
            "grid_template_rows": null,
            "height": null,
            "justify_content": null,
            "justify_items": null,
            "left": null,
            "margin": null,
            "max_height": null,
            "max_width": null,
            "min_height": null,
            "min_width": null,
            "object_fit": null,
            "object_position": null,
            "order": null,
            "overflow": null,
            "overflow_x": null,
            "overflow_y": null,
            "padding": null,
            "right": null,
            "top": null,
            "visibility": null,
            "width": null
          }
        },
        "020231d757a6487094bf93f28ae58a6c": {
          "model_module": "@jupyter-widgets/controls",
          "model_name": "DescriptionStyleModel",
          "model_module_version": "1.5.0",
          "state": {
            "_model_module": "@jupyter-widgets/controls",
            "_model_module_version": "1.5.0",
            "_model_name": "DescriptionStyleModel",
            "_view_count": null,
            "_view_module": "@jupyter-widgets/base",
            "_view_module_version": "1.2.0",
            "_view_name": "StyleView",
            "description_width": ""
          }
        },
        "42fb257e5b6b4962bd3eb71969dbce10": {
          "model_module": "@jupyter-widgets/controls",
          "model_name": "HBoxModel",
          "model_module_version": "1.5.0",
          "state": {
            "_dom_classes": [],
            "_model_module": "@jupyter-widgets/controls",
            "_model_module_version": "1.5.0",
            "_model_name": "HBoxModel",
            "_view_count": null,
            "_view_module": "@jupyter-widgets/controls",
            "_view_module_version": "1.5.0",
            "_view_name": "HBoxView",
            "box_style": "",
            "children": [
              "IPY_MODEL_ccb5dbc7ebac4b118d6fdfe457d35d2c",
              "IPY_MODEL_b766b7e9667f447188ce1da8bad43e26",
              "IPY_MODEL_769fc02c826d4c75865592fd92a69865"
            ],
            "layout": "IPY_MODEL_ccfd1fe4800a4ef78db69223115389fb"
          }
        },
        "ccb5dbc7ebac4b118d6fdfe457d35d2c": {
          "model_module": "@jupyter-widgets/controls",
          "model_name": "HTMLModel",
          "model_module_version": "1.5.0",
          "state": {
            "_dom_classes": [],
            "_model_module": "@jupyter-widgets/controls",
            "_model_module_version": "1.5.0",
            "_model_name": "HTMLModel",
            "_view_count": null,
            "_view_module": "@jupyter-widgets/controls",
            "_view_module_version": "1.5.0",
            "_view_name": "HTMLView",
            "description": "",
            "description_tooltip": null,
            "layout": "IPY_MODEL_4b86c38eaffe4ef3854fc1ff376a3de4",
            "placeholder": "​",
            "style": "IPY_MODEL_e6d269ee2ada46a6995436672c78a1e1",
            "value": "100%"
          }
        },
        "b766b7e9667f447188ce1da8bad43e26": {
          "model_module": "@jupyter-widgets/controls",
          "model_name": "FloatProgressModel",
          "model_module_version": "1.5.0",
          "state": {
            "_dom_classes": [],
            "_model_module": "@jupyter-widgets/controls",
            "_model_module_version": "1.5.0",
            "_model_name": "FloatProgressModel",
            "_view_count": null,
            "_view_module": "@jupyter-widgets/controls",
            "_view_module_version": "1.5.0",
            "_view_name": "ProgressView",
            "bar_style": "success",
            "description": "",
            "description_tooltip": null,
            "layout": "IPY_MODEL_d35c87da2da54df3b66a2321a355808c",
            "max": 6,
            "min": 0,
            "orientation": "horizontal",
            "style": "IPY_MODEL_21b2a9af747146a49d96f8736a2ee6bf",
            "value": 6
          }
        },
        "769fc02c826d4c75865592fd92a69865": {
          "model_module": "@jupyter-widgets/controls",
          "model_name": "HTMLModel",
          "model_module_version": "1.5.0",
          "state": {
            "_dom_classes": [],
            "_model_module": "@jupyter-widgets/controls",
            "_model_module_version": "1.5.0",
            "_model_name": "HTMLModel",
            "_view_count": null,
            "_view_module": "@jupyter-widgets/controls",
            "_view_module_version": "1.5.0",
            "_view_name": "HTMLView",
            "description": "",
            "description_tooltip": null,
            "layout": "IPY_MODEL_5675147ae56b47c487dc81606cfaef71",
            "placeholder": "​",
            "style": "IPY_MODEL_ec92a0a785ac4deb8144ca58c58b0ebe",
            "value": " 6/6 [00:00&lt;00:00, 67.84it/s]"
          }
        },
        "ccfd1fe4800a4ef78db69223115389fb": {
          "model_module": "@jupyter-widgets/base",
          "model_name": "LayoutModel",
          "model_module_version": "1.2.0",
          "state": {
            "_model_module": "@jupyter-widgets/base",
            "_model_module_version": "1.2.0",
            "_model_name": "LayoutModel",
            "_view_count": null,
            "_view_module": "@jupyter-widgets/base",
            "_view_module_version": "1.2.0",
            "_view_name": "LayoutView",
            "align_content": null,
            "align_items": null,
            "align_self": null,
            "border": null,
            "bottom": null,
            "display": null,
            "flex": null,
            "flex_flow": null,
            "grid_area": null,
            "grid_auto_columns": null,
            "grid_auto_flow": null,
            "grid_auto_rows": null,
            "grid_column": null,
            "grid_gap": null,
            "grid_row": null,
            "grid_template_areas": null,
            "grid_template_columns": null,
            "grid_template_rows": null,
            "height": null,
            "justify_content": null,
            "justify_items": null,
            "left": null,
            "margin": null,
            "max_height": null,
            "max_width": null,
            "min_height": null,
            "min_width": null,
            "object_fit": null,
            "object_position": null,
            "order": null,
            "overflow": null,
            "overflow_x": null,
            "overflow_y": null,
            "padding": null,
            "right": null,
            "top": null,
            "visibility": null,
            "width": null
          }
        },
        "4b86c38eaffe4ef3854fc1ff376a3de4": {
          "model_module": "@jupyter-widgets/base",
          "model_name": "LayoutModel",
          "model_module_version": "1.2.0",
          "state": {
            "_model_module": "@jupyter-widgets/base",
            "_model_module_version": "1.2.0",
            "_model_name": "LayoutModel",
            "_view_count": null,
            "_view_module": "@jupyter-widgets/base",
            "_view_module_version": "1.2.0",
            "_view_name": "LayoutView",
            "align_content": null,
            "align_items": null,
            "align_self": null,
            "border": null,
            "bottom": null,
            "display": null,
            "flex": null,
            "flex_flow": null,
            "grid_area": null,
            "grid_auto_columns": null,
            "grid_auto_flow": null,
            "grid_auto_rows": null,
            "grid_column": null,
            "grid_gap": null,
            "grid_row": null,
            "grid_template_areas": null,
            "grid_template_columns": null,
            "grid_template_rows": null,
            "height": null,
            "justify_content": null,
            "justify_items": null,
            "left": null,
            "margin": null,
            "max_height": null,
            "max_width": null,
            "min_height": null,
            "min_width": null,
            "object_fit": null,
            "object_position": null,
            "order": null,
            "overflow": null,
            "overflow_x": null,
            "overflow_y": null,
            "padding": null,
            "right": null,
            "top": null,
            "visibility": null,
            "width": null
          }
        },
        "e6d269ee2ada46a6995436672c78a1e1": {
          "model_module": "@jupyter-widgets/controls",
          "model_name": "DescriptionStyleModel",
          "model_module_version": "1.5.0",
          "state": {
            "_model_module": "@jupyter-widgets/controls",
            "_model_module_version": "1.5.0",
            "_model_name": "DescriptionStyleModel",
            "_view_count": null,
            "_view_module": "@jupyter-widgets/base",
            "_view_module_version": "1.2.0",
            "_view_name": "StyleView",
            "description_width": ""
          }
        },
        "d35c87da2da54df3b66a2321a355808c": {
          "model_module": "@jupyter-widgets/base",
          "model_name": "LayoutModel",
          "model_module_version": "1.2.0",
          "state": {
            "_model_module": "@jupyter-widgets/base",
            "_model_module_version": "1.2.0",
            "_model_name": "LayoutModel",
            "_view_count": null,
            "_view_module": "@jupyter-widgets/base",
            "_view_module_version": "1.2.0",
            "_view_name": "LayoutView",
            "align_content": null,
            "align_items": null,
            "align_self": null,
            "border": null,
            "bottom": null,
            "display": null,
            "flex": null,
            "flex_flow": null,
            "grid_area": null,
            "grid_auto_columns": null,
            "grid_auto_flow": null,
            "grid_auto_rows": null,
            "grid_column": null,
            "grid_gap": null,
            "grid_row": null,
            "grid_template_areas": null,
            "grid_template_columns": null,
            "grid_template_rows": null,
            "height": null,
            "justify_content": null,
            "justify_items": null,
            "left": null,
            "margin": null,
            "max_height": null,
            "max_width": null,
            "min_height": null,
            "min_width": null,
            "object_fit": null,
            "object_position": null,
            "order": null,
            "overflow": null,
            "overflow_x": null,
            "overflow_y": null,
            "padding": null,
            "right": null,
            "top": null,
            "visibility": null,
            "width": null
          }
        },
        "21b2a9af747146a49d96f8736a2ee6bf": {
          "model_module": "@jupyter-widgets/controls",
          "model_name": "ProgressStyleModel",
          "model_module_version": "1.5.0",
          "state": {
            "_model_module": "@jupyter-widgets/controls",
            "_model_module_version": "1.5.0",
            "_model_name": "ProgressStyleModel",
            "_view_count": null,
            "_view_module": "@jupyter-widgets/base",
            "_view_module_version": "1.2.0",
            "_view_name": "StyleView",
            "bar_color": null,
            "description_width": ""
          }
        },
        "5675147ae56b47c487dc81606cfaef71": {
          "model_module": "@jupyter-widgets/base",
          "model_name": "LayoutModel",
          "model_module_version": "1.2.0",
          "state": {
            "_model_module": "@jupyter-widgets/base",
            "_model_module_version": "1.2.0",
            "_model_name": "LayoutModel",
            "_view_count": null,
            "_view_module": "@jupyter-widgets/base",
            "_view_module_version": "1.2.0",
            "_view_name": "LayoutView",
            "align_content": null,
            "align_items": null,
            "align_self": null,
            "border": null,
            "bottom": null,
            "display": null,
            "flex": null,
            "flex_flow": null,
            "grid_area": null,
            "grid_auto_columns": null,
            "grid_auto_flow": null,
            "grid_auto_rows": null,
            "grid_column": null,
            "grid_gap": null,
            "grid_row": null,
            "grid_template_areas": null,
            "grid_template_columns": null,
            "grid_template_rows": null,
            "height": null,
            "justify_content": null,
            "justify_items": null,
            "left": null,
            "margin": null,
            "max_height": null,
            "max_width": null,
            "min_height": null,
            "min_width": null,
            "object_fit": null,
            "object_position": null,
            "order": null,
            "overflow": null,
            "overflow_x": null,
            "overflow_y": null,
            "padding": null,
            "right": null,
            "top": null,
            "visibility": null,
            "width": null
          }
        },
        "ec92a0a785ac4deb8144ca58c58b0ebe": {
          "model_module": "@jupyter-widgets/controls",
          "model_name": "DescriptionStyleModel",
          "model_module_version": "1.5.0",
          "state": {
            "_model_module": "@jupyter-widgets/controls",
            "_model_module_version": "1.5.0",
            "_model_name": "DescriptionStyleModel",
            "_view_count": null,
            "_view_module": "@jupyter-widgets/base",
            "_view_module_version": "1.2.0",
            "_view_name": "StyleView",
            "description_width": ""
          }
        },
        "8297b0ceebd043c092533c11f3194b9b": {
          "model_module": "@jupyter-widgets/controls",
          "model_name": "HBoxModel",
          "model_module_version": "1.5.0",
          "state": {
            "_dom_classes": [],
            "_model_module": "@jupyter-widgets/controls",
            "_model_module_version": "1.5.0",
            "_model_name": "HBoxModel",
            "_view_count": null,
            "_view_module": "@jupyter-widgets/controls",
            "_view_module_version": "1.5.0",
            "_view_name": "HBoxView",
            "box_style": "",
            "children": [
              "IPY_MODEL_edc488b30a7c43fea586a20b811b4b44",
              "IPY_MODEL_3395d084942c4946a81a9ebe3251b083",
              "IPY_MODEL_4981ea81bc74461bb06ac0d120eed40d"
            ],
            "layout": "IPY_MODEL_63fa7e146bcd4f66b25dbc972eb53399"
          }
        },
        "edc488b30a7c43fea586a20b811b4b44": {
          "model_module": "@jupyter-widgets/controls",
          "model_name": "HTMLModel",
          "model_module_version": "1.5.0",
          "state": {
            "_dom_classes": [],
            "_model_module": "@jupyter-widgets/controls",
            "_model_module_version": "1.5.0",
            "_model_name": "HTMLModel",
            "_view_count": null,
            "_view_module": "@jupyter-widgets/controls",
            "_view_module_version": "1.5.0",
            "_view_name": "HTMLView",
            "description": "",
            "description_tooltip": null,
            "layout": "IPY_MODEL_60eb19b6536b497686096ad0d0a1d40b",
            "placeholder": "​",
            "style": "IPY_MODEL_0224ffe98f854411adec38d50a074203",
            "value": "100%"
          }
        },
        "3395d084942c4946a81a9ebe3251b083": {
          "model_module": "@jupyter-widgets/controls",
          "model_name": "FloatProgressModel",
          "model_module_version": "1.5.0",
          "state": {
            "_dom_classes": [],
            "_model_module": "@jupyter-widgets/controls",
            "_model_module_version": "1.5.0",
            "_model_name": "FloatProgressModel",
            "_view_count": null,
            "_view_module": "@jupyter-widgets/controls",
            "_view_module_version": "1.5.0",
            "_view_name": "ProgressView",
            "bar_style": "success",
            "description": "",
            "description_tooltip": null,
            "layout": "IPY_MODEL_06ad86c0bded47548e816eedf17117f6",
            "max": 3760,
            "min": 0,
            "orientation": "horizontal",
            "style": "IPY_MODEL_4457c955da164335889d22213963c5ea",
            "value": 3760
          }
        },
        "4981ea81bc74461bb06ac0d120eed40d": {
          "model_module": "@jupyter-widgets/controls",
          "model_name": "HTMLModel",
          "model_module_version": "1.5.0",
          "state": {
            "_dom_classes": [],
            "_model_module": "@jupyter-widgets/controls",
            "_model_module_version": "1.5.0",
            "_model_name": "HTMLModel",
            "_view_count": null,
            "_view_module": "@jupyter-widgets/controls",
            "_view_module_version": "1.5.0",
            "_view_name": "HTMLView",
            "description": "",
            "description_tooltip": null,
            "layout": "IPY_MODEL_e01e172b983d4856bbe1bf51e3839bc0",
            "placeholder": "​",
            "style": "IPY_MODEL_cfee2241904345a1a2b540d0f95b08c5",
            "value": " 3760/3760 [23:10&lt;00:00,  2.47it/s]"
          }
        },
        "63fa7e146bcd4f66b25dbc972eb53399": {
          "model_module": "@jupyter-widgets/base",
          "model_name": "LayoutModel",
          "model_module_version": "1.2.0",
          "state": {
            "_model_module": "@jupyter-widgets/base",
            "_model_module_version": "1.2.0",
            "_model_name": "LayoutModel",
            "_view_count": null,
            "_view_module": "@jupyter-widgets/base",
            "_view_module_version": "1.2.0",
            "_view_name": "LayoutView",
            "align_content": null,
            "align_items": null,
            "align_self": null,
            "border": null,
            "bottom": null,
            "display": null,
            "flex": null,
            "flex_flow": null,
            "grid_area": null,
            "grid_auto_columns": null,
            "grid_auto_flow": null,
            "grid_auto_rows": null,
            "grid_column": null,
            "grid_gap": null,
            "grid_row": null,
            "grid_template_areas": null,
            "grid_template_columns": null,
            "grid_template_rows": null,
            "height": null,
            "justify_content": null,
            "justify_items": null,
            "left": null,
            "margin": null,
            "max_height": null,
            "max_width": null,
            "min_height": null,
            "min_width": null,
            "object_fit": null,
            "object_position": null,
            "order": null,
            "overflow": null,
            "overflow_x": null,
            "overflow_y": null,
            "padding": null,
            "right": null,
            "top": null,
            "visibility": null,
            "width": null
          }
        },
        "60eb19b6536b497686096ad0d0a1d40b": {
          "model_module": "@jupyter-widgets/base",
          "model_name": "LayoutModel",
          "model_module_version": "1.2.0",
          "state": {
            "_model_module": "@jupyter-widgets/base",
            "_model_module_version": "1.2.0",
            "_model_name": "LayoutModel",
            "_view_count": null,
            "_view_module": "@jupyter-widgets/base",
            "_view_module_version": "1.2.0",
            "_view_name": "LayoutView",
            "align_content": null,
            "align_items": null,
            "align_self": null,
            "border": null,
            "bottom": null,
            "display": null,
            "flex": null,
            "flex_flow": null,
            "grid_area": null,
            "grid_auto_columns": null,
            "grid_auto_flow": null,
            "grid_auto_rows": null,
            "grid_column": null,
            "grid_gap": null,
            "grid_row": null,
            "grid_template_areas": null,
            "grid_template_columns": null,
            "grid_template_rows": null,
            "height": null,
            "justify_content": null,
            "justify_items": null,
            "left": null,
            "margin": null,
            "max_height": null,
            "max_width": null,
            "min_height": null,
            "min_width": null,
            "object_fit": null,
            "object_position": null,
            "order": null,
            "overflow": null,
            "overflow_x": null,
            "overflow_y": null,
            "padding": null,
            "right": null,
            "top": null,
            "visibility": null,
            "width": null
          }
        },
        "0224ffe98f854411adec38d50a074203": {
          "model_module": "@jupyter-widgets/controls",
          "model_name": "DescriptionStyleModel",
          "model_module_version": "1.5.0",
          "state": {
            "_model_module": "@jupyter-widgets/controls",
            "_model_module_version": "1.5.0",
            "_model_name": "DescriptionStyleModel",
            "_view_count": null,
            "_view_module": "@jupyter-widgets/base",
            "_view_module_version": "1.2.0",
            "_view_name": "StyleView",
            "description_width": ""
          }
        },
        "06ad86c0bded47548e816eedf17117f6": {
          "model_module": "@jupyter-widgets/base",
          "model_name": "LayoutModel",
          "model_module_version": "1.2.0",
          "state": {
            "_model_module": "@jupyter-widgets/base",
            "_model_module_version": "1.2.0",
            "_model_name": "LayoutModel",
            "_view_count": null,
            "_view_module": "@jupyter-widgets/base",
            "_view_module_version": "1.2.0",
            "_view_name": "LayoutView",
            "align_content": null,
            "align_items": null,
            "align_self": null,
            "border": null,
            "bottom": null,
            "display": null,
            "flex": null,
            "flex_flow": null,
            "grid_area": null,
            "grid_auto_columns": null,
            "grid_auto_flow": null,
            "grid_auto_rows": null,
            "grid_column": null,
            "grid_gap": null,
            "grid_row": null,
            "grid_template_areas": null,
            "grid_template_columns": null,
            "grid_template_rows": null,
            "height": null,
            "justify_content": null,
            "justify_items": null,
            "left": null,
            "margin": null,
            "max_height": null,
            "max_width": null,
            "min_height": null,
            "min_width": null,
            "object_fit": null,
            "object_position": null,
            "order": null,
            "overflow": null,
            "overflow_x": null,
            "overflow_y": null,
            "padding": null,
            "right": null,
            "top": null,
            "visibility": null,
            "width": null
          }
        },
        "4457c955da164335889d22213963c5ea": {
          "model_module": "@jupyter-widgets/controls",
          "model_name": "ProgressStyleModel",
          "model_module_version": "1.5.0",
          "state": {
            "_model_module": "@jupyter-widgets/controls",
            "_model_module_version": "1.5.0",
            "_model_name": "ProgressStyleModel",
            "_view_count": null,
            "_view_module": "@jupyter-widgets/base",
            "_view_module_version": "1.2.0",
            "_view_name": "StyleView",
            "bar_color": null,
            "description_width": ""
          }
        },
        "e01e172b983d4856bbe1bf51e3839bc0": {
          "model_module": "@jupyter-widgets/base",
          "model_name": "LayoutModel",
          "model_module_version": "1.2.0",
          "state": {
            "_model_module": "@jupyter-widgets/base",
            "_model_module_version": "1.2.0",
            "_model_name": "LayoutModel",
            "_view_count": null,
            "_view_module": "@jupyter-widgets/base",
            "_view_module_version": "1.2.0",
            "_view_name": "LayoutView",
            "align_content": null,
            "align_items": null,
            "align_self": null,
            "border": null,
            "bottom": null,
            "display": null,
            "flex": null,
            "flex_flow": null,
            "grid_area": null,
            "grid_auto_columns": null,
            "grid_auto_flow": null,
            "grid_auto_rows": null,
            "grid_column": null,
            "grid_gap": null,
            "grid_row": null,
            "grid_template_areas": null,
            "grid_template_columns": null,
            "grid_template_rows": null,
            "height": null,
            "justify_content": null,
            "justify_items": null,
            "left": null,
            "margin": null,
            "max_height": null,
            "max_width": null,
            "min_height": null,
            "min_width": null,
            "object_fit": null,
            "object_position": null,
            "order": null,
            "overflow": null,
            "overflow_x": null,
            "overflow_y": null,
            "padding": null,
            "right": null,
            "top": null,
            "visibility": null,
            "width": null
          }
        },
        "cfee2241904345a1a2b540d0f95b08c5": {
          "model_module": "@jupyter-widgets/controls",
          "model_name": "DescriptionStyleModel",
          "model_module_version": "1.5.0",
          "state": {
            "_model_module": "@jupyter-widgets/controls",
            "_model_module_version": "1.5.0",
            "_model_name": "DescriptionStyleModel",
            "_view_count": null,
            "_view_module": "@jupyter-widgets/base",
            "_view_module_version": "1.2.0",
            "_view_name": "StyleView",
            "description_width": ""
          }
        },
        "20b231da8a22468699ad4525c14de5b3": {
          "model_module": "@jupyter-widgets/controls",
          "model_name": "HBoxModel",
          "model_module_version": "1.5.0",
          "state": {
            "_dom_classes": [],
            "_model_module": "@jupyter-widgets/controls",
            "_model_module_version": "1.5.0",
            "_model_name": "HBoxModel",
            "_view_count": null,
            "_view_module": "@jupyter-widgets/controls",
            "_view_module_version": "1.5.0",
            "_view_name": "HBoxView",
            "box_style": "",
            "children": [
              "IPY_MODEL_61cb5ff98d8a4638a938002a405c25f5",
              "IPY_MODEL_5c5a175be9a4480f840056edbed53ebf",
              "IPY_MODEL_8a3e34edcda9445b84698cc5b12f0c8f"
            ],
            "layout": "IPY_MODEL_6c384a8b5bc5463e917631d5a1b7b18c"
          }
        },
        "61cb5ff98d8a4638a938002a405c25f5": {
          "model_module": "@jupyter-widgets/controls",
          "model_name": "HTMLModel",
          "model_module_version": "1.5.0",
          "state": {
            "_dom_classes": [],
            "_model_module": "@jupyter-widgets/controls",
            "_model_module_version": "1.5.0",
            "_model_name": "HTMLModel",
            "_view_count": null,
            "_view_module": "@jupyter-widgets/controls",
            "_view_module_version": "1.5.0",
            "_view_name": "HTMLView",
            "description": "",
            "description_tooltip": null,
            "layout": "IPY_MODEL_b786f06c6ff543af884022b1649badd8",
            "placeholder": "​",
            "style": "IPY_MODEL_96836d6fb7a34e8ea3b3bc200d76ae21",
            "value": "100%"
          }
        },
        "5c5a175be9a4480f840056edbed53ebf": {
          "model_module": "@jupyter-widgets/controls",
          "model_name": "FloatProgressModel",
          "model_module_version": "1.5.0",
          "state": {
            "_dom_classes": [],
            "_model_module": "@jupyter-widgets/controls",
            "_model_module_version": "1.5.0",
            "_model_name": "FloatProgressModel",
            "_view_count": null,
            "_view_module": "@jupyter-widgets/controls",
            "_view_module_version": "1.5.0",
            "_view_name": "ProgressView",
            "bar_style": "success",
            "description": "",
            "description_tooltip": null,
            "layout": "IPY_MODEL_e9d9b9af213d4184bb24800726199bcf",
            "max": 6,
            "min": 0,
            "orientation": "horizontal",
            "style": "IPY_MODEL_e54348f824e64e3a995e596c24b0e474",
            "value": 6
          }
        },
        "8a3e34edcda9445b84698cc5b12f0c8f": {
          "model_module": "@jupyter-widgets/controls",
          "model_name": "HTMLModel",
          "model_module_version": "1.5.0",
          "state": {
            "_dom_classes": [],
            "_model_module": "@jupyter-widgets/controls",
            "_model_module_version": "1.5.0",
            "_model_name": "HTMLModel",
            "_view_count": null,
            "_view_module": "@jupyter-widgets/controls",
            "_view_module_version": "1.5.0",
            "_view_name": "HTMLView",
            "description": "",
            "description_tooltip": null,
            "layout": "IPY_MODEL_6c56c66322364348a259cf80625a8580",
            "placeholder": "​",
            "style": "IPY_MODEL_c47703d3b5b447c581ae18eeb5690119",
            "value": " 6/6 [00:00&lt;00:00, 53.73it/s]"
          }
        },
        "6c384a8b5bc5463e917631d5a1b7b18c": {
          "model_module": "@jupyter-widgets/base",
          "model_name": "LayoutModel",
          "model_module_version": "1.2.0",
          "state": {
            "_model_module": "@jupyter-widgets/base",
            "_model_module_version": "1.2.0",
            "_model_name": "LayoutModel",
            "_view_count": null,
            "_view_module": "@jupyter-widgets/base",
            "_view_module_version": "1.2.0",
            "_view_name": "LayoutView",
            "align_content": null,
            "align_items": null,
            "align_self": null,
            "border": null,
            "bottom": null,
            "display": null,
            "flex": null,
            "flex_flow": null,
            "grid_area": null,
            "grid_auto_columns": null,
            "grid_auto_flow": null,
            "grid_auto_rows": null,
            "grid_column": null,
            "grid_gap": null,
            "grid_row": null,
            "grid_template_areas": null,
            "grid_template_columns": null,
            "grid_template_rows": null,
            "height": null,
            "justify_content": null,
            "justify_items": null,
            "left": null,
            "margin": null,
            "max_height": null,
            "max_width": null,
            "min_height": null,
            "min_width": null,
            "object_fit": null,
            "object_position": null,
            "order": null,
            "overflow": null,
            "overflow_x": null,
            "overflow_y": null,
            "padding": null,
            "right": null,
            "top": null,
            "visibility": null,
            "width": null
          }
        },
        "b786f06c6ff543af884022b1649badd8": {
          "model_module": "@jupyter-widgets/base",
          "model_name": "LayoutModel",
          "model_module_version": "1.2.0",
          "state": {
            "_model_module": "@jupyter-widgets/base",
            "_model_module_version": "1.2.0",
            "_model_name": "LayoutModel",
            "_view_count": null,
            "_view_module": "@jupyter-widgets/base",
            "_view_module_version": "1.2.0",
            "_view_name": "LayoutView",
            "align_content": null,
            "align_items": null,
            "align_self": null,
            "border": null,
            "bottom": null,
            "display": null,
            "flex": null,
            "flex_flow": null,
            "grid_area": null,
            "grid_auto_columns": null,
            "grid_auto_flow": null,
            "grid_auto_rows": null,
            "grid_column": null,
            "grid_gap": null,
            "grid_row": null,
            "grid_template_areas": null,
            "grid_template_columns": null,
            "grid_template_rows": null,
            "height": null,
            "justify_content": null,
            "justify_items": null,
            "left": null,
            "margin": null,
            "max_height": null,
            "max_width": null,
            "min_height": null,
            "min_width": null,
            "object_fit": null,
            "object_position": null,
            "order": null,
            "overflow": null,
            "overflow_x": null,
            "overflow_y": null,
            "padding": null,
            "right": null,
            "top": null,
            "visibility": null,
            "width": null
          }
        },
        "96836d6fb7a34e8ea3b3bc200d76ae21": {
          "model_module": "@jupyter-widgets/controls",
          "model_name": "DescriptionStyleModel",
          "model_module_version": "1.5.0",
          "state": {
            "_model_module": "@jupyter-widgets/controls",
            "_model_module_version": "1.5.0",
            "_model_name": "DescriptionStyleModel",
            "_view_count": null,
            "_view_module": "@jupyter-widgets/base",
            "_view_module_version": "1.2.0",
            "_view_name": "StyleView",
            "description_width": ""
          }
        },
        "e9d9b9af213d4184bb24800726199bcf": {
          "model_module": "@jupyter-widgets/base",
          "model_name": "LayoutModel",
          "model_module_version": "1.2.0",
          "state": {
            "_model_module": "@jupyter-widgets/base",
            "_model_module_version": "1.2.0",
            "_model_name": "LayoutModel",
            "_view_count": null,
            "_view_module": "@jupyter-widgets/base",
            "_view_module_version": "1.2.0",
            "_view_name": "LayoutView",
            "align_content": null,
            "align_items": null,
            "align_self": null,
            "border": null,
            "bottom": null,
            "display": null,
            "flex": null,
            "flex_flow": null,
            "grid_area": null,
            "grid_auto_columns": null,
            "grid_auto_flow": null,
            "grid_auto_rows": null,
            "grid_column": null,
            "grid_gap": null,
            "grid_row": null,
            "grid_template_areas": null,
            "grid_template_columns": null,
            "grid_template_rows": null,
            "height": null,
            "justify_content": null,
            "justify_items": null,
            "left": null,
            "margin": null,
            "max_height": null,
            "max_width": null,
            "min_height": null,
            "min_width": null,
            "object_fit": null,
            "object_position": null,
            "order": null,
            "overflow": null,
            "overflow_x": null,
            "overflow_y": null,
            "padding": null,
            "right": null,
            "top": null,
            "visibility": null,
            "width": null
          }
        },
        "e54348f824e64e3a995e596c24b0e474": {
          "model_module": "@jupyter-widgets/controls",
          "model_name": "ProgressStyleModel",
          "model_module_version": "1.5.0",
          "state": {
            "_model_module": "@jupyter-widgets/controls",
            "_model_module_version": "1.5.0",
            "_model_name": "ProgressStyleModel",
            "_view_count": null,
            "_view_module": "@jupyter-widgets/base",
            "_view_module_version": "1.2.0",
            "_view_name": "StyleView",
            "bar_color": null,
            "description_width": ""
          }
        },
        "6c56c66322364348a259cf80625a8580": {
          "model_module": "@jupyter-widgets/base",
          "model_name": "LayoutModel",
          "model_module_version": "1.2.0",
          "state": {
            "_model_module": "@jupyter-widgets/base",
            "_model_module_version": "1.2.0",
            "_model_name": "LayoutModel",
            "_view_count": null,
            "_view_module": "@jupyter-widgets/base",
            "_view_module_version": "1.2.0",
            "_view_name": "LayoutView",
            "align_content": null,
            "align_items": null,
            "align_self": null,
            "border": null,
            "bottom": null,
            "display": null,
            "flex": null,
            "flex_flow": null,
            "grid_area": null,
            "grid_auto_columns": null,
            "grid_auto_flow": null,
            "grid_auto_rows": null,
            "grid_column": null,
            "grid_gap": null,
            "grid_row": null,
            "grid_template_areas": null,
            "grid_template_columns": null,
            "grid_template_rows": null,
            "height": null,
            "justify_content": null,
            "justify_items": null,
            "left": null,
            "margin": null,
            "max_height": null,
            "max_width": null,
            "min_height": null,
            "min_width": null,
            "object_fit": null,
            "object_position": null,
            "order": null,
            "overflow": null,
            "overflow_x": null,
            "overflow_y": null,
            "padding": null,
            "right": null,
            "top": null,
            "visibility": null,
            "width": null
          }
        },
        "c47703d3b5b447c581ae18eeb5690119": {
          "model_module": "@jupyter-widgets/controls",
          "model_name": "DescriptionStyleModel",
          "model_module_version": "1.5.0",
          "state": {
            "_model_module": "@jupyter-widgets/controls",
            "_model_module_version": "1.5.0",
            "_model_name": "DescriptionStyleModel",
            "_view_count": null,
            "_view_module": "@jupyter-widgets/base",
            "_view_module_version": "1.2.0",
            "_view_name": "StyleView",
            "description_width": ""
          }
        }
      }
    },
    "accelerator": "GPU"
  },
  "nbformat": 4,
  "nbformat_minor": 0
}